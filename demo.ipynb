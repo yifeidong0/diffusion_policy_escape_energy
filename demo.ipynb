{
 "cells": [
  {
   "cell_type": "markdown",
   "id": "970e2b9e-ccce-47b2-bccc-9471841cce44",
   "metadata": {},
   "source": [
    "## Installation required in Colab"
   ]
  },
  {
   "cell_type": "code",
   "execution_count": 1,
   "id": "tckkiSjNY0Is",
   "metadata": {
    "colab": {
     "base_uri": "https://localhost:8080/"
    },
    "id": "tckkiSjNY0Is",
    "outputId": "627b5bff-c792-4954-947f-40baab0de93c"
   },
   "outputs": [
    {
     "name": "stdout",
     "output_type": "stream",
     "text": [
      "Cloning into 'diffusion_policy_quadrotor'...\n",
      "remote: Enumerating objects: 328, done.\u001b[K\n",
      "remote: Counting objects: 100% (25/25), done.\u001b[K\n",
      "remote: Compressing objects: 100% (18/18), done.\u001b[K\n",
      "remote: Total 328 (delta 12), reused 17 (delta 7), pack-reused 303 (from 1)\u001b[K\n",
      "Receiving objects: 100% (328/328), 15.44 MiB | 11.77 MiB/s, done.\n",
      "Resolving deltas: 100% (157/157), done.\n"
     ]
    }
   ],
   "source": [
    "! git clone https://github.com/shaoanlu/diffusion_policy_quadrotor.git"
   ]
  },
  {
   "cell_type": "code",
   "execution_count": 2,
   "id": "7rrgEckSZEdx",
   "metadata": {
    "colab": {
     "base_uri": "https://localhost:8080/"
    },
    "id": "7rrgEckSZEdx",
    "outputId": "5cd7bcf5-5b4c-4a48-996b-7257cdf7f03e"
   },
   "outputs": [
    {
     "name": "stdout",
     "output_type": "stream",
     "text": [
      "/home/yif/Documents/KTH/git/diffusion_policy_escape_energy/diffusion_policy_quadrotor\n",
      "\u001b[0m\u001b[01;34massets\u001b[0m/  \u001b[01;34mcore\u001b[0m/       learning_note.md  pyproject.toml  \u001b[01;34mtests\u001b[0m/       \u001b[01;34mutils\u001b[0m/\n",
      "\u001b[01;34mconfig\u001b[0m/  demo.ipynb  LICENSE           README.md       train.ipynb\n"
     ]
    }
   ],
   "source": [
    "%cd diffusion_policy_quadrotor\n",
    "%ls"
   ]
  },
  {
   "cell_type": "code",
   "execution_count": 3,
   "id": "rK2Hjrq_Y4T6",
   "metadata": {
    "id": "rK2Hjrq_Y4T6"
   },
   "outputs": [],
   "source": [
    "%%capture\n",
    "!pip3 install torch==1.13.1 torchvision==0.14.1 diffusers==0.18.2 jax==0.4.23 jaxlib==0.4.23"
   ]
  },
  {
   "cell_type": "markdown",
   "id": "ee7a0434-3333-4502-9563-adcc12d4a413",
   "metadata": {
    "id": "ee7a0434-3333-4502-9563-adcc12d4a413"
   },
   "source": [
    "## Description\n",
    "\n",
    "This notebook demonstrate using a diffusion policy controller to drive a quadrotor moving from (0, 0) to (5, 5) with random circle obstacles presented."
   ]
  },
  {
   "cell_type": "code",
   "execution_count": 4,
   "id": "fffc0bb0-584b-4602-885f-a1cfa06d21b6",
   "metadata": {
    "id": "fffc0bb0-584b-4602-885f-a1cfa06d21b6"
   },
   "outputs": [],
   "source": [
    "%load_ext autoreload\n",
    "%autoreload 2"
   ]
  },
  {
   "cell_type": "code",
   "execution_count": 5,
   "id": "670f6c7f-93c9-47dc-b2e4-81ea8949b3f9",
   "metadata": {
    "id": "670f6c7f-93c9-47dc-b2e4-81ea8949b3f9"
   },
   "outputs": [
    {
     "name": "stderr",
     "output_type": "stream",
     "text": [
      "/home/yif/.local/lib/python3.10/site-packages/tqdm/auto.py:22: TqdmWarning: IProgress not found. Please update jupyter and ipywidgets. See https://ipywidgets.readthedocs.io/en/stable/user_install.html\n",
      "  from .autonotebook import tqdm as notebook_tqdm\n"
     ]
    }
   ],
   "source": [
    "import numpy as np\n",
    "import os\n",
    "import torch\n",
    "import yaml\n",
    "import collections\n",
    "from tqdm.auto import tqdm\n",
    "import gdown"
   ]
  },
  {
   "cell_type": "code",
   "execution_count": 6,
   "id": "fa8f1de5-924a-4889-aacc-bac7601012c5",
   "metadata": {
    "colab": {
     "base_uri": "https://localhost:8080/",
     "height": 87,
     "referenced_widgets": [
      "49a3b00a700b40f8b1de991477efe2b9",
      "fb587d9dbfa84d72af2b3c45d46c2cc1",
      "7487091f00dd4e3bba795ebab6b0f5b1",
      "a817704da5184ef6922fb679bf0c395e",
      "a3a8dd4705b64b5f9b21b2e3d4ce24b8",
      "3a953a43ed574a4c8e8ebc52d5993347",
      "1900dfab0c6e4f8a8350f2d024fc22c6",
      "a9afd6d521f44216adb119a54f531376",
      "632b2841ae2d44b18e67fe288ba136a1",
      "01969ff8ad4140328cda2a14df8fe439",
      "fca3ddf1eb6d439ba86878e00e4560fd"
     ]
    },
    "id": "fa8f1de5-924a-4889-aacc-bac7601012c5",
    "outputId": "730f9c66-b606-4840-f614-540a89379eef"
   },
   "outputs": [
    {
     "name": "stderr",
     "output_type": "stream",
     "text": [
      "/home/yif/.local/lib/python3.10/site-packages/torch/cuda/__init__.py:88: UserWarning: CUDA initialization: CUDA unknown error - this may be due to an incorrectly set up environment, e.g. changing env variable CUDA_VISIBLE_DEVICES after program start. Setting the available devices to be zero. (Triggered internally at ../c10/cuda/CUDAFunctions.cpp:109.)\n",
      "  return torch._C._cuda_getDeviceCount() > 0\n"
     ]
    }
   ],
   "source": [
    "from utils.normalizers import LinearNormalizer\n",
    "from core.controllers.quadrotor_diffusion_policy import QuadrotorDiffusionPolicy, build_networks_from_config, build_noise_scheduler_from_config\n",
    "from core.controllers.quadrotor_clf_cbf_qp import QuadrotorCLFCBFController\n",
    "from core.env.planar_quadrotor import PlanarQuadrotorEnv\n",
    "from utils.visualization import visualize_quadrotor_simulation_result"
   ]
  },
  {
   "cell_type": "markdown",
   "id": "06cf3d67-3f96-457e-a634-77b6e5f2e31e",
   "metadata": {
    "id": "06cf3d67-3f96-457e-a634-77b6e5f2e31e"
   },
   "source": [
    "## Load the config file"
   ]
  },
  {
   "cell_type": "code",
   "execution_count": 7,
   "id": "0c8c8f90-8ac2-4f87-943d-e41b7ff9ff6a",
   "metadata": {
    "id": "0c8c8f90-8ac2-4f87-943d-e41b7ff9ff6a",
    "scrolled": true
   },
   "outputs": [],
   "source": [
    "with open(\"config/config.yaml\", \"r\") as file:\n",
    "    config = yaml.safe_load(file)\n",
    "\n",
    "# Whether to use a finetuned model trained following tricks mentioned in\n",
    "# [Fine-Tuning Image-Conditional Diffusion Models is Easier than You Think](https://arxiv.org/abs/2409.11355)\n",
    "use_single_step_inference = config.get(\"controller\").get(\"common\").get(\"use_single_step_inference\", False)"
   ]
  },
  {
   "cell_type": "markdown",
   "id": "dd56c89a-520f-46b5-b9d6-ebef0160b184",
   "metadata": {
    "id": "dd56c89a-520f-46b5-b9d6-ebef0160b184"
   },
   "source": [
    "## Instantiate the controller"
   ]
  },
  {
   "cell_type": "code",
   "execution_count": 8,
   "id": "cb0707a7-3d66-46da-b722-2b2f42d8e099",
   "metadata": {
    "id": "cb0707a7-3d66-46da-b722-2b2f42d8e099"
   },
   "outputs": [],
   "source": [
    "clf_cbf_controller = QuadrotorCLFCBFController(config=config)\n",
    "\n",
    "controller = QuadrotorDiffusionPolicy(\n",
    "    model=build_networks_from_config(config),\n",
    "    noise_scheduler=build_noise_scheduler_from_config(config),\n",
    "    normalizer=LinearNormalizer(),\n",
    "    clf_cbf_controller=None,  # set as clf_cbf_controller to enable CLF-CBF traj refinement\n",
    "    config=config,\n",
    "    device=\"cuda\" if torch.cuda.is_available() else \"cpu\",\n",
    ")"
   ]
  },
  {
   "cell_type": "markdown",
   "id": "cac28d88-e304-46b3-bc28-5fc54cd3705d",
   "metadata": {
    "id": "cac28d88-e304-46b3-bc28-5fc54cd3705d"
   },
   "source": [
    "## Download and load pretrained weights"
   ]
  },
  {
   "cell_type": "code",
   "execution_count": 9,
   "id": "727e3937-dd21-46a2-9fff-c41c1d653022",
   "metadata": {},
   "outputs": [
    {
     "name": "stderr",
     "output_type": "stream",
     "text": [
      "Downloading...\n",
      "From (original): https://drive.google.com/uc?id=1UhxlzoQ6DOt0HZhokzU4ktl2MfzlA2Ii\n",
      "From (redirected): https://drive.google.com/uc?id=1UhxlzoQ6DOt0HZhokzU4ktl2MfzlA2Ii&confirm=t&uuid=f96ca766-9d7c-450d-932e-ddfb8c38642c\n",
      "To: /home/yif/Documents/KTH/git/diffusion_policy_escape_energy/diffusion_policy_quadrotor/ema_noise_pred_net2_ph96_oh2_ah10_v8_singlestepFT.ckpt\n",
      "100%|██████████| 269M/269M [00:15<00:00, 17.5MB/s] \n"
     ]
    }
   ],
   "source": [
    "# download pretrained weights from Google drive\n",
    "if use_single_step_inference:\n",
    "    ckpts_path = \"ema_noise_pred_net2_ph96_oh2_ah10_v8_singlestepFT.ckpt\"\n",
    "    if not os.path.isfile(ckpts_path):\n",
    "        gdown.download(id=\"1UhxlzoQ6DOt0HZhokzU4ktl2MfzlA2Ii\", output=ckpts_path, quiet=False)\n",
    "else:\n",
    "    ckpts_path = \"ema_noise_pred_net2_ph96_oh2_ah10_v8.ckpt\"\n",
    "    if not os.path.isfile(ckpts_path):\n",
    "        gdown.download(id=\"1-as6EqMLECxU7IVLZZIEDAcXMox_RkI_\", output=ckpts_path, quiet=False)\n",
    "\n",
    "# load weights\n",
    "controller.load_weights(ckpts_path)"
   ]
  },
  {
   "cell_type": "markdown",
   "id": "a0fda0f4-f5cb-4fa9-86da-abf991edfb4b",
   "metadata": {
    "id": "a0fda0f4-f5cb-4fa9-86da-abf991edfb4b"
   },
   "source": [
    "## Instantiate the simulator"
   ]
  },
  {
   "cell_type": "code",
   "execution_count": 10,
   "id": "6b0ae93e-8fe6-40af-92e6-12643aa21f6d",
   "metadata": {
    "id": "6b0ae93e-8fe6-40af-92e6-12643aa21f6d"
   },
   "outputs": [],
   "source": [
    "sim = PlanarQuadrotorEnv(config)"
   ]
  },
  {
   "cell_type": "markdown",
   "id": "1f1c50bc-e529-432f-92a9-9bb3c6e9fdf7",
   "metadata": {
    "id": "1f1c50bc-e529-432f-92a9-9bb3c6e9fdf7"
   },
   "source": [
    "## Run simulation"
   ]
  },
  {
   "cell_type": "code",
   "execution_count": 11,
   "id": "eecaed67-9814-4a62-aa7f-2caf5d5b43aa",
   "metadata": {
    "id": "eecaed67-9814-4a62-aa7f-2caf5d5b43aa"
   },
   "outputs": [],
   "source": [
    "def generate_random_obstacles():\n",
    "    num_obstacles = np.random.randint(1, 8)\n",
    "    obs_center, obs_radius = np.empty((num_obstacles, 2)), np.ones((num_obstacles,))\n",
    "    for obs_idx in range(num_obstacles):  # set XY position of each obstacle\n",
    "        obs_center[obs_idx, ...] = np.random.randint(1, 8, size=(2,))\n",
    "        obs_radius[obs_idx] = np.random.uniform(0.2, 1.5)\n",
    "    return obs_center, obs_radius\n",
    "\n",
    "def encode_obstacle_info(obs_center: np.ndarray, obs_radius: np.ndarray):\n",
    "    obs_encode = np.zeros((7, 7))\n",
    "    for center, radius in zip(obs_center, obs_radius):\n",
    "        obs_encode[tuple((center-1).astype(np.int32))] = radius\n",
    "    obs_encode = obs_encode.flatten()\n",
    "    return obs_encode"
   ]
  },
  {
   "cell_type": "code",
   "execution_count": 15,
   "id": "3250c190-d380-423c-8455-21a6c1b2c093",
   "metadata": {
    "colab": {
     "base_uri": "https://localhost:8080/",
     "height": 67,
     "referenced_widgets": [
      "fa8ca951c0f54d3c965b136791c54f60",
      "14869b876e6143a9848a8421b8da93c3",
      "b00b242d48c34b739b335e6137bbec52",
      "ba8a57462eb4492880c4980ee126f888",
      "7afde10b06494393ab9b53818c580fdc",
      "bc399470fb094590a12ba13e98c1f6a8",
      "eba7a2b036374b1c9c329d884ce16ad4",
      "13066600e23245888e019523e0200005",
      "304615b68c9d496ea35928d1546df4ca",
      "3de6654be9de4d22b15fb28ad7625f57",
      "81e23a9379b34c0cb78e375d47a63a89"
     ]
    },
    "id": "3250c190-d380-423c-8455-21a6c1b2c093",
    "outputId": "4c9609f0-a944-42f7-909c-c23cab24dbf0"
   },
   "outputs": [
    {
     "name": "stdout",
     "output_type": "stream",
     "text": [
      "Initial state:  deque([array([0., 0., 0., 0., 0., 0.]), array([0., 0., 0., 0., 0., 0.])], maxlen=2)\n",
      "Initial obs_encode:  (49,)\n"
     ]
    },
    {
     "name": "stderr",
     "output_type": "stream",
     "text": [
      "Eval:   0%|          | 0/400 [00:00<?, ?it/s]"
     ]
    },
    {
     "name": "stderr",
     "output_type": "stream",
     "text": [
      "Eval:   5%|▌         | 21/400 [00:00<00:02, 188.90it/s]"
     ]
    },
    {
     "name": "stdout",
     "output_type": "stream",
     "text": [
      "Step 0: action: (10, 6) 400\n",
      "Step 10: action: (10, 6) 400\n",
      "Step 20: action: (10, 6) 400\n",
      "Step 30: action: (10, 6) 400\n",
      "Step 40: action: (10, 6) 400\n"
     ]
    },
    {
     "name": "stderr",
     "output_type": "stream",
     "text": [
      "Eval:  13%|█▎        | 53/400 [00:00<00:01, 262.04it/s]"
     ]
    },
    {
     "name": "stdout",
     "output_type": "stream",
     "text": [
      "Step 50: action: (10, 6) 400\n"
     ]
    },
    {
     "name": "stderr",
     "output_type": "stream",
     "text": [
      "Eval:  20%|██        | 81/400 [00:00<00:01, 236.39it/s]"
     ]
    },
    {
     "name": "stdout",
     "output_type": "stream",
     "text": [
      "Step 60: action: (10, 6) 400\n",
      "Step 70: action: (10, 6) 400\n",
      "Step 80: action: (10, 6) 400\n",
      "Step 90: action: (10, 6) 400\n"
     ]
    },
    {
     "name": "stderr",
     "output_type": "stream",
     "text": [
      "Eval:  28%|██▊       | 111/400 [00:00<00:01, 258.13it/s]"
     ]
    },
    {
     "name": "stdout",
     "output_type": "stream",
     "text": [
      "Step 100: action: (10, 6) 400\n",
      "Step 110: action: (10, 6) 400\n"
     ]
    },
    {
     "name": "stderr",
     "output_type": "stream",
     "text": [
      "Eval:  35%|███▌      | 141/400 [00:00<00:00, 271.23it/s]"
     ]
    },
    {
     "name": "stdout",
     "output_type": "stream",
     "text": [
      "Step 120: action: (10, 6) 400\n",
      "Step 130: action: (10, 6) 400\n",
      "Step 140: action: (10, 6) 400\n",
      "Step 150: action: (10, 6) 400\n"
     ]
    },
    {
     "name": "stderr",
     "output_type": "stream",
     "text": [
      "Eval:  43%|████▎     | 171/400 [00:00<00:00, 279.44it/s]"
     ]
    },
    {
     "name": "stdout",
     "output_type": "stream",
     "text": [
      "Step 160: action: (10, 6) 400\n",
      "Step 170: action: (10, 6) 400\n"
     ]
    },
    {
     "name": "stderr",
     "output_type": "stream",
     "text": [
      "Eval:  50%|█████     | 200/400 [00:00<00:00, 266.21it/s]"
     ]
    },
    {
     "name": "stdout",
     "output_type": "stream",
     "text": [
      "Step 180: action: (10, 6) 400\n",
      "Step 190: action: (10, 6) 400\n",
      "Step 200: action: (10, 6) 400\n",
      "Step 210: action: (10, 6) 400\n",
      "Step 220: action: (10, 6) 400\n"
     ]
    },
    {
     "name": "stderr",
     "output_type": "stream",
     "text": [
      "Eval:  63%|██████▎   | 252/400 [00:01<00:00, 226.31it/s]"
     ]
    },
    {
     "name": "stdout",
     "output_type": "stream",
     "text": [
      "Step 230: action: (10, 6) 400\n",
      "Step 240: action: (10, 6) 400\n",
      "Step 250: action: (10, 6) 400\n",
      "Step 260: action: (10, 6) 400\n",
      "Step 270: action: (10, 6) 400\n"
     ]
    },
    {
     "name": "stderr",
     "output_type": "stream",
     "text": [
      "Eval:  70%|███████   | 281/400 [00:01<00:00, 221.94it/s]"
     ]
    },
    {
     "name": "stdout",
     "output_type": "stream",
     "text": [
      "Step 280: action: (10, 6) 400\n",
      "Step 290: action: (10, 6) 400\n",
      "Step 300: action: (10, 6) 400\n"
     ]
    },
    {
     "name": "stderr",
     "output_type": "stream",
     "text": [
      "Eval:  78%|███████▊  | 311/400 [00:01<00:00, 224.83it/s]"
     ]
    },
    {
     "name": "stdout",
     "output_type": "stream",
     "text": [
      "Step 310: action: (10, 6) 400\n",
      "Step 320: action: (10, 6) 400\n"
     ]
    },
    {
     "name": "stderr",
     "output_type": "stream",
     "text": [
      "Eval:  85%|████████▌ | 341/400 [00:01<00:00, 225.55it/s]"
     ]
    },
    {
     "name": "stdout",
     "output_type": "stream",
     "text": [
      "Step 330: action: (10, 6) 400\n",
      "Step 340: action: (10, 6) 400\n",
      "Step 350: action: (10, 6) 400\n"
     ]
    },
    {
     "name": "stderr",
     "output_type": "stream",
     "text": [
      "Eval:  93%|█████████▎| 371/400 [00:01<00:00, 227.94it/s]"
     ]
    },
    {
     "name": "stdout",
     "output_type": "stream",
     "text": [
      "Step 360: action: (10, 6) 400\n",
      "Step 370: action: (10, 6) 400\n"
     ]
    },
    {
     "name": "stderr",
     "output_type": "stream",
     "text": [
      "Eval: 401it [00:01, 237.29it/s]                         "
     ]
    },
    {
     "name": "stdout",
     "output_type": "stream",
     "text": [
      "Step 380: action: (10, 6) 400\n",
      "Step 390: action: (10, 6) 400\n",
      "Step 400: action: (10, 6) 400\n"
     ]
    },
    {
     "name": "stderr",
     "output_type": "stream",
     "text": [
      "\n"
     ]
    }
   ],
   "source": [
    "np.random.seed(12)\n",
    "\n",
    "# Env parameters\n",
    "max_steps = 400\n",
    "dt = 0.01\n",
    "ratio_sim_ts = 10  # ratio of sampling time between the simulator and the controller\n",
    "\n",
    "# get first observation\n",
    "state = np.array([0.0, 0.0, 0.0, 0.0, 0.0, 0.0])  # [y, y_dot, z, z_dot, phi, phi_dot]\n",
    "states = [state]  # `states` is a list containing the states over time\n",
    "controls = [np.array([0, 0])]\n",
    "obs_center, obs_radius = generate_random_obstacles()\n",
    "obs_encode = encode_obstacle_info(obs_center, obs_radius)\n",
    "obs = {\n",
    "    \"state\": collections.deque([state] * controller.obs_horizon, maxlen=controller.obs_horizon),\n",
    "    \"obs_encode\": [obs_encode],\n",
    "    \"obs_center\": obs_center,\n",
    "    \"obs_radius\": obs_radius,\n",
    "}\n",
    "print(\"Initial state: \", obs[\"state\"])\n",
    "print(\"Initial obs_encode: \", obs[\"obs_encode\"][0].shape)\n",
    "\n",
    "# termimnation params\n",
    "done = False\n",
    "step_idx = 0\n",
    "\n",
    "with tqdm(total=max_steps, desc=\"Eval\") as pbar:\n",
    "    while not done:\n",
    "        # controller inference\n",
    "        action = controller.predict_action(obs)\n",
    "\n",
    "        # execute action_horizon steps without replanning\n",
    "        print(f\"Step {step_idx}: action: {action.shape}\", max_steps)\n",
    "        for i in range(action.shape[0]):\n",
    "            # stepping env\n",
    "            command = controller.calculate_force_command(state, action[i])\n",
    "            for _ in range(ratio_sim_ts):\n",
    "                state = sim.step(state, command, dt=dt/ratio_sim_ts)\n",
    "            # save observations and controls\n",
    "            obs[\"state\"].append(state.copy())\n",
    "            states.append(state.copy())\n",
    "            controls.append(action[i].copy())\n",
    "\n",
    "            # update progress bar\n",
    "            step_idx += 1\n",
    "            pbar.update(1)\n",
    "            if step_idx > max_steps:\n",
    "                done = True\n",
    "            if done:\n",
    "                break"
   ]
  },
  {
   "cell_type": "markdown",
   "id": "602bdd60-2b90-48db-a29b-7f8645501142",
   "metadata": {
    "id": "602bdd60-2b90-48db-a29b-7f8645501142"
   },
   "source": [
    "## Visualize result"
   ]
  },
  {
   "cell_type": "code",
   "execution_count": 13,
   "id": "b92bcec2-d95d-4361-9b92-991346d83950",
   "metadata": {
    "colab": {
     "base_uri": "https://localhost:8080/",
     "height": 435
    },
    "id": "b92bcec2-d95d-4361-9b92-991346d83950",
    "outputId": "0d8c5a83-8002-4deb-a87b-48a04af6d0af"
   },
   "outputs": [
    {
     "data": {
      "image/png": "[encoded data removed]",
      "text/plain": [
       "<Figure size 640x480 with 1 Axes>"
      ]
     },
     "metadata": {},
     "output_type": "display_data"
    }
   ],
   "source": [
    "states = np.array(states)\n",
    "visualize_quadrotor_simulation_result(sim, states, obs_center=obs_center, obs_radius=obs_radius)"
   ]
  }
 ],
 "metadata": {
  "accelerator": "GPU",
  "colab": {
   "gpuType": "T4",
   "provenance": []
  },
  "kernelspec": {
   "display_name": "pdquadrotor",
   "language": "python",
   "name": "python3"
  },
  "language_info": {
   "codemirror_mode": {
    "name": "ipython",
    "version": 3
   },
   "file_extension": ".py",
   "mimetype": "text/x-python",
   "name": "python",
   "nbconvert_exporter": "python",
   "pygments_lexer": "ipython3",
   "version": "3.10.16"
  },
  "widgets": {
   "application/vnd.jupyter.widget-state+json": {
    "state": {},
    "version_major": 2,
    "version_minor": 0
   }
  }
 },
 "nbformat": 4,
 "nbformat_minor": 5
}
