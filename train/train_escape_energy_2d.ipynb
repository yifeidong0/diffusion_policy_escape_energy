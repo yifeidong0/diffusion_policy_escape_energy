{
 "cells": [
  {
   "cell_type": "code",
   "execution_count": 1,
   "id": "2ba5cbbf-eda8-4283-bf6b-c0905117c808",
   "metadata": {},
   "outputs": [],
   "source": [
    "%load_ext autoreload\n",
    "%autoreload 2"
   ]
  },
  {
   "cell_type": "code",
   "execution_count": 2,
   "id": "1ad0c7be-d5f5-407f-8b6c-c1d5c6e41dbb",
   "metadata": {},
   "outputs": [
    {
     "name": "stdout",
     "output_type": "stream",
     "text": [
      "/home/yif/Documents/KTH/git/diffusion_policy_escape_energy/train\n"
     ]
    },
    {
     "name": "stderr",
     "output_type": "stream",
     "text": [
      "/home/yif/.local/lib/python3.10/site-packages/tqdm/auto.py:22: TqdmWarning: IProgress not found. Please update jupyter and ipywidgets. See https://ipywidgets.readthedocs.io/en/stable/user_install.html\n",
      "  from .autonotebook import tqdm as notebook_tqdm\n",
      "/home/yif/.local/lib/python3.10/site-packages/torch/cuda/__init__.py:88: UserWarning: CUDA initialization: CUDA unknown error - this may be due to an incorrectly set up environment, e.g. changing env variable CUDA_VISIBLE_DEVICES after program start. Setting the available devices to be zero. (Triggered internally at ../c10/cuda/CUDAFunctions.cpp:109.)\n",
      "  return torch._C._cuda_getDeviceCount() > 0\n"
     ]
    }
   ],
   "source": [
    "import gdown\n",
    "import os\n",
    "import yaml\n",
    "import sys\n",
    "from os.path import abspath, dirname, join\n",
    "current_dir = os.getcwd()\n",
    "print(current_dir)\n",
    "sys.path.insert(0, \"/home/yif/Documents/KTH/git/diffusion_policy_escape_energy\")\n",
    "\n",
    "from core.controllers.quadrotor_diffusion_policy import build_networks_from_config\n",
    "from core.dataset.ee2d_dataset import EscapeEnergy2DDataset\n",
    "from core.trainers.quadrotor_diffusion_policy_trainer import PlanarQuadrotorDiffusionPolicyTrainer"
   ]
  },
  {
   "cell_type": "markdown",
   "id": "c8d1250d-1540-4019-b3ef-1cbc329e1423",
   "metadata": {},
   "source": [
    "## Load config"
   ]
  },
  {
   "cell_type": "code",
   "execution_count": 3,
   "id": "d4939536-cd69-4498-8041-ec453acf5724",
   "metadata": {},
   "outputs": [],
   "source": [
    "with open(\"../config/config_ee2d.yaml\", \"r\") as file:\n",
    "    config = yaml.safe_load(file)"
   ]
  },
  {
   "cell_type": "markdown",
   "id": "81a1fda8-45e3-4308-aa21-621c3cba28bf",
   "metadata": {},
   "source": [
    "## Download dataset"
   ]
  },
  {
   "cell_type": "code",
   "execution_count": 4,
   "id": "a1c09f22-f4dc-47bf-812f-3de832ea328d",
   "metadata": {},
   "outputs": [],
   "source": [
    "dataset_path = \"../dataset_escape_from_u_2d_30000_envs.joblib\"\n",
    "# if not os.path.isfile(dataset_path):\n",
    "#     gdown.download(id=\"14safYt34YKn21vL9c_BsRHaG_URPB4Dp\", output=dataset_path, quiet=False)"
   ]
  },
  {
   "cell_type": "markdown",
   "id": "86bd93db-fac6-42b6-a978-1f27f2cd9cc2",
   "metadata": {},
   "source": [
    "## Load dataset and instantiate the NN"
   ]
  },
  {
   "cell_type": "code",
   "execution_count": 5,
   "id": "e6846a64-66dd-49c5-a118-9f8335770755",
   "metadata": {},
   "outputs": [
    {
     "name": "stdout",
     "output_type": "stream",
     "text": [
      "!!!!!! dataset_root dict_keys(['costs', 'paths', 'object_starts', 'ellipse_centers', 'ellipse_radii'])\n",
      "!!!!!! paths (29868, 20, 2)\n",
      "!!!!!! object_starts (29868, 2)\n",
      "!!!!!! ellipse_radii (29868, 3, 2)\n",
      "!!!!!! ellipse_centers (29868, 3, 2)\n",
      "----------------------\n",
      "!!!!!! action (5120, 2)\n",
      "!!!!!! obs (5120, 2)\n",
      "!!!!!! obstacle (5120, 12)\n",
      "----------------------\n",
      "Dataset loaded successfully.\n",
      "Networks initialized successfully.\n"
     ]
    }
   ],
   "source": [
    "dataset = EscapeEnergy2DDataset(dataset_path=dataset_path, config=config)\n",
    "print(\"Dataset loaded successfully.\")\n",
    "\n",
    "net = build_networks_from_config(config)\n",
    "print(\"Networks initialized successfully.\")"
   ]
  },
  {
   "cell_type": "code",
   "execution_count": null,
   "id": "5f87031f",
   "metadata": {},
   "outputs": [],
   "source": [
    "s = dataset.__getitem__(0)\n"
   ]
  },
  {
   "cell_type": "markdown",
   "id": "02db2365-b4e2-4e7c-913f-e95ed8b39f59",
   "metadata": {},
   "source": [
    "## Instantiate the trainer"
   ]
  },
  {
   "cell_type": "code",
   "execution_count": 7,
   "id": "1b352102-6e92-46c4-9962-a574895e6c85",
   "metadata": {},
   "outputs": [
    {
     "name": "stdout",
     "output_type": "stream",
     "text": [
      "!!!!!! len(self.indices) 5376\n",
      "!!!!!! len(self.indices) 5376\n"
     ]
    }
   ],
   "source": [
    "trainer = PlanarQuadrotorDiffusionPolicyTrainer(\n",
    "    net=net,\n",
    "    dataset=dataset,\n",
    "    config=config,\n",
    ")"
   ]
  },
  {
   "cell_type": "markdown",
   "id": "29523e2d-d592-4067-be00-9880344523b2",
   "metadata": {},
   "source": [
    "## Start training"
   ]
  },
  {
   "cell_type": "code",
   "execution_count": 10,
   "id": "3a4777a0-ccf6-4da4-a9e7-686c964c17b8",
   "metadata": {
    "scrolled": true
   },
   "outputs": [
    {
     "name": "stdout",
     "output_type": "stream",
     "text": [
      "!!!!!! len(self.indices) 5376\n"
     ]
    },
    {
     "name": "stderr",
     "output_type": "stream",
     "text": [
      "Epoch:   0%|          | 0/5 [00:00<?, ?it/s]"
     ]
    },
    {
     "name": "stdout",
     "output_type": "stream",
     "text": [
      "!!!!!! len(self.indices) 5376\n"
     ]
    },
    {
     "name": "stderr",
     "output_type": "stream",
     "text": []
    },
    {
     "name": "stdout",
     "output_type": "stream",
     "text": [
      "!!!!!! len(self.indices) 5376\n",
      "!!!!!! len(self.indices) 5376\n"
     ]
    },
    {
     "name": "stderr",
     "output_type": "stream",
     "text": [
      "Epoch:  20%|██        | 1/5 [00:46<03:05, 46.34s/it, loss=0.983]"
     ]
    },
    {
     "name": "stdout",
     "output_type": "stream",
     "text": [
      "!!!!!! len(self.indices) 5376\n",
      "!!!!!! len(self.indices) 5376\n"
     ]
    },
    {
     "name": "stderr",
     "output_type": "stream",
     "text": []
    },
    {
     "name": "stdout",
     "output_type": "stream",
     "text": [
      "!!!!!! len(self.indices) 5376\n",
      "!!!!!! len(self.indices) 5376\n"
     ]
    },
    {
     "name": "stderr",
     "output_type": "stream",
     "text": [
      "Epoch:  40%|████      | 2/5 [01:33<02:19, 46.55s/it, loss=0.874]"
     ]
    },
    {
     "name": "stdout",
     "output_type": "stream",
     "text": [
      "!!!!!! len(self.indices) 5376\n",
      "!!!!!! len(self.indices) 5376\n"
     ]
    },
    {
     "name": "stderr",
     "output_type": "stream",
     "text": []
    },
    {
     "name": "stdout",
     "output_type": "stream",
     "text": [
      "!!!!!! len(self.indices) 5376\n",
      "!!!!!! len(self.indices) 5376\n"
     ]
    },
    {
     "name": "stderr",
     "output_type": "stream",
     "text": [
      "Epoch:  60%|██████    | 3/5 [02:21<01:35, 47.65s/it, loss=0.601]"
     ]
    },
    {
     "name": "stdout",
     "output_type": "stream",
     "text": [
      "!!!!!! len(self.indices) 5376\n",
      "!!!!!! len(self.indices) 5376\n"
     ]
    },
    {
     "name": "stderr",
     "output_type": "stream",
     "text": []
    },
    {
     "name": "stdout",
     "output_type": "stream",
     "text": [
      "!!!!!! len(self.indices) 5376\n",
      "!!!!!! len(self.indices) 5376\n"
     ]
    },
    {
     "name": "stderr",
     "output_type": "stream",
     "text": [
      "Epoch:  80%|████████  | 4/5 [03:11<00:48, 48.27s/it, loss=0.324]"
     ]
    },
    {
     "name": "stdout",
     "output_type": "stream",
     "text": [
      "!!!!!! len(self.indices) 5376\n",
      "!!!!!! len(self.indices) 5376\n"
     ]
    },
    {
     "name": "stderr",
     "output_type": "stream",
     "text": []
    },
    {
     "name": "stdout",
     "output_type": "stream",
     "text": [
      "!!!!!! len(self.indices) 5376\n",
      "!!!!!! len(self.indices) 5376\n"
     ]
    },
    {
     "name": "stderr",
     "output_type": "stream",
     "text": [
      "Epoch: 100%|██████████| 5/5 [04:00<00:00, 48.06s/it, loss=0.207]\n"
     ]
    },
    {
     "name": "stdout",
     "output_type": "stream",
     "text": [
      "!!!!!! len(self.indices) 5376\n"
     ]
    }
   ],
   "source": [
    "trainer.train(num_epochs=5, save_ckpt_epoch=1)\n",
    "trainer.save_checkpoint(\"ckpt_final.ckpt\")"
   ]
  },
  {
   "cell_type": "markdown",
   "id": "4167d958-0151-42a7-a409-601f5b0fdd2e",
   "metadata": {},
   "source": [
    "## Trainnig data visualization\n",
    "The training data was generated using a MPPI-CBF controller from [shaoanlu/mppi_cbf](https://github.com/shaoanlu/mppi_cbf) repository. "
   ]
  },
  {
   "cell_type": "code",
   "execution_count": 9,
   "id": "a150bb84-9207-4401-8109-d9c3237d510e",
   "metadata": {},
   "outputs": [],
   "source": [
    "import joblib\n",
    "import numpy as np\n",
    "from matplotlib import pyplot as plt"
   ]
  },
  {
   "cell_type": "code",
   "execution_count": 24,
   "id": "5e5be4c7-c5a6-4cd0-ad2b-c6b338329fdb",
   "metadata": {},
   "outputs": [],
   "source": [
    "def visualize_dataset(data):\n",
    "    \"\"\"\n",
    "    Shows 20 samples in the dataset.\n",
    "    Each subplot illustrates a training trajectory consisting of:\n",
    "    - The starting position as a green dot;\n",
    "    - The goal position as a red dot;\n",
    "    - The positon of the quadrotor is the blue line; and\n",
    "    - The obstacles are presented as grey circles.\n",
    "    \"\"\"\n",
    "    plt.figure(figsize=(10, 8))\n",
    "    for i in range(20):\n",
    "        rand_idx = np.random.randint(len(data[\"state\"]))\n",
    "        s = data[\"state\"][rand_idx]\n",
    "        # des_s = data[\"desired_state\"][rand_idx]\n",
    "        info = data[\"info\"][rand_idx]\n",
    "        x, y = s[:, 0], s[:, 2]\n",
    "        # des_x, des_y = des_s[:, 0], des_s[:, 2]\n",
    "    \n",
    "        plt.subplot(4, 5, i+1)\n",
    "        for obs_idx in range(len(info[\"obs_center\"])):\n",
    "            circle = plt.Circle((info[\"obs_center\"][obs_idx, 0], info[\"obs_center\"][obs_idx, 1]), info[\"obs_radius\"][obs_idx], color='grey', fill=True, linestyle='--', linewidth=2, alpha=0.5)\n",
    "            plt.gca().add_artist(circle)\n",
    "        plt.scatter(data[\"state\"][rand_idx][0, 0], data[\"state\"][rand_idx][0, 2], color=\"green\")\n",
    "        plt.scatter(5, 5, color=\"red\")\n",
    "        plt.plot(x, y)\n",
    "        # plt.plot(des_x, des_y, \":\")\n",
    "        plt.grid()\n",
    "        plt.xlim(-1, 7)\n",
    "        plt.ylim(-1, 7)\n",
    "    plt.tight_layout()\n",
    "    plt.show()"
   ]
  },
  {
   "cell_type": "code",
   "execution_count": 25,
   "id": "508399e3-c375-481e-91f7-b60195993311",
   "metadata": {},
   "outputs": [
    {
     "ename": "KeyError",
     "evalue": "'state'",
     "output_type": "error",
     "traceback": [
      "\u001b[0;31m---------------------------------------------------------------------------\u001b[0m",
      "\u001b[0;31mKeyError\u001b[0m                                  Traceback (most recent call last)",
      "Cell \u001b[0;32mIn[25], line 2\u001b[0m\n\u001b[1;32m      1\u001b[0m trn_data \u001b[38;5;241m=\u001b[39m joblib\u001b[38;5;241m.\u001b[39mload(\u001b[38;5;124m\"\u001b[39m\u001b[38;5;124m../escape_from_u_data.joblib\u001b[39m\u001b[38;5;124m\"\u001b[39m)\n\u001b[0;32m----> 2\u001b[0m \u001b[43mvisualize_dataset\u001b[49m\u001b[43m(\u001b[49m\u001b[43mtrn_data\u001b[49m\u001b[43m)\u001b[49m\n",
      "Cell \u001b[0;32mIn[24], line 12\u001b[0m, in \u001b[0;36mvisualize_dataset\u001b[0;34m(data)\u001b[0m\n\u001b[1;32m     10\u001b[0m plt\u001b[38;5;241m.\u001b[39mfigure(figsize\u001b[38;5;241m=\u001b[39m(\u001b[38;5;241m10\u001b[39m, \u001b[38;5;241m8\u001b[39m))\n\u001b[1;32m     11\u001b[0m \u001b[38;5;28;01mfor\u001b[39;00m i \u001b[38;5;129;01min\u001b[39;00m \u001b[38;5;28mrange\u001b[39m(\u001b[38;5;241m20\u001b[39m):\n\u001b[0;32m---> 12\u001b[0m     rand_idx \u001b[38;5;241m=\u001b[39m np\u001b[38;5;241m.\u001b[39mrandom\u001b[38;5;241m.\u001b[39mrandint(\u001b[38;5;28mlen\u001b[39m(\u001b[43mdata\u001b[49m\u001b[43m[\u001b[49m\u001b[38;5;124;43m\"\u001b[39;49m\u001b[38;5;124;43mstate\u001b[39;49m\u001b[38;5;124;43m\"\u001b[39;49m\u001b[43m]\u001b[49m))\n\u001b[1;32m     13\u001b[0m     s \u001b[38;5;241m=\u001b[39m data[\u001b[38;5;124m\"\u001b[39m\u001b[38;5;124mstate\u001b[39m\u001b[38;5;124m\"\u001b[39m][rand_idx]\n\u001b[1;32m     14\u001b[0m     \u001b[38;5;66;03m# des_s = data[\"desired_state\"][rand_idx]\u001b[39;00m\n",
      "\u001b[0;31mKeyError\u001b[0m: 'state'"
     ]
    },
    {
     "data": {
      "text/plain": [
       "<Figure size 1000x800 with 0 Axes>"
      ]
     },
     "metadata": {},
     "output_type": "display_data"
    }
   ],
   "source": [
    "trn_data = joblib.load(\"../escape_from_u_data.joblib\")\n",
    "visualize_dataset(trn_data)"
   ]
  },
  {
   "cell_type": "code",
   "execution_count": 26,
   "id": "25f3e722",
   "metadata": {},
   "outputs": [
    {
     "name": "stdout",
     "output_type": "stream",
     "text": [
      "costs: 6\n",
      "paths: 6\n",
      "object_starts: 6\n",
      "ellipse_centers: 6\n",
      "ellipse_radii: 6\n",
      "costs <class 'numpy.ndarray'>\n",
      "costs [0.         0.00032877 0.         0.         0.         0.03209365]\n",
      "paths [[[0.45580925 0.68537036]\n",
      "  [0.41834608 0.62996103]\n",
      "  [0.40587738 0.67183557]\n",
      "  [0.45284282 0.61964025]\n",
      "  [0.486888   0.60014907]\n",
      "  [0.54439431 0.65190197]\n",
      "  [0.60222496 0.67146199]\n",
      "  [0.63987722 0.61895391]\n",
      "  [0.65420421 0.6106548 ]\n",
      "  [0.67334748 0.55435731]\n",
      "  [0.70662757 0.58796657]\n",
      "  [0.7679419  0.60811095]\n",
      "  [0.74965366 0.65252623]\n",
      "  [0.77285868 0.61885425]\n",
      "  [0.7803659  0.598214  ]\n",
      "  [0.7633884  0.55428415]\n",
      "  [0.77043103 0.52532142]\n",
      "  [0.79925971 0.49306505]\n",
      "  [0.79429885 0.43389678]\n",
      "  [0.75424768 0.43540488]]\n",
      "\n",
      " [[0.61691686 0.59070396]\n",
      "  [0.62100338 0.53397404]\n",
      "  [0.58773767 0.50142582]\n",
      "  [0.6541713  0.52666671]\n",
      "  [0.71135764 0.54752603]\n",
      "  [0.69974045 0.5578557 ]\n",
      "  [0.73802118 0.50268235]\n",
      "  [0.71164017 0.46677389]\n",
      "  [0.76657945 0.49902675]\n",
      "  [0.73207873 0.44544288]\n",
      "  [0.70091109 0.46776482]\n",
      "  [0.76169806 0.491052  ]\n",
      "  [0.77835577 0.55862682]\n",
      "  [0.8341698  0.58048522]\n",
      "  [0.89654753 0.59174007]\n",
      "  [0.93884374 0.58642823]\n",
      "  [0.99483345 0.57591434]\n",
      "  [0.97631051 0.52363434]\n",
      "  [0.97209392 0.49182479]\n",
      "  [0.97472031 0.42719274]]\n",
      "\n",
      " [[0.24572738 0.73466051]\n",
      "  [0.27390619 0.72624657]\n",
      "  [0.30444235 0.72100474]\n",
      "  [0.31651344 0.69707696]\n",
      "  [0.29591986 0.66898899]\n",
      "  [0.27273591 0.67726581]\n",
      "  [0.26093138 0.70140105]\n",
      "  [0.24641853 0.67569323]\n",
      "  [0.24698151 0.64403374]\n",
      "  [0.25619636 0.61611198]\n",
      "  [0.25131554 0.58077575]\n",
      "  [0.22750389 0.57821214]\n",
      "  [0.23229368 0.55094277]\n",
      "  [0.23712738 0.51586778]\n",
      "  [0.23780283 0.48841322]\n",
      "  [0.24824957 0.45872931]\n",
      "  [0.23519892 0.43779394]\n",
      "  [0.20508094 0.42850698]\n",
      "  [0.19993501 0.42535207]\n",
      "  [0.26271884 0.42259578]]\n",
      "\n",
      " [[0.47743935 0.64982454]\n",
      "  [0.49241576 0.56337907]\n",
      "  [0.46421831 0.54233052]\n",
      "  [0.49559767 0.61660355]\n",
      "  [0.55987054 0.62814207]\n",
      "  [0.607534   0.55191558]\n",
      "  [0.63592936 0.50797974]\n",
      "  [0.65852886 0.4957214 ]\n",
      "  [0.60076205 0.55385824]\n",
      "  [0.6752477  0.59732247]\n",
      "  [0.7366364  0.59669996]\n",
      "  [0.76237024 0.59648856]\n",
      "  [0.76052618 0.64769656]\n",
      "  [0.80861737 0.64613928]\n",
      "  [0.90113158 0.61232082]\n",
      "  [0.94960358 0.58476407]\n",
      "  [0.9901736  0.51049996]\n",
      "  [0.99838732 0.51605353]\n",
      "  [0.95195396 0.45099766]\n",
      "  [0.9062974  0.40143738]]\n",
      "\n",
      " [[0.74058508 0.64455306]\n",
      "  [0.74319125 0.59246782]\n",
      "  [0.76746282 0.58500758]\n",
      "  [0.79515849 0.5981687 ]\n",
      "  [0.75218797 0.58187879]\n",
      "  [0.72874597 0.54846306]\n",
      "  [0.71648632 0.55530211]\n",
      "  [0.69320597 0.53381448]\n",
      "  [0.70380496 0.57956982]\n",
      "  [0.68629136 0.54663828]\n",
      "  [0.67623907 0.59032991]\n",
      "  [0.67322719 0.54891791]\n",
      "  [0.67787896 0.59345829]\n",
      "  [0.71192154 0.57044865]\n",
      "  [0.73725397 0.52148851]\n",
      "  [0.72791129 0.54065743]\n",
      "  [0.7355941  0.49450833]\n",
      "  [0.75705542 0.46278067]\n",
      "  [0.80239211 0.44665328]\n",
      "  [0.81752402 0.40149198]]\n",
      "\n",
      " [[0.60597751 0.65207309]\n",
      "  [0.55016705 0.60392757]\n",
      "  [0.47181399 0.64051078]\n",
      "  [0.39365243 0.64384681]\n",
      "  [0.35623989 0.59374728]\n",
      "  [0.34809174 0.59926369]\n",
      "  [0.36352813 0.58761502]\n",
      "  [0.36452774 0.63767881]\n",
      "  [0.33523586 0.64049788]\n",
      "  [0.28326369 0.60328547]\n",
      "  [0.21834238 0.63587247]\n",
      "  [0.21385061 0.62626366]\n",
      "  [0.19246369 0.60382459]\n",
      "  [0.20556535 0.60752053]\n",
      "  [0.14984806 0.66648388]\n",
      "  [0.07871854 0.6767388 ]\n",
      "  [0.0624151  0.61510688]\n",
      "  [0.00877015 0.62777373]\n",
      "  [0.00904919 0.54170532]\n",
      "  [0.00476451 0.46241335]]]\n",
      "object_starts [[0.45580925 0.68537036]\n",
      " [0.61691686 0.59070396]\n",
      " [0.24572738 0.73466051]\n",
      " [0.47743935 0.64982454]\n",
      " [0.74058508 0.64455306]\n",
      " [0.60597751 0.65207309]]\n"
     ]
    }
   ],
   "source": [
    "for key, value in trn_data.items():\n",
    "    print(f\"{key}: {len(value)}\")\n",
    "print('costs', type(trn_data[\"costs\"]))\n",
    "print('costs', trn_data[\"costs\"])\n",
    "print('paths', trn_data[\"paths\"])\n",
    "print('object_starts', trn_data[\"object_starts\"])\n"
   ]
  },
  {
   "cell_type": "code",
   "execution_count": null,
   "id": "043212e5",
   "metadata": {},
   "outputs": [],
   "source": []
  },
  {
   "cell_type": "code",
   "execution_count": null,
   "id": "f3000ba9",
   "metadata": {},
   "outputs": [],
   "source": []
  },
  {
   "cell_type": "code",
   "execution_count": null,
   "id": "ca8129f6",
   "metadata": {},
   "outputs": [],
   "source": []
  }
 ],
 "metadata": {
  "kernelspec": {
   "display_name": "pdquadrotor",
   "language": "python",
   "name": "python3"
  },
  "language_info": {
   "codemirror_mode": {
    "name": "ipython",
    "version": 3
   },
   "file_extension": ".py",
   "mimetype": "text/x-python",
   "name": "python",
   "nbconvert_exporter": "python",
   "pygments_lexer": "ipython3",
   "version": "3.10.16"
  },
  "widgets": {
   "application/vnd.jupyter.widget-state+json": {
    "state": {},
    "version_major": 2,
    "version_minor": 0
   }
  }
 },
 "nbformat": 4,
 "nbformat_minor": 5
}
