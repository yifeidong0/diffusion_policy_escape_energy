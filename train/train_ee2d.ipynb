{
 "cells": [
  {
   "cell_type": "code",
   "execution_count": 1,
   "id": "2ba5cbbf-eda8-4283-bf6b-c0905117c808",
   "metadata": {},
   "outputs": [],
   "source": [
    "%load_ext autoreload\n",
    "%autoreload 2"
   ]
  },
  {
   "cell_type": "code",
   "execution_count": 2,
   "id": "1ad0c7be-d5f5-407f-8b6c-c1d5c6e41dbb",
   "metadata": {},
   "outputs": [
    {
     "name": "stdout",
     "output_type": "stream",
     "text": [
      "/home/yif/Documents/KTH/git/diffusion_policy_escape_energy/train\n"
     ]
    },
    {
     "name": "stderr",
     "output_type": "stream",
     "text": [
      "/home/yif/.local/lib/python3.10/site-packages/tqdm/auto.py:22: TqdmWarning: IProgress not found. Please update jupyter and ipywidgets. See https://ipywidgets.readthedocs.io/en/stable/user_install.html\n",
      "  from .autonotebook import tqdm as notebook_tqdm\n"
     ]
    }
   ],
   "source": [
    "import gdown\n",
    "import os\n",
    "import yaml\n",
    "import sys\n",
    "from os.path import abspath, dirname, join\n",
    "current_dir = os.getcwd()\n",
    "print(current_dir)\n",
    "sys.path.insert(0, \"/home/yif/Documents/KTH/git/diffusion_policy_escape_energy\")\n",
    "\n",
    "from core.controllers.quadrotor_diffusion_policy import build_networks_from_config\n",
    "from core.dataset.ee2d_dataset import EscapeEnergy2DDataset\n",
    "from core.trainers.quadrotor_diffusion_policy_trainer import PlanarQuadrotorDiffusionPolicyTrainer"
   ]
  },
  {
   "cell_type": "markdown",
   "id": "c8d1250d-1540-4019-b3ef-1cbc329e1423",
   "metadata": {},
   "source": [
    "## Load config"
   ]
  },
  {
   "cell_type": "code",
   "execution_count": 3,
   "id": "d4939536-cd69-4498-8041-ec453acf5724",
   "metadata": {},
   "outputs": [],
   "source": [
    "with open(\"../config/config_ee2d.yaml\", \"r\") as file:\n",
    "    config = yaml.safe_load(file)"
   ]
  },
  {
   "cell_type": "markdown",
   "id": "81a1fda8-45e3-4308-aa21-621c3cba28bf",
   "metadata": {},
   "source": [
    "## Download dataset"
   ]
  },
  {
   "cell_type": "code",
   "execution_count": 4,
   "id": "a1c09f22-f4dc-47bf-812f-3de832ea328d",
   "metadata": {},
   "outputs": [],
   "source": [
    "dataset_path = \"../dataset_escape_from_u_2d_8192_envs.joblib\"\n",
    "# if not os.path.isfile(dataset_path):\n",
    "#     gdown.download(id=\"14safYt34YKn21vL9c_BsRHaG_URPB4Dp\", output=dataset_path, quiet=False)"
   ]
  },
  {
   "cell_type": "markdown",
   "id": "86bd93db-fac6-42b6-a978-1f27f2cd9cc2",
   "metadata": {},
   "source": [
    "## Load dataset and instantiate the NN"
   ]
  },
  {
   "cell_type": "code",
   "execution_count": 5,
   "id": "e6846a64-66dd-49c5-a118-9f8335770755",
   "metadata": {},
   "outputs": [
    {
     "name": "stdout",
     "output_type": "stream",
     "text": [
      "!!!!!! num_waypoints 20\n",
      "!!!!!! action (40960, 2)\n",
      "!!!!!! obs (40960, 2)\n",
      "!!!!!! obstacle (40960, 18)\n",
      "----------------------\n",
      "Dataset loaded successfully.\n",
      "Networks initialized successfully.\n"
     ]
    }
   ],
   "source": [
    "num_data = 256*8\n",
    "dataset = EscapeEnergy2DDataset(dataset_path=dataset_path, config=config, num_data=num_data)\n",
    "print(\"Dataset loaded successfully.\")\n",
    "\n",
    "net = build_networks_from_config(config)\n",
    "print(\"Networks initialized successfully.\")"
   ]
  },
  {
   "cell_type": "code",
   "execution_count": 6,
   "id": "5f87031f",
   "metadata": {},
   "outputs": [
    {
     "data": {
      "text/plain": [
       "{'action': array([[-0.21213696,  0.37814164],\n",
       "        [-0.21213696,  0.37814164],\n",
       "        [-0.21213696,  0.37814164],\n",
       "        [-0.21213696,  0.37814164]]),\n",
       " 'obs': array([-0.09771156,  0.31521384, -0.09771156,  0.31521384, -0.09771156,\n",
       "         0.31521384, -0.09771156,  0.31521384,  0.74900321,  0.47769751,\n",
       "         0.1308158 ,  0.71683225,  0.37556618,  0.13363765,  0.54086427,\n",
       "         0.25336239,  0.08032968,  0.37948455,  0.28096569,  0.1043481 ,\n",
       "         0.3083494 ,  0.33946949,  0.13880109,  0.25004882,  0.49505977,\n",
       "         0.0621369 ]),\n",
       " 'obstacle': array([[0.74900321, 0.47769751, 0.1308158 , 0.71683225, 0.37556618,\n",
       "         0.13363765, 0.54086427, 0.25336239, 0.08032968, 0.37948455,\n",
       "         0.28096569, 0.1043481 , 0.3083494 , 0.33946949, 0.13880109,\n",
       "         0.25004882, 0.49505977, 0.0621369 ],\n",
       "        [0.74900321, 0.47769751, 0.1308158 , 0.71683225, 0.37556618,\n",
       "         0.13363765, 0.54086427, 0.25336239, 0.08032968, 0.37948455,\n",
       "         0.28096569, 0.1043481 , 0.3083494 , 0.33946949, 0.13880109,\n",
       "         0.25004882, 0.49505977, 0.0621369 ],\n",
       "        [0.74900321, 0.47769751, 0.1308158 , 0.71683225, 0.37556618,\n",
       "         0.13363765, 0.54086427, 0.25336239, 0.08032968, 0.37948455,\n",
       "         0.28096569, 0.1043481 , 0.3083494 , 0.33946949, 0.13880109,\n",
       "         0.25004882, 0.49505977, 0.0621369 ],\n",
       "        [0.74900321, 0.47769751, 0.1308158 , 0.71683225, 0.37556618,\n",
       "         0.13363765, 0.54086427, 0.25336239, 0.08032968, 0.37948455,\n",
       "         0.28096569, 0.1043481 , 0.3083494 , 0.33946949, 0.13880109,\n",
       "         0.25004882, 0.49505977, 0.0621369 ]])}"
      ]
     },
     "execution_count": 6,
     "metadata": {},
     "output_type": "execute_result"
    }
   ],
   "source": [
    "dataset.__getitem__(0)"
   ]
  },
  {
   "cell_type": "markdown",
   "id": "02db2365-b4e2-4e7c-913f-e95ed8b39f59",
   "metadata": {},
   "source": [
    "## Instantiate the trainer"
   ]
  },
  {
   "cell_type": "code",
   "execution_count": 7,
   "id": "6ed40977",
   "metadata": {},
   "outputs": [
    {
     "data": {
      "text/plain": [
       "True"
      ]
     },
     "execution_count": 7,
     "metadata": {},
     "output_type": "execute_result"
    }
   ],
   "source": [
    "import torch\n",
    "torch.cuda.is_available() # TODO"
   ]
  },
  {
   "cell_type": "code",
   "execution_count": 8,
   "id": "1b352102-6e92-46c4-9962-a574895e6c85",
   "metadata": {},
   "outputs": [
    {
     "name": "stdout",
     "output_type": "stream",
     "text": [
      "Using device: cuda\n",
      "!!!!!! len(self.indices) 47104\n",
      "!!!!!! len(self.indices) 47104\n"
     ]
    }
   ],
   "source": [
    "trainer = PlanarQuadrotorDiffusionPolicyTrainer(\n",
    "    net=net,\n",
    "    dataset=dataset,\n",
    "    config=config,\n",
    ")"
   ]
  },
  {
   "cell_type": "markdown",
   "id": "29523e2d-d592-4067-be00-9880344523b2",
   "metadata": {},
   "source": [
    "## Start training"
   ]
  },
  {
   "cell_type": "code",
   "execution_count": 9,
   "id": "3a4777a0-ccf6-4da4-a9e7-686c964c17b8",
   "metadata": {
    "scrolled": true
   },
   "outputs": [
    {
     "name": "stdout",
     "output_type": "stream",
     "text": [
      "!!!!!! len(self.indices) 47104\n"
     ]
    },
    {
     "name": "stderr",
     "output_type": "stream",
     "text": [
      "Epoch:   0%|          | 0/200 [00:00<?, ?it/s]"
     ]
    },
    {
     "name": "stdout",
     "output_type": "stream",
     "text": [
      "!!!!!! len(self.indices) 47104\n"
     ]
    },
    {
     "name": "stderr",
     "output_type": "stream",
     "text": []
    },
    {
     "name": "stdout",
     "output_type": "stream",
     "text": [
      "!!!!!! len(self.indices) 47104\n",
      "!!!!!! len(self.indices) 47104\n"
     ]
    },
    {
     "name": "stderr",
     "output_type": "stream",
     "text": [
      "Epoch:   0%|          | 1/200 [00:11<38:57, 11.75s/it, loss=0.333]"
     ]
    },
    {
     "name": "stdout",
     "output_type": "stream",
     "text": [
      "!!!!!! len(self.indices) 47104\n",
      "!!!!!! len(self.indices) 47104\n"
     ]
    },
    {
     "name": "stderr",
     "output_type": "stream",
     "text": []
    },
    {
     "name": "stdout",
     "output_type": "stream",
     "text": [
      "!!!!!! len(self.indices) 47104\n",
      "!!!!!! len(self.indices) 47104\n"
     ]
    },
    {
     "name": "stderr",
     "output_type": "stream",
     "text": [
      "Epoch:   1%|          | 2/200 [00:23<37:49, 11.46s/it, loss=0.0442]"
     ]
    },
    {
     "name": "stdout",
     "output_type": "stream",
     "text": [
      "!!!!!! len(self.indices) 47104\n",
      "!!!!!! len(self.indices) 47104\n"
     ]
    },
    {
     "name": "stderr",
     "output_type": "stream",
     "text": []
    },
    {
     "name": "stdout",
     "output_type": "stream",
     "text": [
      "!!!!!! len(self.indices) 47104\n",
      "!!!!!! len(self.indices) 47104\n"
     ]
    },
    {
     "name": "stderr",
     "output_type": "stream",
     "text": [
      "Epoch:   2%|▏         | 3/200 [00:34<37:19, 11.37s/it, loss=0.0345]"
     ]
    },
    {
     "name": "stdout",
     "output_type": "stream",
     "text": [
      "!!!!!! len(self.indices) 47104\n",
      "!!!!!! len(self.indices) 47104\n"
     ]
    },
    {
     "name": "stderr",
     "output_type": "stream",
     "text": []
    },
    {
     "name": "stdout",
     "output_type": "stream",
     "text": [
      "!!!!!! len(self.indices) 47104\n",
      "!!!!!! len(self.indices) 47104\n"
     ]
    },
    {
     "name": "stderr",
     "output_type": "stream",
     "text": [
      "Epoch:   2%|▏         | 4/200 [00:45<37:06, 11.36s/it, loss=0.0288]"
     ]
    },
    {
     "name": "stdout",
     "output_type": "stream",
     "text": [
      "!!!!!! len(self.indices) 47104\n",
      "!!!!!! len(self.indices) 47104\n"
     ]
    },
    {
     "name": "stderr",
     "output_type": "stream",
     "text": []
    },
    {
     "name": "stdout",
     "output_type": "stream",
     "text": [
      "!!!!!! len(self.indices) 47104\n",
      "!!!!!! len(self.indices) 47104\n"
     ]
    },
    {
     "name": "stderr",
     "output_type": "stream",
     "text": [
      "Epoch:   2%|▎         | 5/200 [00:57<37:00, 11.39s/it, loss=0.0241]"
     ]
    },
    {
     "name": "stdout",
     "output_type": "stream",
     "text": [
      "!!!!!! len(self.indices) 47104\n",
      "!!!!!! len(self.indices) 47104\n"
     ]
    },
    {
     "name": "stderr",
     "output_type": "stream",
     "text": []
    },
    {
     "name": "stdout",
     "output_type": "stream",
     "text": [
      "!!!!!! len(self.indices) 47104\n",
      "!!!!!! len(self.indices) 47104\n"
     ]
    },
    {
     "name": "stderr",
     "output_type": "stream",
     "text": [
      "Epoch:   3%|▎         | 6/200 [01:08<36:55, 11.42s/it, loss=0.0209]"
     ]
    },
    {
     "name": "stdout",
     "output_type": "stream",
     "text": [
      "!!!!!! len(self.indices) 47104\n",
      "!!!!!! len(self.indices) 47104\n"
     ]
    },
    {
     "name": "stderr",
     "output_type": "stream",
     "text": []
    },
    {
     "name": "stdout",
     "output_type": "stream",
     "text": [
      "!!!!!! len(self.indices) 47104\n",
      "!!!!!! len(self.indices) 47104\n"
     ]
    },
    {
     "name": "stderr",
     "output_type": "stream",
     "text": [
      "Epoch:   4%|▎         | 7/200 [01:20<37:00, 11.51s/it, loss=0.0201]"
     ]
    },
    {
     "name": "stdout",
     "output_type": "stream",
     "text": [
      "!!!!!! len(self.indices) 47104\n",
      "!!!!!! len(self.indices) 47104\n"
     ]
    },
    {
     "name": "stderr",
     "output_type": "stream",
     "text": []
    },
    {
     "name": "stdout",
     "output_type": "stream",
     "text": [
      "!!!!!! len(self.indices) 47104\n",
      "!!!!!! len(self.indices) 47104\n"
     ]
    },
    {
     "name": "stderr",
     "output_type": "stream",
     "text": [
      "Epoch:   4%|▍         | 8/200 [01:32<37:28, 11.71s/it, loss=0.0184]"
     ]
    },
    {
     "name": "stdout",
     "output_type": "stream",
     "text": [
      "!!!!!! len(self.indices) 47104\n",
      "!!!!!! len(self.indices) 47104\n"
     ]
    },
    {
     "name": "stderr",
     "output_type": "stream",
     "text": []
    },
    {
     "name": "stdout",
     "output_type": "stream",
     "text": [
      "!!!!!! len(self.indices) 47104\n",
      "!!!!!! len(self.indices) 47104\n"
     ]
    },
    {
     "name": "stderr",
     "output_type": "stream",
     "text": [
      "Epoch:   4%|▍         | 9/200 [01:45<38:25, 12.07s/it, loss=0.0169]"
     ]
    },
    {
     "name": "stdout",
     "output_type": "stream",
     "text": [
      "!!!!!! len(self.indices) 47104\n",
      "!!!!!! len(self.indices) 47104\n"
     ]
    },
    {
     "name": "stderr",
     "output_type": "stream",
     "text": []
    },
    {
     "name": "stdout",
     "output_type": "stream",
     "text": [
      "!!!!!! len(self.indices) 47104\n",
      "!!!!!! len(self.indices) 47104\n"
     ]
    },
    {
     "name": "stderr",
     "output_type": "stream",
     "text": [
      "Epoch:   4%|▍         | 9/200 [01:58<38:25, 12.07s/it, loss=0.0163]"
     ]
    },
    {
     "name": "stdout",
     "output_type": "stream",
     "text": [
      "!!!!!! len(self.indices) 47104\n"
     ]
    },
    {
     "name": "stderr",
     "output_type": "stream",
     "text": [
      "Epoch:   5%|▌         | 10/200 [01:58<39:49, 12.57s/it, loss=0.0163]"
     ]
    },
    {
     "name": "stdout",
     "output_type": "stream",
     "text": [
      "!!!!!! len(self.indices) 47104\n"
     ]
    },
    {
     "name": "stderr",
     "output_type": "stream",
     "text": []
    },
    {
     "name": "stdout",
     "output_type": "stream",
     "text": [
      "!!!!!! len(self.indices) 47104\n",
      "!!!!!! len(self.indices) 47104\n"
     ]
    },
    {
     "name": "stderr",
     "output_type": "stream",
     "text": [
      "Epoch:   6%|▌         | 11/200 [02:12<40:30, 12.86s/it, loss=0.0158]"
     ]
    },
    {
     "name": "stdout",
     "output_type": "stream",
     "text": [
      "!!!!!! len(self.indices) 47104\n",
      "!!!!!! len(self.indices) 47104\n"
     ]
    },
    {
     "name": "stderr",
     "output_type": "stream",
     "text": []
    },
    {
     "name": "stdout",
     "output_type": "stream",
     "text": [
      "!!!!!! len(self.indices) 47104\n",
      "!!!!!! len(self.indices) 47104\n"
     ]
    },
    {
     "name": "stderr",
     "output_type": "stream",
     "text": [
      "Epoch:   6%|▌         | 12/200 [02:27<42:10, 13.46s/it, loss=0.0166]"
     ]
    },
    {
     "name": "stdout",
     "output_type": "stream",
     "text": [
      "!!!!!! len(self.indices) 47104\n",
      "!!!!!! len(self.indices) 47104\n"
     ]
    },
    {
     "name": "stderr",
     "output_type": "stream",
     "text": []
    },
    {
     "name": "stdout",
     "output_type": "stream",
     "text": [
      "!!!!!! len(self.indices) 47104\n",
      "!!!!!! len(self.indices) 47104\n"
     ]
    },
    {
     "name": "stderr",
     "output_type": "stream",
     "text": [
      "Epoch:   6%|▋         | 13/200 [02:41<43:06, 13.83s/it, loss=0.0153]"
     ]
    },
    {
     "name": "stdout",
     "output_type": "stream",
     "text": [
      "!!!!!! len(self.indices) 47104\n",
      "!!!!!! len(self.indices) 47104\n"
     ]
    },
    {
     "name": "stderr",
     "output_type": "stream",
     "text": []
    },
    {
     "name": "stdout",
     "output_type": "stream",
     "text": [
      "!!!!!! len(self.indices) 47104\n",
      "!!!!!! len(self.indices) 47104\n"
     ]
    },
    {
     "name": "stderr",
     "output_type": "stream",
     "text": [
      "Epoch:   7%|▋         | 14/200 [02:56<43:40, 14.09s/it, loss=0.0144]"
     ]
    },
    {
     "name": "stdout",
     "output_type": "stream",
     "text": [
      "!!!!!! len(self.indices) 47104\n",
      "!!!!!! len(self.indices) 47104\n"
     ]
    },
    {
     "name": "stderr",
     "output_type": "stream",
     "text": []
    },
    {
     "name": "stdout",
     "output_type": "stream",
     "text": [
      "!!!!!! len(self.indices) 47104\n",
      "!!!!!! len(self.indices) 47104\n"
     ]
    },
    {
     "name": "stderr",
     "output_type": "stream",
     "text": [
      "Epoch:   8%|▊         | 15/200 [03:11<44:00, 14.27s/it, loss=0.0145]"
     ]
    },
    {
     "name": "stdout",
     "output_type": "stream",
     "text": [
      "!!!!!! len(self.indices) 47104\n",
      "!!!!!! len(self.indices) 47104\n"
     ]
    },
    {
     "name": "stderr",
     "output_type": "stream",
     "text": []
    },
    {
     "name": "stdout",
     "output_type": "stream",
     "text": [
      "!!!!!! len(self.indices) 47104\n",
      "!!!!!! len(self.indices) 47104\n"
     ]
    },
    {
     "name": "stderr",
     "output_type": "stream",
     "text": [
      "Epoch:   8%|▊         | 16/200 [03:26<44:12, 14.42s/it, loss=0.0136]"
     ]
    },
    {
     "name": "stdout",
     "output_type": "stream",
     "text": [
      "!!!!!! len(self.indices) 47104\n",
      "!!!!!! len(self.indices) 47104\n"
     ]
    },
    {
     "name": "stderr",
     "output_type": "stream",
     "text": []
    },
    {
     "name": "stdout",
     "output_type": "stream",
     "text": [
      "!!!!!! len(self.indices) 47104\n",
      "!!!!!! len(self.indices) 47104\n"
     ]
    },
    {
     "name": "stderr",
     "output_type": "stream",
     "text": [
      "Epoch:   8%|▊         | 17/200 [03:41<44:55, 14.73s/it, loss=0.0125]"
     ]
    },
    {
     "name": "stdout",
     "output_type": "stream",
     "text": [
      "!!!!!! len(self.indices) 47104\n",
      "!!!!!! len(self.indices) 47104\n"
     ]
    },
    {
     "name": "stderr",
     "output_type": "stream",
     "text": []
    },
    {
     "name": "stdout",
     "output_type": "stream",
     "text": [
      "!!!!!! len(self.indices) 47104\n",
      "!!!!!! len(self.indices) 47104\n"
     ]
    },
    {
     "name": "stderr",
     "output_type": "stream",
     "text": [
      "Epoch:   9%|▉         | 18/200 [03:57<46:04, 15.19s/it, loss=0.0125]"
     ]
    },
    {
     "name": "stdout",
     "output_type": "stream",
     "text": [
      "!!!!!! len(self.indices) 47104\n",
      "!!!!!! len(self.indices) 47104\n"
     ]
    },
    {
     "name": "stderr",
     "output_type": "stream",
     "text": []
    },
    {
     "name": "stdout",
     "output_type": "stream",
     "text": [
      "!!!!!! len(self.indices) 47104\n",
      "!!!!!! len(self.indices) 47104\n"
     ]
    },
    {
     "name": "stderr",
     "output_type": "stream",
     "text": [
      "Epoch:  10%|▉         | 19/200 [04:14<46:49, 15.52s/it, loss=0.0118]"
     ]
    },
    {
     "name": "stdout",
     "output_type": "stream",
     "text": [
      "!!!!!! len(self.indices) 47104\n",
      "!!!!!! len(self.indices) 47104\n"
     ]
    },
    {
     "name": "stderr",
     "output_type": "stream",
     "text": []
    },
    {
     "name": "stdout",
     "output_type": "stream",
     "text": [
      "!!!!!! len(self.indices) 47104\n",
      "!!!!!! len(self.indices) 47104\n"
     ]
    },
    {
     "name": "stderr",
     "output_type": "stream",
     "text": [
      "Epoch:  10%|▉         | 19/200 [04:30<46:49, 15.52s/it, loss=0.013] "
     ]
    },
    {
     "name": "stdout",
     "output_type": "stream",
     "text": [
      "!!!!!! len(self.indices) 47104\n"
     ]
    },
    {
     "name": "stderr",
     "output_type": "stream",
     "text": [
      "Epoch:  10%|█         | 20/200 [04:30<47:30, 15.83s/it, loss=0.013]"
     ]
    },
    {
     "name": "stdout",
     "output_type": "stream",
     "text": [
      "!!!!!! len(self.indices) 47104\n"
     ]
    },
    {
     "name": "stderr",
     "output_type": "stream",
     "text": []
    },
    {
     "name": "stdout",
     "output_type": "stream",
     "text": [
      "!!!!!! len(self.indices) 47104\n",
      "!!!!!! len(self.indices) 47104\n"
     ]
    },
    {
     "name": "stderr",
     "output_type": "stream",
     "text": [
      "Epoch:  10%|█         | 21/200 [04:46<47:37, 15.96s/it, loss=0.0124]"
     ]
    },
    {
     "name": "stdout",
     "output_type": "stream",
     "text": [
      "!!!!!! len(self.indices) 47104\n",
      "!!!!!! len(self.indices) 47104\n"
     ]
    },
    {
     "name": "stderr",
     "output_type": "stream",
     "text": []
    },
    {
     "name": "stdout",
     "output_type": "stream",
     "text": [
      "!!!!!! len(self.indices) 47104\n",
      "!!!!!! len(self.indices) 47104\n"
     ]
    },
    {
     "name": "stderr",
     "output_type": "stream",
     "text": [
      "Epoch:  11%|█         | 22/200 [05:03<47:38, 16.06s/it, loss=0.011] "
     ]
    },
    {
     "name": "stdout",
     "output_type": "stream",
     "text": [
      "!!!!!! len(self.indices) 47104\n",
      "!!!!!! len(self.indices) 47104\n"
     ]
    },
    {
     "name": "stderr",
     "output_type": "stream",
     "text": []
    },
    {
     "name": "stdout",
     "output_type": "stream",
     "text": [
      "!!!!!! len(self.indices) 47104\n",
      "!!!!!! len(self.indices) 47104\n"
     ]
    },
    {
     "name": "stderr",
     "output_type": "stream",
     "text": [
      "Epoch:  12%|█▏        | 23/200 [05:19<47:36, 16.14s/it, loss=0.0119]"
     ]
    },
    {
     "name": "stdout",
     "output_type": "stream",
     "text": [
      "!!!!!! len(self.indices) 47104\n",
      "!!!!!! len(self.indices) 47104\n"
     ]
    },
    {
     "name": "stderr",
     "output_type": "stream",
     "text": []
    },
    {
     "name": "stdout",
     "output_type": "stream",
     "text": [
      "!!!!!! len(self.indices) 47104\n",
      "!!!!!! len(self.indices) 47104\n"
     ]
    },
    {
     "name": "stderr",
     "output_type": "stream",
     "text": [
      "Epoch:  12%|█▏        | 24/200 [05:35<47:28, 16.19s/it, loss=0.011] "
     ]
    },
    {
     "name": "stdout",
     "output_type": "stream",
     "text": [
      "!!!!!! len(self.indices) 47104\n",
      "!!!!!! len(self.indices) 47104\n"
     ]
    },
    {
     "name": "stderr",
     "output_type": "stream",
     "text": []
    },
    {
     "name": "stdout",
     "output_type": "stream",
     "text": [
      "!!!!!! len(self.indices) 47104\n",
      "!!!!!! len(self.indices) 47104\n"
     ]
    },
    {
     "name": "stderr",
     "output_type": "stream",
     "text": [
      "Epoch:  12%|█▎        | 25/200 [05:52<47:16, 16.21s/it, loss=0.0116]"
     ]
    },
    {
     "name": "stdout",
     "output_type": "stream",
     "text": [
      "!!!!!! len(self.indices) 47104\n",
      "!!!!!! len(self.indices) 47104\n"
     ]
    },
    {
     "name": "stderr",
     "output_type": "stream",
     "text": []
    },
    {
     "name": "stdout",
     "output_type": "stream",
     "text": [
      "!!!!!! len(self.indices) 47104\n",
      "!!!!!! len(self.indices) 47104\n"
     ]
    },
    {
     "name": "stderr",
     "output_type": "stream",
     "text": [
      "Epoch:  13%|█▎        | 26/200 [06:08<47:04, 16.23s/it, loss=0.0111]"
     ]
    },
    {
     "name": "stdout",
     "output_type": "stream",
     "text": [
      "!!!!!! len(self.indices) 47104\n",
      "!!!!!! len(self.indices) 47104\n"
     ]
    },
    {
     "name": "stderr",
     "output_type": "stream",
     "text": []
    },
    {
     "name": "stdout",
     "output_type": "stream",
     "text": [
      "!!!!!! len(self.indices) 47104\n",
      "!!!!!! len(self.indices) 47104\n"
     ]
    },
    {
     "name": "stderr",
     "output_type": "stream",
     "text": [
      "Epoch:  14%|█▎        | 27/200 [06:24<46:52, 16.26s/it, loss=0.00995]"
     ]
    },
    {
     "name": "stdout",
     "output_type": "stream",
     "text": [
      "!!!!!! len(self.indices) 47104\n",
      "!!!!!! len(self.indices) 47104\n"
     ]
    },
    {
     "name": "stderr",
     "output_type": "stream",
     "text": []
    },
    {
     "name": "stdout",
     "output_type": "stream",
     "text": [
      "!!!!!! len(self.indices) 47104\n",
      "!!!!!! len(self.indices) 47104\n"
     ]
    },
    {
     "name": "stderr",
     "output_type": "stream",
     "text": [
      "Epoch:  14%|█▍        | 28/200 [06:41<46:38, 16.27s/it, loss=0.0104] "
     ]
    },
    {
     "name": "stdout",
     "output_type": "stream",
     "text": [
      "!!!!!! len(self.indices) 47104\n",
      "!!!!!! len(self.indices) 47104\n"
     ]
    },
    {
     "name": "stderr",
     "output_type": "stream",
     "text": []
    },
    {
     "name": "stdout",
     "output_type": "stream",
     "text": [
      "!!!!!! len(self.indices) 47104\n",
      "!!!!!! len(self.indices) 47104\n"
     ]
    },
    {
     "name": "stderr",
     "output_type": "stream",
     "text": [
      "Epoch:  14%|█▍        | 29/200 [06:57<46:24, 16.28s/it, loss=0.00983]"
     ]
    },
    {
     "name": "stdout",
     "output_type": "stream",
     "text": [
      "!!!!!! len(self.indices) 47104\n",
      "!!!!!! len(self.indices) 47104\n"
     ]
    },
    {
     "name": "stderr",
     "output_type": "stream",
     "text": []
    },
    {
     "name": "stdout",
     "output_type": "stream",
     "text": [
      "!!!!!! len(self.indices) 47104\n",
      "!!!!!! len(self.indices) 47104\n"
     ]
    },
    {
     "name": "stderr",
     "output_type": "stream",
     "text": [
      "Epoch:  14%|█▍        | 29/200 [07:13<46:24, 16.28s/it, loss=0.0102] "
     ]
    },
    {
     "name": "stdout",
     "output_type": "stream",
     "text": [
      "!!!!!! len(self.indices) 47104\n"
     ]
    },
    {
     "name": "stderr",
     "output_type": "stream",
     "text": [
      "Epoch:  15%|█▌        | 30/200 [07:13<46:22, 16.37s/it, loss=0.0102]"
     ]
    },
    {
     "name": "stdout",
     "output_type": "stream",
     "text": [
      "!!!!!! len(self.indices) 47104\n"
     ]
    },
    {
     "name": "stderr",
     "output_type": "stream",
     "text": []
    },
    {
     "name": "stdout",
     "output_type": "stream",
     "text": [
      "!!!!!! len(self.indices) 47104\n",
      "!!!!!! len(self.indices) 47104\n"
     ]
    },
    {
     "name": "stderr",
     "output_type": "stream",
     "text": [
      "Epoch:  16%|█▌        | 31/200 [07:30<46:05, 16.36s/it, loss=0.011] "
     ]
    },
    {
     "name": "stdout",
     "output_type": "stream",
     "text": [
      "!!!!!! len(self.indices) 47104\n",
      "!!!!!! len(self.indices) 47104\n"
     ]
    },
    {
     "name": "stderr",
     "output_type": "stream",
     "text": []
    },
    {
     "name": "stdout",
     "output_type": "stream",
     "text": [
      "!!!!!! len(self.indices) 47104\n",
      "!!!!!! len(self.indices) 47104\n"
     ]
    },
    {
     "name": "stderr",
     "output_type": "stream",
     "text": [
      "Epoch:  16%|█▌        | 32/200 [07:46<45:49, 16.36s/it, loss=0.0101]"
     ]
    },
    {
     "name": "stdout",
     "output_type": "stream",
     "text": [
      "!!!!!! len(self.indices) 47104\n",
      "!!!!!! len(self.indices) 47104\n"
     ]
    },
    {
     "name": "stderr",
     "output_type": "stream",
     "text": []
    },
    {
     "name": "stdout",
     "output_type": "stream",
     "text": [
      "!!!!!! len(self.indices) 47104\n",
      "!!!!!! len(self.indices) 47104\n"
     ]
    },
    {
     "name": "stderr",
     "output_type": "stream",
     "text": [
      "Epoch:  16%|█▋        | 33/200 [08:02<45:32, 16.37s/it, loss=0.0103]"
     ]
    },
    {
     "name": "stdout",
     "output_type": "stream",
     "text": [
      "!!!!!! len(self.indices) 47104\n",
      "!!!!!! len(self.indices) 47104\n"
     ]
    },
    {
     "name": "stderr",
     "output_type": "stream",
     "text": []
    },
    {
     "name": "stdout",
     "output_type": "stream",
     "text": [
      "!!!!!! len(self.indices) 47104\n",
      "!!!!!! len(self.indices) 47104\n"
     ]
    },
    {
     "name": "stderr",
     "output_type": "stream",
     "text": [
      "Epoch:  17%|█▋        | 34/200 [08:19<45:16, 16.37s/it, loss=0.0093]"
     ]
    },
    {
     "name": "stdout",
     "output_type": "stream",
     "text": [
      "!!!!!! len(self.indices) 47104\n",
      "!!!!!! len(self.indices) 47104\n"
     ]
    },
    {
     "name": "stderr",
     "output_type": "stream",
     "text": []
    },
    {
     "name": "stdout",
     "output_type": "stream",
     "text": [
      "!!!!!! len(self.indices) 47104\n",
      "!!!!!! len(self.indices) 47104\n"
     ]
    },
    {
     "name": "stderr",
     "output_type": "stream",
     "text": [
      "Epoch:  18%|█▊        | 35/200 [08:35<45:04, 16.39s/it, loss=0.00999]"
     ]
    },
    {
     "name": "stdout",
     "output_type": "stream",
     "text": [
      "!!!!!! len(self.indices) 47104\n",
      "!!!!!! len(self.indices) 47104\n"
     ]
    },
    {
     "name": "stderr",
     "output_type": "stream",
     "text": []
    },
    {
     "name": "stdout",
     "output_type": "stream",
     "text": [
      "!!!!!! len(self.indices) 47104\n",
      "!!!!!! len(self.indices) 47104\n"
     ]
    },
    {
     "name": "stderr",
     "output_type": "stream",
     "text": [
      "Epoch:  18%|█▊        | 36/200 [08:52<44:50, 16.40s/it, loss=0.0102] "
     ]
    },
    {
     "name": "stdout",
     "output_type": "stream",
     "text": [
      "!!!!!! len(self.indices) 47104\n",
      "!!!!!! len(self.indices) 47104\n"
     ]
    },
    {
     "name": "stderr",
     "output_type": "stream",
     "text": []
    },
    {
     "name": "stdout",
     "output_type": "stream",
     "text": [
      "!!!!!! len(self.indices) 47104\n",
      "!!!!!! len(self.indices) 47104\n"
     ]
    },
    {
     "name": "stderr",
     "output_type": "stream",
     "text": [
      "Epoch:  18%|█▊        | 37/200 [09:08<44:33, 16.40s/it, loss=0.0085]"
     ]
    },
    {
     "name": "stdout",
     "output_type": "stream",
     "text": [
      "!!!!!! len(self.indices) 47104\n",
      "!!!!!! len(self.indices) 47104\n"
     ]
    },
    {
     "name": "stderr",
     "output_type": "stream",
     "text": []
    },
    {
     "name": "stdout",
     "output_type": "stream",
     "text": [
      "!!!!!! len(self.indices) 47104\n",
      "!!!!!! len(self.indices) 47104\n"
     ]
    },
    {
     "name": "stderr",
     "output_type": "stream",
     "text": [
      "Epoch:  19%|█▉        | 38/200 [09:25<44:18, 16.41s/it, loss=0.00881]"
     ]
    },
    {
     "name": "stdout",
     "output_type": "stream",
     "text": [
      "!!!!!! len(self.indices) 47104\n",
      "!!!!!! len(self.indices) 47104\n"
     ]
    },
    {
     "name": "stderr",
     "output_type": "stream",
     "text": []
    },
    {
     "name": "stdout",
     "output_type": "stream",
     "text": [
      "!!!!!! len(self.indices) 47104\n",
      "!!!!!! len(self.indices) 47104\n"
     ]
    },
    {
     "name": "stderr",
     "output_type": "stream",
     "text": [
      "Epoch:  20%|█▉        | 39/200 [09:43<45:48, 17.07s/it, loss=0.00886]"
     ]
    },
    {
     "name": "stdout",
     "output_type": "stream",
     "text": [
      "!!!!!! len(self.indices) 47104\n",
      "!!!!!! len(self.indices) 47104\n"
     ]
    },
    {
     "name": "stderr",
     "output_type": "stream",
     "text": [
      "\n"
     ]
    },
    {
     "name": "stdout",
     "output_type": "stream",
     "text": [
      "!!!!!! len(self.indices) 47104\n",
      "!!!!!! len(self.indices) 47104\n"
     ]
    },
    {
     "name": "stderr",
     "output_type": "stream",
     "text": [
      "Epoch:  20%|█▉        | 39/200 [10:01<45:48, 17.07s/it, loss=0.00927]"
     ]
    },
    {
     "name": "stdout",
     "output_type": "stream",
     "text": [
      "!!!!!! len(self.indices) 47104\n"
     ]
    },
    {
     "name": "stderr",
     "output_type": "stream",
     "text": [
      "Epoch:  20%|██        | 40/200 [10:02<46:41, 17.51s/it, loss=0.00927]"
     ]
    },
    {
     "name": "stdout",
     "output_type": "stream",
     "text": [
      "!!!!!! len(self.indices) 47104\n"
     ]
    },
    {
     "name": "stderr",
     "output_type": "stream",
     "text": []
    },
    {
     "name": "stdout",
     "output_type": "stream",
     "text": [
      "!!!!!! len(self.indices) 47104\n",
      "!!!!!! len(self.indices) 47104\n"
     ]
    },
    {
     "name": "stderr",
     "output_type": "stream",
     "text": [
      "Epoch:  20%|██        | 41/200 [10:18<45:30, 17.18s/it, loss=0.00993]"
     ]
    },
    {
     "name": "stdout",
     "output_type": "stream",
     "text": [
      "!!!!!! len(self.indices) 47104\n",
      "!!!!!! len(self.indices) 47104\n"
     ]
    },
    {
     "name": "stderr",
     "output_type": "stream",
     "text": []
    },
    {
     "name": "stdout",
     "output_type": "stream",
     "text": [
      "!!!!!! len(self.indices) 47104\n",
      "!!!!!! len(self.indices) 47104\n"
     ]
    },
    {
     "name": "stderr",
     "output_type": "stream",
     "text": [
      "Epoch:  21%|██        | 42/200 [10:37<46:29, 17.65s/it, loss=0.0096] "
     ]
    },
    {
     "name": "stdout",
     "output_type": "stream",
     "text": [
      "!!!!!! len(self.indices) 47104\n",
      "!!!!!! len(self.indices) 47104\n"
     ]
    },
    {
     "name": "stderr",
     "output_type": "stream",
     "text": []
    },
    {
     "name": "stdout",
     "output_type": "stream",
     "text": [
      "!!!!!! len(self.indices) 47104\n",
      "!!!!!! len(self.indices) 47104\n"
     ]
    },
    {
     "name": "stderr",
     "output_type": "stream",
     "text": [
      "Epoch:  22%|██▏       | 43/200 [10:54<45:57, 17.56s/it, loss=0.00916]"
     ]
    },
    {
     "name": "stdout",
     "output_type": "stream",
     "text": [
      "!!!!!! len(self.indices) 47104\n",
      "!!!!!! len(self.indices) 47104\n"
     ]
    },
    {
     "name": "stderr",
     "output_type": "stream",
     "text": []
    },
    {
     "name": "stdout",
     "output_type": "stream",
     "text": [
      "!!!!!! len(self.indices) 47104\n",
      "!!!!!! len(self.indices) 47104\n"
     ]
    },
    {
     "name": "stderr",
     "output_type": "stream",
     "text": [
      "Epoch:  22%|██▏       | 44/200 [11:12<45:31, 17.51s/it, loss=0.00874]"
     ]
    },
    {
     "name": "stdout",
     "output_type": "stream",
     "text": [
      "!!!!!! len(self.indices) 47104\n",
      "!!!!!! len(self.indices) 47104\n"
     ]
    },
    {
     "name": "stderr",
     "output_type": "stream",
     "text": []
    },
    {
     "name": "stdout",
     "output_type": "stream",
     "text": [
      "!!!!!! len(self.indices) 47104\n",
      "!!!!!! len(self.indices) 47104\n"
     ]
    },
    {
     "name": "stderr",
     "output_type": "stream",
     "text": [
      "Epoch:  22%|██▎       | 45/200 [11:31<46:37, 18.05s/it, loss=0.00885]"
     ]
    },
    {
     "name": "stdout",
     "output_type": "stream",
     "text": [
      "!!!!!! len(self.indices) 47104\n",
      "!!!!!! len(self.indices) 47104\n"
     ]
    },
    {
     "name": "stderr",
     "output_type": "stream",
     "text": [
      "\n",
      "Batch:   0%|          | 0/184 [00:00<?, ?it/s, loss=0.00622]"
     ]
    },
    {
     "name": "stdout",
     "output_type": "stream",
     "text": [
      "!!!!!! len(self.indices) 47104\n",
      "!!!!!! len(self.indices) 47104\n"
     ]
    },
    {
     "name": "stderr",
     "output_type": "stream",
     "text": [
      "Epoch:  23%|██▎       | 46/200 [11:49<46:43, 18.21s/it, loss=0.008]  "
     ]
    },
    {
     "name": "stdout",
     "output_type": "stream",
     "text": [
      "!!!!!! len(self.indices) 47104\n",
      "!!!!!! len(self.indices) 47104\n"
     ]
    },
    {
     "name": "stderr",
     "output_type": "stream",
     "text": []
    },
    {
     "name": "stdout",
     "output_type": "stream",
     "text": [
      "!!!!!! len(self.indices) 47104\n",
      "!!!!!! len(self.indices) 47104\n"
     ]
    },
    {
     "name": "stderr",
     "output_type": "stream",
     "text": [
      "Epoch:  24%|██▎       | 47/200 [12:08<46:44, 18.33s/it, loss=0.00816]"
     ]
    },
    {
     "name": "stdout",
     "output_type": "stream",
     "text": [
      "!!!!!! len(self.indices) 47104\n",
      "!!!!!! len(self.indices) 47104\n"
     ]
    },
    {
     "name": "stderr",
     "output_type": "stream",
     "text": []
    },
    {
     "name": "stdout",
     "output_type": "stream",
     "text": [
      "!!!!!! len(self.indices) 47104\n",
      "!!!!!! len(self.indices) 47104\n"
     ]
    },
    {
     "name": "stderr",
     "output_type": "stream",
     "text": [
      "Epoch:  24%|██▍       | 48/200 [12:27<46:40, 18.42s/it, loss=0.00788]"
     ]
    },
    {
     "name": "stdout",
     "output_type": "stream",
     "text": [
      "!!!!!! len(self.indices) 47104\n",
      "!!!!!! len(self.indices) 47104\n"
     ]
    },
    {
     "name": "stderr",
     "output_type": "stream",
     "text": []
    },
    {
     "name": "stdout",
     "output_type": "stream",
     "text": [
      "!!!!!! len(self.indices) 47104\n",
      "!!!!!! len(self.indices) 47104\n"
     ]
    },
    {
     "name": "stderr",
     "output_type": "stream",
     "text": [
      "Epoch:  24%|██▍       | 49/200 [12:45<46:31, 18.49s/it, loss=0.00807]"
     ]
    },
    {
     "name": "stdout",
     "output_type": "stream",
     "text": [
      "!!!!!! len(self.indices) 47104\n",
      "!!!!!! len(self.indices) 47104\n"
     ]
    },
    {
     "name": "stderr",
     "output_type": "stream",
     "text": []
    },
    {
     "name": "stdout",
     "output_type": "stream",
     "text": [
      "!!!!!! len(self.indices) 47104\n",
      "!!!!!! len(self.indices) 47104\n"
     ]
    },
    {
     "name": "stderr",
     "output_type": "stream",
     "text": [
      "Epoch:  24%|██▍       | 49/200 [13:04<46:31, 18.49s/it, loss=0.0074] "
     ]
    },
    {
     "name": "stdout",
     "output_type": "stream",
     "text": [
      "!!!!!! len(self.indices) 47104\n"
     ]
    },
    {
     "name": "stderr",
     "output_type": "stream",
     "text": [
      "Epoch:  25%|██▌       | 50/200 [13:04<46:33, 18.62s/it, loss=0.0074]"
     ]
    },
    {
     "name": "stdout",
     "output_type": "stream",
     "text": [
      "!!!!!! len(self.indices) 47104\n"
     ]
    },
    {
     "name": "stderr",
     "output_type": "stream",
     "text": []
    },
    {
     "name": "stdout",
     "output_type": "stream",
     "text": [
      "!!!!!! len(self.indices) 47104\n",
      "!!!!!! len(self.indices) 47104\n"
     ]
    },
    {
     "name": "stderr",
     "output_type": "stream",
     "text": [
      "Epoch:  26%|██▌       | 51/200 [13:24<47:06, 18.97s/it, loss=0.0084]"
     ]
    },
    {
     "name": "stdout",
     "output_type": "stream",
     "text": [
      "!!!!!! len(self.indices) 47104\n",
      "!!!!!! len(self.indices) 47104\n"
     ]
    },
    {
     "name": "stderr",
     "output_type": "stream",
     "text": []
    },
    {
     "name": "stdout",
     "output_type": "stream",
     "text": [
      "!!!!!! len(self.indices) 47104\n",
      "!!!!!! len(self.indices) 47104\n"
     ]
    },
    {
     "name": "stderr",
     "output_type": "stream",
     "text": [
      "Epoch:  26%|██▌       | 52/200 [13:41<45:24, 18.41s/it, loss=0.00837]"
     ]
    },
    {
     "name": "stdout",
     "output_type": "stream",
     "text": [
      "!!!!!! len(self.indices) 47104\n",
      "!!!!!! len(self.indices) 47104\n"
     ]
    },
    {
     "name": "stderr",
     "output_type": "stream",
     "text": []
    },
    {
     "name": "stdout",
     "output_type": "stream",
     "text": [
      "!!!!!! len(self.indices) 47104\n",
      "!!!!!! len(self.indices) 47104\n"
     ]
    },
    {
     "name": "stderr",
     "output_type": "stream",
     "text": [
      "Epoch:  26%|██▋       | 53/200 [14:01<45:53, 18.73s/it, loss=0.00826]"
     ]
    },
    {
     "name": "stdout",
     "output_type": "stream",
     "text": [
      "!!!!!! len(self.indices) 47104\n",
      "!!!!!! len(self.indices) 47104\n"
     ]
    },
    {
     "name": "stderr",
     "output_type": "stream",
     "text": []
    },
    {
     "name": "stdout",
     "output_type": "stream",
     "text": [
      "!!!!!! len(self.indices) 47104\n",
      "!!!!!! len(self.indices) 47104\n"
     ]
    },
    {
     "name": "stderr",
     "output_type": "stream",
     "text": [
      "Epoch:  27%|██▋       | 54/200 [14:19<44:58, 18.49s/it, loss=0.00778]"
     ]
    },
    {
     "name": "stdout",
     "output_type": "stream",
     "text": [
      "!!!!!! len(self.indices) 47104\n",
      "!!!!!! len(self.indices) 47104\n"
     ]
    },
    {
     "name": "stderr",
     "output_type": "stream",
     "text": []
    },
    {
     "name": "stdout",
     "output_type": "stream",
     "text": [
      "!!!!!! len(self.indices) 47104\n",
      "!!!!!! len(self.indices) 47104\n"
     ]
    },
    {
     "name": "stderr",
     "output_type": "stream",
     "text": [
      "Epoch:  28%|██▊       | 55/200 [14:38<45:22, 18.77s/it, loss=0.00812]"
     ]
    },
    {
     "name": "stdout",
     "output_type": "stream",
     "text": [
      "!!!!!! len(self.indices) 47104\n",
      "!!!!!! len(self.indices) 47104\n"
     ]
    },
    {
     "name": "stderr",
     "output_type": "stream",
     "text": []
    },
    {
     "name": "stdout",
     "output_type": "stream",
     "text": [
      "!!!!!! len(self.indices) 47104\n",
      "!!!!!! len(self.indices) 47104\n"
     ]
    },
    {
     "name": "stderr",
     "output_type": "stream",
     "text": [
      "Epoch:  28%|██▊       | 56/200 [14:58<45:46, 19.07s/it, loss=0.00793]"
     ]
    },
    {
     "name": "stdout",
     "output_type": "stream",
     "text": [
      "!!!!!! len(self.indices) 47104\n",
      "!!!!!! len(self.indices) 47104\n"
     ]
    },
    {
     "name": "stderr",
     "output_type": "stream",
     "text": []
    },
    {
     "name": "stdout",
     "output_type": "stream",
     "text": [
      "!!!!!! len(self.indices) 47104\n",
      "!!!!!! len(self.indices) 47104\n"
     ]
    },
    {
     "name": "stderr",
     "output_type": "stream",
     "text": [
      "Epoch:  28%|██▊       | 57/200 [15:18<45:54, 19.26s/it, loss=0.00724]"
     ]
    },
    {
     "name": "stdout",
     "output_type": "stream",
     "text": [
      "!!!!!! len(self.indices) 47104\n",
      "!!!!!! len(self.indices) 47104\n"
     ]
    },
    {
     "name": "stderr",
     "output_type": "stream",
     "text": []
    },
    {
     "name": "stdout",
     "output_type": "stream",
     "text": [
      "!!!!!! len(self.indices) 47104\n",
      "!!!!!! len(self.indices) 47104\n"
     ]
    },
    {
     "name": "stderr",
     "output_type": "stream",
     "text": [
      "Epoch:  29%|██▉       | 58/200 [15:37<45:49, 19.36s/it, loss=0.00699]"
     ]
    },
    {
     "name": "stdout",
     "output_type": "stream",
     "text": [
      "!!!!!! len(self.indices) 47104\n",
      "!!!!!! len(self.indices) 47104\n"
     ]
    },
    {
     "name": "stderr",
     "output_type": "stream",
     "text": []
    },
    {
     "name": "stdout",
     "output_type": "stream",
     "text": [
      "!!!!!! len(self.indices) 47104\n",
      "!!!!!! len(self.indices) 47104\n"
     ]
    },
    {
     "name": "stderr",
     "output_type": "stream",
     "text": [
      "Epoch:  30%|██▉       | 59/200 [15:57<45:40, 19.44s/it, loss=0.00701]"
     ]
    },
    {
     "name": "stdout",
     "output_type": "stream",
     "text": [
      "!!!!!! len(self.indices) 47104\n",
      "!!!!!! len(self.indices) 47104\n"
     ]
    },
    {
     "name": "stderr",
     "output_type": "stream",
     "text": []
    },
    {
     "name": "stdout",
     "output_type": "stream",
     "text": [
      "!!!!!! len(self.indices) 47104\n",
      "!!!!!! len(self.indices) 47104\n"
     ]
    },
    {
     "name": "stderr",
     "output_type": "stream",
     "text": [
      "Epoch:  30%|██▉       | 59/200 [16:16<45:40, 19.44s/it, loss=0.00687]"
     ]
    },
    {
     "name": "stdout",
     "output_type": "stream",
     "text": [
      "!!!!!! len(self.indices) 47104\n"
     ]
    },
    {
     "name": "stderr",
     "output_type": "stream",
     "text": [
      "Epoch:  30%|███       | 60/200 [16:17<45:40, 19.57s/it, loss=0.00687]"
     ]
    },
    {
     "name": "stdout",
     "output_type": "stream",
     "text": [
      "!!!!!! len(self.indices) 47104\n"
     ]
    },
    {
     "name": "stderr",
     "output_type": "stream",
     "text": []
    },
    {
     "name": "stdout",
     "output_type": "stream",
     "text": [
      "!!!!!! len(self.indices) 47104\n",
      "!!!!!! len(self.indices) 47104\n"
     ]
    },
    {
     "name": "stderr",
     "output_type": "stream",
     "text": [
      "Epoch:  30%|███       | 61/200 [16:36<44:56, 19.40s/it, loss=0.00787]"
     ]
    },
    {
     "name": "stdout",
     "output_type": "stream",
     "text": [
      "!!!!!! len(self.indices) 47104\n",
      "!!!!!! len(self.indices) 47104\n"
     ]
    },
    {
     "name": "stderr",
     "output_type": "stream",
     "text": []
    },
    {
     "name": "stdout",
     "output_type": "stream",
     "text": [
      "!!!!!! len(self.indices) 47104\n",
      "!!!!!! len(self.indices) 47104\n"
     ]
    },
    {
     "name": "stderr",
     "output_type": "stream",
     "text": [
      "Epoch:  31%|███       | 62/200 [16:54<44:10, 19.20s/it, loss=0.00765]"
     ]
    },
    {
     "name": "stdout",
     "output_type": "stream",
     "text": [
      "!!!!!! len(self.indices) 47104\n",
      "!!!!!! len(self.indices) 47104\n"
     ]
    },
    {
     "name": "stderr",
     "output_type": "stream",
     "text": []
    },
    {
     "name": "stdout",
     "output_type": "stream",
     "text": [
      "!!!!!! len(self.indices) 47104\n",
      "!!!!!! len(self.indices) 47104\n"
     ]
    },
    {
     "name": "stderr",
     "output_type": "stream",
     "text": [
      "Epoch:  32%|███▏      | 63/200 [17:13<43:36, 19.10s/it, loss=0.00724]"
     ]
    },
    {
     "name": "stdout",
     "output_type": "stream",
     "text": [
      "!!!!!! len(self.indices) 47104\n",
      "!!!!!! len(self.indices) 47104\n"
     ]
    },
    {
     "name": "stderr",
     "output_type": "stream",
     "text": []
    },
    {
     "name": "stdout",
     "output_type": "stream",
     "text": [
      "!!!!!! len(self.indices) 47104\n",
      "!!!!!! len(self.indices) 47104\n"
     ]
    },
    {
     "name": "stderr",
     "output_type": "stream",
     "text": [
      "Epoch:  32%|███▏      | 64/200 [17:32<43:07, 19.03s/it, loss=0.00636]"
     ]
    },
    {
     "name": "stdout",
     "output_type": "stream",
     "text": [
      "!!!!!! len(self.indices) 47104\n",
      "!!!!!! len(self.indices) 47104\n"
     ]
    },
    {
     "name": "stderr",
     "output_type": "stream",
     "text": []
    },
    {
     "name": "stdout",
     "output_type": "stream",
     "text": [
      "!!!!!! len(self.indices) 47104\n",
      "!!!!!! len(self.indices) 47104\n"
     ]
    },
    {
     "name": "stderr",
     "output_type": "stream",
     "text": [
      "Epoch:  32%|███▎      | 65/200 [17:51<42:41, 18.97s/it, loss=0.00729]"
     ]
    },
    {
     "name": "stdout",
     "output_type": "stream",
     "text": [
      "!!!!!! len(self.indices) 47104\n",
      "!!!!!! len(self.indices) 47104\n"
     ]
    },
    {
     "name": "stderr",
     "output_type": "stream",
     "text": [
      "\n"
     ]
    },
    {
     "name": "stdout",
     "output_type": "stream",
     "text": [
      "!!!!!! len(self.indices) 47104\n",
      "!!!!!! len(self.indices) 47104\n"
     ]
    },
    {
     "name": "stderr",
     "output_type": "stream",
     "text": [
      "Epoch:  33%|███▎      | 66/200 [18:10<42:17, 18.93s/it, loss=0.00678]"
     ]
    },
    {
     "name": "stdout",
     "output_type": "stream",
     "text": [
      "!!!!!! len(self.indices) 47104\n",
      "!!!!!! len(self.indices) 47104\n"
     ]
    },
    {
     "name": "stderr",
     "output_type": "stream",
     "text": []
    },
    {
     "name": "stdout",
     "output_type": "stream",
     "text": [
      "!!!!!! len(self.indices) 47104\n",
      "!!!!!! len(self.indices) 47104\n"
     ]
    },
    {
     "name": "stderr",
     "output_type": "stream",
     "text": [
      "Epoch:  34%|███▎      | 67/200 [18:31<43:45, 19.74s/it, loss=0.00678]"
     ]
    },
    {
     "name": "stdout",
     "output_type": "stream",
     "text": [
      "!!!!!! len(self.indices) 47104\n",
      "!!!!!! len(self.indices) 47104\n"
     ]
    },
    {
     "name": "stderr",
     "output_type": "stream",
     "text": []
    },
    {
     "name": "stdout",
     "output_type": "stream",
     "text": [
      "!!!!!! len(self.indices) 47104\n",
      "!!!!!! len(self.indices) 47104\n"
     ]
    },
    {
     "name": "stderr",
     "output_type": "stream",
     "text": [
      "Epoch:  34%|███▍      | 68/200 [18:54<45:01, 20.46s/it, loss=0.0066] "
     ]
    },
    {
     "name": "stdout",
     "output_type": "stream",
     "text": [
      "!!!!!! len(self.indices) 47104\n",
      "!!!!!! len(self.indices) 47104\n"
     ]
    },
    {
     "name": "stderr",
     "output_type": "stream",
     "text": []
    },
    {
     "name": "stdout",
     "output_type": "stream",
     "text": [
      "!!!!!! len(self.indices) 47104\n",
      "!!!!!! len(self.indices) 47104\n"
     ]
    },
    {
     "name": "stderr",
     "output_type": "stream",
     "text": [
      "Epoch:  34%|███▍      | 69/200 [19:12<43:27, 19.91s/it, loss=0.00659]"
     ]
    },
    {
     "name": "stdout",
     "output_type": "stream",
     "text": [
      "!!!!!! len(self.indices) 47104\n",
      "!!!!!! len(self.indices) 47104\n"
     ]
    },
    {
     "name": "stderr",
     "output_type": "stream",
     "text": []
    },
    {
     "name": "stdout",
     "output_type": "stream",
     "text": [
      "!!!!!! len(self.indices) 47104\n",
      "!!!!!! len(self.indices) 47104\n"
     ]
    },
    {
     "name": "stderr",
     "output_type": "stream",
     "text": [
      "Epoch:  34%|███▍      | 69/200 [19:31<43:27, 19.91s/it, loss=0.00608]"
     ]
    },
    {
     "name": "stdout",
     "output_type": "stream",
     "text": [
      "!!!!!! len(self.indices) 47104\n"
     ]
    },
    {
     "name": "stderr",
     "output_type": "stream",
     "text": [
      "Epoch:  35%|███▌      | 70/200 [19:32<42:51, 19.78s/it, loss=0.00608]"
     ]
    },
    {
     "name": "stdout",
     "output_type": "stream",
     "text": [
      "!!!!!! len(self.indices) 47104\n"
     ]
    },
    {
     "name": "stderr",
     "output_type": "stream",
     "text": []
    },
    {
     "name": "stdout",
     "output_type": "stream",
     "text": [
      "!!!!!! len(self.indices) 47104\n",
      "!!!!!! len(self.indices) 47104\n"
     ]
    },
    {
     "name": "stderr",
     "output_type": "stream",
     "text": [
      "Epoch:  36%|███▌      | 71/200 [19:51<42:27, 19.75s/it, loss=0.00651]"
     ]
    },
    {
     "name": "stdout",
     "output_type": "stream",
     "text": [
      "!!!!!! len(self.indices) 47104\n",
      "!!!!!! len(self.indices) 47104\n"
     ]
    },
    {
     "name": "stderr",
     "output_type": "stream",
     "text": []
    },
    {
     "name": "stdout",
     "output_type": "stream",
     "text": [
      "!!!!!! len(self.indices) 47104\n",
      "!!!!!! len(self.indices) 47104\n"
     ]
    },
    {
     "name": "stderr",
     "output_type": "stream",
     "text": [
      "Epoch:  36%|███▌      | 72/200 [20:10<41:30, 19.46s/it, loss=0.00639]"
     ]
    },
    {
     "name": "stdout",
     "output_type": "stream",
     "text": [
      "!!!!!! len(self.indices) 47104\n",
      "!!!!!! len(self.indices) 47104\n"
     ]
    },
    {
     "name": "stderr",
     "output_type": "stream",
     "text": [
      "\n",
      "Batch:   0%|          | 0/184 [00:00<?, ?it/s, loss=0.00606]"
     ]
    },
    {
     "name": "stdout",
     "output_type": "stream",
     "text": [
      "!!!!!! len(self.indices) 47104\n",
      "!!!!!! len(self.indices) 47104\n"
     ]
    },
    {
     "name": "stderr",
     "output_type": "stream",
     "text": [
      "Epoch:  36%|███▋      | 73/200 [20:29<40:49, 19.29s/it, loss=0.00685]"
     ]
    },
    {
     "name": "stdout",
     "output_type": "stream",
     "text": [
      "!!!!!! len(self.indices) 47104\n",
      "!!!!!! len(self.indices) 47104\n"
     ]
    },
    {
     "name": "stderr",
     "output_type": "stream",
     "text": []
    },
    {
     "name": "stdout",
     "output_type": "stream",
     "text": [
      "!!!!!! len(self.indices) 47104\n",
      "!!!!!! len(self.indices) 47104\n"
     ]
    },
    {
     "name": "stderr",
     "output_type": "stream",
     "text": [
      "Epoch:  37%|███▋      | 74/200 [20:50<41:47, 19.90s/it, loss=0.00608]"
     ]
    },
    {
     "name": "stdout",
     "output_type": "stream",
     "text": [
      "!!!!!! len(self.indices) 47104\n",
      "!!!!!! len(self.indices) 47104\n"
     ]
    },
    {
     "name": "stderr",
     "output_type": "stream",
     "text": []
    },
    {
     "name": "stdout",
     "output_type": "stream",
     "text": [
      "!!!!!! len(self.indices) 47104\n",
      "!!!!!! len(self.indices) 47104\n"
     ]
    },
    {
     "name": "stderr",
     "output_type": "stream",
     "text": [
      "Epoch:  38%|███▊      | 75/200 [21:10<41:10, 19.76s/it, loss=0.00625]"
     ]
    },
    {
     "name": "stdout",
     "output_type": "stream",
     "text": [
      "!!!!!! len(self.indices) 47104\n",
      "!!!!!! len(self.indices) 47104\n"
     ]
    },
    {
     "name": "stderr",
     "output_type": "stream",
     "text": []
    },
    {
     "name": "stdout",
     "output_type": "stream",
     "text": [
      "!!!!!! len(self.indices) 47104\n",
      "!!!!!! len(self.indices) 47104\n"
     ]
    },
    {
     "name": "stderr",
     "output_type": "stream",
     "text": [
      "Epoch:  38%|███▊      | 76/200 [21:29<40:36, 19.65s/it, loss=0.00604]"
     ]
    },
    {
     "name": "stdout",
     "output_type": "stream",
     "text": [
      "!!!!!! len(self.indices) 47104\n",
      "!!!!!! len(self.indices) 47104\n"
     ]
    },
    {
     "name": "stderr",
     "output_type": "stream",
     "text": []
    },
    {
     "name": "stdout",
     "output_type": "stream",
     "text": [
      "!!!!!! len(self.indices) 47104\n",
      "!!!!!! len(self.indices) 47104\n"
     ]
    },
    {
     "name": "stderr",
     "output_type": "stream",
     "text": [
      "Epoch:  38%|███▊      | 77/200 [21:49<40:09, 19.59s/it, loss=0.00598]"
     ]
    },
    {
     "name": "stdout",
     "output_type": "stream",
     "text": [
      "!!!!!! len(self.indices) 47104\n",
      "!!!!!! len(self.indices) 47104\n"
     ]
    },
    {
     "name": "stderr",
     "output_type": "stream",
     "text": []
    },
    {
     "name": "stdout",
     "output_type": "stream",
     "text": [
      "!!!!!! len(self.indices) 47104\n",
      "!!!!!! len(self.indices) 47104\n"
     ]
    },
    {
     "name": "stderr",
     "output_type": "stream",
     "text": [
      "Epoch:  39%|███▉      | 78/200 [22:08<39:44, 19.54s/it, loss=0.00799]"
     ]
    },
    {
     "name": "stdout",
     "output_type": "stream",
     "text": [
      "!!!!!! len(self.indices) 47104\n",
      "!!!!!! len(self.indices) 47104\n"
     ]
    },
    {
     "name": "stderr",
     "output_type": "stream",
     "text": []
    },
    {
     "name": "stdout",
     "output_type": "stream",
     "text": [
      "!!!!!! len(self.indices) 47104\n",
      "!!!!!! len(self.indices) 47104\n"
     ]
    },
    {
     "name": "stderr",
     "output_type": "stream",
     "text": [
      "Epoch:  40%|███▉      | 79/200 [22:27<39:19, 19.50s/it, loss=0.00644]"
     ]
    },
    {
     "name": "stdout",
     "output_type": "stream",
     "text": [
      "!!!!!! len(self.indices) 47104\n",
      "!!!!!! len(self.indices) 47104\n"
     ]
    },
    {
     "name": "stderr",
     "output_type": "stream",
     "text": []
    },
    {
     "name": "stdout",
     "output_type": "stream",
     "text": [
      "!!!!!! len(self.indices) 47104\n",
      "!!!!!! len(self.indices) 47104\n"
     ]
    },
    {
     "name": "stderr",
     "output_type": "stream",
     "text": [
      "Epoch:  40%|███▉      | 79/200 [22:49<39:19, 19.50s/it, loss=0.00563]"
     ]
    },
    {
     "name": "stdout",
     "output_type": "stream",
     "text": [
      "!!!!!! len(self.indices) 47104\n"
     ]
    },
    {
     "name": "stderr",
     "output_type": "stream",
     "text": [
      "Epoch:  40%|████      | 80/200 [22:50<40:41, 20.35s/it, loss=0.00563]"
     ]
    },
    {
     "name": "stdout",
     "output_type": "stream",
     "text": [
      "!!!!!! len(self.indices) 47104\n"
     ]
    },
    {
     "name": "stderr",
     "output_type": "stream",
     "text": []
    },
    {
     "name": "stdout",
     "output_type": "stream",
     "text": [
      "!!!!!! len(self.indices) 47104\n",
      "!!!!!! len(self.indices) 47104\n"
     ]
    },
    {
     "name": "stderr",
     "output_type": "stream",
     "text": [
      "Epoch:  40%|████      | 81/200 [23:09<39:44, 20.04s/it, loss=0.00531]"
     ]
    },
    {
     "name": "stdout",
     "output_type": "stream",
     "text": [
      "!!!!!! len(self.indices) 47104\n",
      "!!!!!! len(self.indices) 47104\n"
     ]
    },
    {
     "name": "stderr",
     "output_type": "stream",
     "text": []
    },
    {
     "name": "stdout",
     "output_type": "stream",
     "text": [
      "!!!!!! len(self.indices) 47104\n",
      "!!!!!! len(self.indices) 47104\n"
     ]
    },
    {
     "name": "stderr",
     "output_type": "stream",
     "text": [
      "Epoch:  41%|████      | 82/200 [23:30<40:07, 20.41s/it, loss=0.00561]"
     ]
    },
    {
     "name": "stdout",
     "output_type": "stream",
     "text": [
      "!!!!!! len(self.indices) 47104\n",
      "!!!!!! len(self.indices) 47104\n"
     ]
    },
    {
     "name": "stderr",
     "output_type": "stream",
     "text": []
    },
    {
     "name": "stdout",
     "output_type": "stream",
     "text": [
      "!!!!!! len(self.indices) 47104\n",
      "!!!!!! len(self.indices) 47104\n"
     ]
    },
    {
     "name": "stderr",
     "output_type": "stream",
     "text": [
      "Epoch:  42%|████▏     | 83/200 [23:52<40:23, 20.72s/it, loss=0.00574]"
     ]
    },
    {
     "name": "stdout",
     "output_type": "stream",
     "text": [
      "!!!!!! len(self.indices) 47104\n",
      "!!!!!! len(self.indices) 47104\n"
     ]
    },
    {
     "name": "stderr",
     "output_type": "stream",
     "text": []
    },
    {
     "name": "stdout",
     "output_type": "stream",
     "text": [
      "!!!!!! len(self.indices) 47104\n",
      "!!!!!! len(self.indices) 47104\n"
     ]
    },
    {
     "name": "stderr",
     "output_type": "stream",
     "text": [
      "Epoch:  42%|████▏     | 84/200 [24:13<40:20, 20.87s/it, loss=0.00518]"
     ]
    },
    {
     "name": "stdout",
     "output_type": "stream",
     "text": [
      "!!!!!! len(self.indices) 47104\n",
      "!!!!!! len(self.indices) 47104\n"
     ]
    },
    {
     "name": "stderr",
     "output_type": "stream",
     "text": []
    },
    {
     "name": "stdout",
     "output_type": "stream",
     "text": [
      "!!!!!! len(self.indices) 47104\n",
      "!!!!!! len(self.indices) 47104\n"
     ]
    },
    {
     "name": "stderr",
     "output_type": "stream",
     "text": [
      "Epoch:  42%|████▎     | 85/200 [24:34<40:12, 20.98s/it, loss=0.00483]"
     ]
    },
    {
     "name": "stdout",
     "output_type": "stream",
     "text": [
      "!!!!!! len(self.indices) 47104\n",
      "!!!!!! len(self.indices) 47104\n"
     ]
    },
    {
     "name": "stderr",
     "output_type": "stream",
     "text": []
    },
    {
     "name": "stdout",
     "output_type": "stream",
     "text": [
      "!!!!!! len(self.indices) 47104\n",
      "!!!!!! len(self.indices) 47104\n"
     ]
    },
    {
     "name": "stderr",
     "output_type": "stream",
     "text": [
      "Epoch:  43%|████▎     | 86/200 [24:55<40:02, 21.07s/it, loss=0.00527]"
     ]
    },
    {
     "name": "stdout",
     "output_type": "stream",
     "text": [
      "!!!!!! len(self.indices) 47104\n",
      "!!!!!! len(self.indices) 47104\n"
     ]
    },
    {
     "name": "stderr",
     "output_type": "stream",
     "text": []
    },
    {
     "name": "stdout",
     "output_type": "stream",
     "text": [
      "!!!!!! len(self.indices) 47104\n",
      "!!!!!! len(self.indices) 47104\n"
     ]
    },
    {
     "name": "stderr",
     "output_type": "stream",
     "text": [
      "Epoch:  44%|████▎     | 87/200 [25:17<39:48, 21.14s/it, loss=0.00481]"
     ]
    },
    {
     "name": "stdout",
     "output_type": "stream",
     "text": [
      "!!!!!! len(self.indices) 47104\n",
      "!!!!!! len(self.indices) 47104\n"
     ]
    },
    {
     "name": "stderr",
     "output_type": "stream",
     "text": []
    },
    {
     "name": "stdout",
     "output_type": "stream",
     "text": [
      "!!!!!! len(self.indices) 47104\n",
      "!!!!!! len(self.indices) 47104\n"
     ]
    },
    {
     "name": "stderr",
     "output_type": "stream",
     "text": [
      "Epoch:  44%|████▍     | 88/200 [25:38<39:28, 21.15s/it, loss=0.00519]"
     ]
    },
    {
     "name": "stdout",
     "output_type": "stream",
     "text": [
      "!!!!!! len(self.indices) 47104\n",
      "!!!!!! len(self.indices) 47104\n"
     ]
    },
    {
     "name": "stderr",
     "output_type": "stream",
     "text": []
    },
    {
     "name": "stdout",
     "output_type": "stream",
     "text": [
      "!!!!!! len(self.indices) 47104\n",
      "!!!!!! len(self.indices) 47104\n"
     ]
    },
    {
     "name": "stderr",
     "output_type": "stream",
     "text": [
      "Epoch:  44%|████▍     | 89/200 [25:59<39:07, 21.15s/it, loss=0.00494]"
     ]
    },
    {
     "name": "stdout",
     "output_type": "stream",
     "text": [
      "!!!!!! len(self.indices) 47104\n",
      "!!!!!! len(self.indices) 47104\n"
     ]
    },
    {
     "name": "stderr",
     "output_type": "stream",
     "text": []
    },
    {
     "name": "stdout",
     "output_type": "stream",
     "text": [
      "!!!!!! len(self.indices) 47104\n",
      "!!!!!! len(self.indices) 47104\n"
     ]
    },
    {
     "name": "stderr",
     "output_type": "stream",
     "text": [
      "Epoch:  44%|████▍     | 89/200 [26:20<39:07, 21.15s/it, loss=0.0056] "
     ]
    },
    {
     "name": "stdout",
     "output_type": "stream",
     "text": [
      "!!!!!! len(self.indices) 47104\n"
     ]
    },
    {
     "name": "stderr",
     "output_type": "stream",
     "text": [
      "Epoch:  45%|████▌     | 90/200 [26:21<38:56, 21.24s/it, loss=0.0056]"
     ]
    },
    {
     "name": "stdout",
     "output_type": "stream",
     "text": [
      "!!!!!! len(self.indices) 47104\n"
     ]
    },
    {
     "name": "stderr",
     "output_type": "stream",
     "text": []
    },
    {
     "name": "stdout",
     "output_type": "stream",
     "text": [
      "!!!!!! len(self.indices) 47104\n",
      "!!!!!! len(self.indices) 47104\n"
     ]
    },
    {
     "name": "stderr",
     "output_type": "stream",
     "text": [
      "Epoch:  46%|████▌     | 91/200 [26:39<37:10, 20.46s/it, loss=0.00509]"
     ]
    },
    {
     "name": "stdout",
     "output_type": "stream",
     "text": [
      "!!!!!! len(self.indices) 47104\n",
      "!!!!!! len(self.indices) 47104\n"
     ]
    },
    {
     "name": "stderr",
     "output_type": "stream",
     "text": []
    },
    {
     "name": "stdout",
     "output_type": "stream",
     "text": [
      "!!!!!! len(self.indices) 47104\n",
      "!!!!!! len(self.indices) 47104\n"
     ]
    },
    {
     "name": "stderr",
     "output_type": "stream",
     "text": [
      "Epoch:  46%|████▌     | 92/200 [26:59<36:15, 20.15s/it, loss=0.00549]"
     ]
    },
    {
     "name": "stdout",
     "output_type": "stream",
     "text": [
      "!!!!!! len(self.indices) 47104\n",
      "!!!!!! len(self.indices) 47104\n"
     ]
    },
    {
     "name": "stderr",
     "output_type": "stream",
     "text": []
    },
    {
     "name": "stdout",
     "output_type": "stream",
     "text": [
      "!!!!!! len(self.indices) 47104\n",
      "!!!!!! len(self.indices) 47104\n"
     ]
    },
    {
     "name": "stderr",
     "output_type": "stream",
     "text": [
      "Epoch:  46%|████▋     | 93/200 [27:22<37:35, 21.08s/it, loss=0.00518]"
     ]
    },
    {
     "name": "stdout",
     "output_type": "stream",
     "text": [
      "!!!!!! len(self.indices) 47104\n",
      "!!!!!! len(self.indices) 47104\n"
     ]
    },
    {
     "name": "stderr",
     "output_type": "stream",
     "text": []
    },
    {
     "name": "stdout",
     "output_type": "stream",
     "text": [
      "!!!!!! len(self.indices) 47104\n",
      "!!!!!! len(self.indices) 47104\n"
     ]
    },
    {
     "name": "stderr",
     "output_type": "stream",
     "text": [
      "Epoch:  47%|████▋     | 94/200 [27:40<35:25, 20.06s/it, loss=0.00517]"
     ]
    },
    {
     "name": "stdout",
     "output_type": "stream",
     "text": [
      "!!!!!! len(self.indices) 47104\n",
      "!!!!!! len(self.indices) 47104\n"
     ]
    },
    {
     "name": "stderr",
     "output_type": "stream",
     "text": []
    },
    {
     "name": "stdout",
     "output_type": "stream",
     "text": [
      "!!!!!! len(self.indices) 47104\n",
      "!!!!!! len(self.indices) 47104\n"
     ]
    },
    {
     "name": "stderr",
     "output_type": "stream",
     "text": [
      "Epoch:  48%|████▊     | 95/200 [28:00<35:10, 20.10s/it, loss=0.00493]"
     ]
    },
    {
     "name": "stdout",
     "output_type": "stream",
     "text": [
      "!!!!!! len(self.indices) 47104\n",
      "!!!!!! len(self.indices) 47104\n"
     ]
    },
    {
     "name": "stderr",
     "output_type": "stream",
     "text": []
    },
    {
     "name": "stdout",
     "output_type": "stream",
     "text": [
      "!!!!!! len(self.indices) 47104\n",
      "!!!!!! len(self.indices) 47104\n"
     ]
    },
    {
     "name": "stderr",
     "output_type": "stream",
     "text": [
      "Epoch:  48%|████▊     | 96/200 [28:19<34:18, 19.79s/it, loss=0.00546]"
     ]
    },
    {
     "name": "stdout",
     "output_type": "stream",
     "text": [
      "!!!!!! len(self.indices) 47104\n",
      "!!!!!! len(self.indices) 47104\n"
     ]
    },
    {
     "name": "stderr",
     "output_type": "stream",
     "text": []
    },
    {
     "name": "stdout",
     "output_type": "stream",
     "text": [
      "!!!!!! len(self.indices) 47104\n",
      "!!!!!! len(self.indices) 47104\n"
     ]
    },
    {
     "name": "stderr",
     "output_type": "stream",
     "text": [
      "Epoch:  48%|████▊     | 97/200 [28:41<34:59, 20.38s/it, loss=0.00438]"
     ]
    },
    {
     "name": "stdout",
     "output_type": "stream",
     "text": [
      "!!!!!! len(self.indices) 47104\n",
      "!!!!!! len(self.indices) 47104\n"
     ]
    },
    {
     "name": "stderr",
     "output_type": "stream",
     "text": []
    },
    {
     "name": "stdout",
     "output_type": "stream",
     "text": [
      "!!!!!! len(self.indices) 47104\n",
      "!!!!!! len(self.indices) 47104\n"
     ]
    },
    {
     "name": "stderr",
     "output_type": "stream",
     "text": [
      "Epoch:  49%|████▉     | 98/200 [29:01<34:40, 20.40s/it, loss=0.0047] "
     ]
    },
    {
     "name": "stdout",
     "output_type": "stream",
     "text": [
      "!!!!!! len(self.indices) 47104\n",
      "!!!!!! len(self.indices) 47104\n"
     ]
    },
    {
     "name": "stderr",
     "output_type": "stream",
     "text": []
    },
    {
     "name": "stdout",
     "output_type": "stream",
     "text": [
      "!!!!!! len(self.indices) 47104\n",
      "!!!!!! len(self.indices) 47104\n"
     ]
    },
    {
     "name": "stderr",
     "output_type": "stream",
     "text": [
      "Epoch:  50%|████▉     | 99/200 [29:21<34:17, 20.37s/it, loss=0.00472]"
     ]
    },
    {
     "name": "stdout",
     "output_type": "stream",
     "text": [
      "!!!!!! len(self.indices) 47104\n",
      "!!!!!! len(self.indices) 47104\n"
     ]
    },
    {
     "name": "stderr",
     "output_type": "stream",
     "text": []
    },
    {
     "name": "stdout",
     "output_type": "stream",
     "text": [
      "!!!!!! len(self.indices) 47104\n",
      "!!!!!! len(self.indices) 47104\n"
     ]
    },
    {
     "name": "stderr",
     "output_type": "stream",
     "text": [
      "Epoch:  50%|████▉     | 99/200 [29:42<34:17, 20.37s/it, loss=0.00436]"
     ]
    },
    {
     "name": "stdout",
     "output_type": "stream",
     "text": [
      "!!!!!! len(self.indices) 47104\n"
     ]
    },
    {
     "name": "stderr",
     "output_type": "stream",
     "text": [
      "Epoch:  50%|█████     | 100/200 [29:42<34:05, 20.46s/it, loss=0.00436]"
     ]
    },
    {
     "name": "stdout",
     "output_type": "stream",
     "text": [
      "!!!!!! len(self.indices) 47104\n"
     ]
    },
    {
     "name": "stderr",
     "output_type": "stream",
     "text": []
    },
    {
     "name": "stdout",
     "output_type": "stream",
     "text": [
      "!!!!!! len(self.indices) 47104\n",
      "!!!!!! len(self.indices) 47104\n"
     ]
    },
    {
     "name": "stderr",
     "output_type": "stream",
     "text": [
      "Epoch:  50%|█████     | 101/200 [30:02<33:45, 20.46s/it, loss=0.00474]"
     ]
    },
    {
     "name": "stdout",
     "output_type": "stream",
     "text": [
      "!!!!!! len(self.indices) 47104\n",
      "!!!!!! len(self.indices) 47104\n"
     ]
    },
    {
     "name": "stderr",
     "output_type": "stream",
     "text": []
    },
    {
     "name": "stdout",
     "output_type": "stream",
     "text": [
      "!!!!!! len(self.indices) 47104\n",
      "!!!!!! len(self.indices) 47104\n"
     ]
    },
    {
     "name": "stderr",
     "output_type": "stream",
     "text": [
      "Epoch:  51%|█████     | 102/200 [30:23<33:31, 20.53s/it, loss=0.00529]"
     ]
    },
    {
     "name": "stdout",
     "output_type": "stream",
     "text": [
      "!!!!!! len(self.indices) 47104\n",
      "!!!!!! len(self.indices) 47104\n"
     ]
    },
    {
     "name": "stderr",
     "output_type": "stream",
     "text": []
    },
    {
     "name": "stdout",
     "output_type": "stream",
     "text": [
      "!!!!!! len(self.indices) 47104\n",
      "!!!!!! len(self.indices) 47104\n"
     ]
    },
    {
     "name": "stderr",
     "output_type": "stream",
     "text": [
      "Epoch:  52%|█████▏    | 103/200 [30:45<33:46, 20.90s/it, loss=0.00483]"
     ]
    },
    {
     "name": "stdout",
     "output_type": "stream",
     "text": [
      "!!!!!! len(self.indices) 47104\n",
      "!!!!!! len(self.indices) 47104\n"
     ]
    },
    {
     "name": "stderr",
     "output_type": "stream",
     "text": []
    },
    {
     "name": "stdout",
     "output_type": "stream",
     "text": [
      "!!!!!! len(self.indices) 47104\n",
      "!!!!!! len(self.indices) 47104\n"
     ]
    },
    {
     "name": "stderr",
     "output_type": "stream",
     "text": [
      "Epoch:  52%|█████▏    | 104/200 [31:07<33:50, 21.15s/it, loss=0.00455]"
     ]
    },
    {
     "name": "stdout",
     "output_type": "stream",
     "text": [
      "!!!!!! len(self.indices) 47104\n",
      "!!!!!! len(self.indices) 47104\n"
     ]
    },
    {
     "name": "stderr",
     "output_type": "stream",
     "text": []
    },
    {
     "name": "stdout",
     "output_type": "stream",
     "text": [
      "!!!!!! len(self.indices) 47104\n",
      "!!!!!! len(self.indices) 47104\n"
     ]
    },
    {
     "name": "stderr",
     "output_type": "stream",
     "text": [
      "Epoch:  52%|█████▎    | 105/200 [31:28<33:45, 21.32s/it, loss=0.00464]"
     ]
    },
    {
     "name": "stdout",
     "output_type": "stream",
     "text": [
      "!!!!!! len(self.indices) 47104\n",
      "!!!!!! len(self.indices) 47104\n"
     ]
    },
    {
     "name": "stderr",
     "output_type": "stream",
     "text": []
    },
    {
     "name": "stdout",
     "output_type": "stream",
     "text": [
      "!!!!!! len(self.indices) 47104\n",
      "!!!!!! len(self.indices) 47104\n"
     ]
    },
    {
     "name": "stderr",
     "output_type": "stream",
     "text": [
      "Epoch:  53%|█████▎    | 106/200 [31:50<33:34, 21.44s/it, loss=0.00455]"
     ]
    },
    {
     "name": "stdout",
     "output_type": "stream",
     "text": [
      "!!!!!! len(self.indices) 47104\n",
      "!!!!!! len(self.indices) 47104\n"
     ]
    },
    {
     "name": "stderr",
     "output_type": "stream",
     "text": []
    },
    {
     "name": "stdout",
     "output_type": "stream",
     "text": [
      "!!!!!! len(self.indices) 47104\n",
      "!!!!!! len(self.indices) 47104\n"
     ]
    },
    {
     "name": "stderr",
     "output_type": "stream",
     "text": [
      "Epoch:  54%|█████▎    | 107/200 [32:12<33:23, 21.54s/it, loss=0.00454]"
     ]
    },
    {
     "name": "stdout",
     "output_type": "stream",
     "text": [
      "!!!!!! len(self.indices) 47104\n",
      "!!!!!! len(self.indices) 47104\n"
     ]
    },
    {
     "name": "stderr",
     "output_type": "stream",
     "text": []
    },
    {
     "name": "stdout",
     "output_type": "stream",
     "text": [
      "!!!!!! len(self.indices) 47104\n",
      "!!!!!! len(self.indices) 47104\n"
     ]
    },
    {
     "name": "stderr",
     "output_type": "stream",
     "text": [
      "Epoch:  54%|█████▍    | 108/200 [32:34<33:05, 21.58s/it, loss=0.00434]"
     ]
    },
    {
     "name": "stdout",
     "output_type": "stream",
     "text": [
      "!!!!!! len(self.indices) 47104\n",
      "!!!!!! len(self.indices) 47104\n"
     ]
    },
    {
     "name": "stderr",
     "output_type": "stream",
     "text": []
    },
    {
     "name": "stdout",
     "output_type": "stream",
     "text": [
      "!!!!!! len(self.indices) 47104\n",
      "!!!!!! len(self.indices) 47104\n"
     ]
    },
    {
     "name": "stderr",
     "output_type": "stream",
     "text": [
      "Epoch:  55%|█████▍    | 109/200 [32:54<32:16, 21.28s/it, loss=0.00431]"
     ]
    },
    {
     "name": "stdout",
     "output_type": "stream",
     "text": [
      "!!!!!! len(self.indices) 47104\n",
      "!!!!!! len(self.indices) 47104\n"
     ]
    },
    {
     "name": "stderr",
     "output_type": "stream",
     "text": []
    },
    {
     "name": "stdout",
     "output_type": "stream",
     "text": [
      "!!!!!! len(self.indices) 47104\n",
      "!!!!!! len(self.indices) 47104\n"
     ]
    },
    {
     "name": "stderr",
     "output_type": "stream",
     "text": [
      "Epoch:  55%|█████▍    | 109/200 [33:12<32:16, 21.28s/it, loss=0.00405]"
     ]
    },
    {
     "name": "stdout",
     "output_type": "stream",
     "text": [
      "!!!!!! len(self.indices) 47104\n"
     ]
    },
    {
     "name": "stderr",
     "output_type": "stream",
     "text": [
      "Epoch:  55%|█████▌    | 110/200 [33:12<30:29, 20.33s/it, loss=0.00405]"
     ]
    },
    {
     "name": "stdout",
     "output_type": "stream",
     "text": [
      "!!!!!! len(self.indices) 47104\n"
     ]
    },
    {
     "name": "stderr",
     "output_type": "stream",
     "text": []
    },
    {
     "name": "stdout",
     "output_type": "stream",
     "text": [
      "!!!!!! len(self.indices) 47104\n",
      "!!!!!! len(self.indices) 47104\n"
     ]
    },
    {
     "name": "stderr",
     "output_type": "stream",
     "text": [
      "Epoch:  56%|█████▌    | 111/200 [33:31<29:37, 19.97s/it, loss=0.00426]"
     ]
    },
    {
     "name": "stdout",
     "output_type": "stream",
     "text": [
      "!!!!!! len(self.indices) 47104\n",
      "!!!!!! len(self.indices) 47104\n"
     ]
    },
    {
     "name": "stderr",
     "output_type": "stream",
     "text": []
    },
    {
     "name": "stdout",
     "output_type": "stream",
     "text": [
      "!!!!!! len(self.indices) 47104\n",
      "!!!!!! len(self.indices) 47104\n"
     ]
    },
    {
     "name": "stderr",
     "output_type": "stream",
     "text": [
      "Epoch:  56%|█████▌    | 112/200 [33:51<29:09, 19.88s/it, loss=0.00474]"
     ]
    },
    {
     "name": "stdout",
     "output_type": "stream",
     "text": [
      "!!!!!! len(self.indices) 47104\n",
      "!!!!!! len(self.indices) 47104\n"
     ]
    },
    {
     "name": "stderr",
     "output_type": "stream",
     "text": []
    },
    {
     "name": "stdout",
     "output_type": "stream",
     "text": [
      "!!!!!! len(self.indices) 47104\n",
      "!!!!!! len(self.indices) 47104\n"
     ]
    },
    {
     "name": "stderr",
     "output_type": "stream",
     "text": [
      "Epoch:  56%|█████▋    | 113/200 [34:11<28:45, 19.84s/it, loss=0.00386]"
     ]
    },
    {
     "name": "stdout",
     "output_type": "stream",
     "text": [
      "!!!!!! len(self.indices) 47104\n",
      "!!!!!! len(self.indices) 47104\n"
     ]
    },
    {
     "name": "stderr",
     "output_type": "stream",
     "text": []
    },
    {
     "name": "stdout",
     "output_type": "stream",
     "text": [
      "!!!!!! len(self.indices) 47104\n",
      "!!!!!! len(self.indices) 47104\n"
     ]
    },
    {
     "name": "stderr",
     "output_type": "stream",
     "text": [
      "Epoch:  57%|█████▋    | 114/200 [34:32<28:59, 20.22s/it, loss=0.00405]"
     ]
    },
    {
     "name": "stdout",
     "output_type": "stream",
     "text": [
      "!!!!!! len(self.indices) 47104\n",
      "!!!!!! len(self.indices) 47104\n"
     ]
    },
    {
     "name": "stderr",
     "output_type": "stream",
     "text": []
    },
    {
     "name": "stdout",
     "output_type": "stream",
     "text": [
      "!!!!!! len(self.indices) 47104\n",
      "!!!!!! len(self.indices) 47104\n"
     ]
    },
    {
     "name": "stderr",
     "output_type": "stream",
     "text": [
      "Epoch:  57%|█████▊    | 115/200 [34:51<28:22, 20.04s/it, loss=0.00393]"
     ]
    },
    {
     "name": "stdout",
     "output_type": "stream",
     "text": [
      "!!!!!! len(self.indices) 47104\n",
      "!!!!!! len(self.indices) 47104\n"
     ]
    },
    {
     "name": "stderr",
     "output_type": "stream",
     "text": []
    },
    {
     "name": "stdout",
     "output_type": "stream",
     "text": [
      "!!!!!! len(self.indices) 47104\n",
      "!!!!!! len(self.indices) 47104\n"
     ]
    },
    {
     "name": "stderr",
     "output_type": "stream",
     "text": [
      "Epoch:  58%|█████▊    | 116/200 [35:12<28:26, 20.32s/it, loss=0.00419]"
     ]
    },
    {
     "name": "stdout",
     "output_type": "stream",
     "text": [
      "!!!!!! len(self.indices) 47104\n",
      "!!!!!! len(self.indices) 47104\n"
     ]
    },
    {
     "name": "stderr",
     "output_type": "stream",
     "text": []
    },
    {
     "name": "stdout",
     "output_type": "stream",
     "text": [
      "!!!!!! len(self.indices) 47104\n",
      "!!!!!! len(self.indices) 47104\n"
     ]
    },
    {
     "name": "stderr",
     "output_type": "stream",
     "text": [
      "Epoch:  58%|█████▊    | 117/200 [35:32<27:51, 20.14s/it, loss=0.00392]"
     ]
    },
    {
     "name": "stdout",
     "output_type": "stream",
     "text": [
      "!!!!!! len(self.indices) 47104\n",
      "!!!!!! len(self.indices) 47104\n"
     ]
    },
    {
     "name": "stderr",
     "output_type": "stream",
     "text": []
    },
    {
     "name": "stdout",
     "output_type": "stream",
     "text": [
      "!!!!!! len(self.indices) 47104\n",
      "!!!!!! len(self.indices) 47104\n"
     ]
    },
    {
     "name": "stderr",
     "output_type": "stream",
     "text": [
      "Epoch:  59%|█████▉    | 118/200 [35:52<27:27, 20.09s/it, loss=0.00393]"
     ]
    },
    {
     "name": "stdout",
     "output_type": "stream",
     "text": [
      "!!!!!! len(self.indices) 47104\n",
      "!!!!!! len(self.indices) 47104\n"
     ]
    },
    {
     "name": "stderr",
     "output_type": "stream",
     "text": []
    },
    {
     "name": "stdout",
     "output_type": "stream",
     "text": [
      "!!!!!! len(self.indices) 47104\n",
      "!!!!!! len(self.indices) 47104\n"
     ]
    },
    {
     "name": "stderr",
     "output_type": "stream",
     "text": [
      "Epoch:  60%|█████▉    | 119/200 [36:12<27:01, 20.02s/it, loss=0.00386]"
     ]
    },
    {
     "name": "stdout",
     "output_type": "stream",
     "text": [
      "!!!!!! len(self.indices) 47104\n",
      "!!!!!! len(self.indices) 47104\n"
     ]
    },
    {
     "name": "stderr",
     "output_type": "stream",
     "text": []
    },
    {
     "name": "stdout",
     "output_type": "stream",
     "text": [
      "!!!!!! len(self.indices) 47104\n",
      "!!!!!! len(self.indices) 47104\n"
     ]
    },
    {
     "name": "stderr",
     "output_type": "stream",
     "text": [
      "Epoch:  60%|█████▉    | 119/200 [36:32<27:01, 20.02s/it, loss=0.00363]"
     ]
    },
    {
     "name": "stdout",
     "output_type": "stream",
     "text": [
      "!!!!!! len(self.indices) 47104\n"
     ]
    },
    {
     "name": "stderr",
     "output_type": "stream",
     "text": [
      "Epoch:  60%|██████    | 120/200 [36:32<26:46, 20.08s/it, loss=0.00363]"
     ]
    },
    {
     "name": "stdout",
     "output_type": "stream",
     "text": [
      "!!!!!! len(self.indices) 47104\n"
     ]
    },
    {
     "name": "stderr",
     "output_type": "stream",
     "text": []
    },
    {
     "name": "stdout",
     "output_type": "stream",
     "text": [
      "!!!!!! len(self.indices) 47104\n",
      "!!!!!! len(self.indices) 47104\n"
     ]
    },
    {
     "name": "stderr",
     "output_type": "stream",
     "text": [
      "Epoch:  60%|██████    | 121/200 [36:52<26:23, 20.04s/it, loss=0.00368]"
     ]
    },
    {
     "name": "stdout",
     "output_type": "stream",
     "text": [
      "!!!!!! len(self.indices) 47104\n",
      "!!!!!! len(self.indices) 47104\n"
     ]
    },
    {
     "name": "stderr",
     "output_type": "stream",
     "text": []
    },
    {
     "name": "stdout",
     "output_type": "stream",
     "text": [
      "!!!!!! len(self.indices) 47104\n",
      "!!!!!! len(self.indices) 47104\n"
     ]
    },
    {
     "name": "stderr",
     "output_type": "stream",
     "text": [
      "Epoch:  61%|██████    | 122/200 [37:12<26:01, 20.02s/it, loss=0.0037] "
     ]
    },
    {
     "name": "stdout",
     "output_type": "stream",
     "text": [
      "!!!!!! len(self.indices) 47104\n",
      "!!!!!! len(self.indices) 47104\n"
     ]
    },
    {
     "name": "stderr",
     "output_type": "stream",
     "text": []
    },
    {
     "name": "stdout",
     "output_type": "stream",
     "text": [
      "!!!!!! len(self.indices) 47104\n",
      "!!!!!! len(self.indices) 47104\n"
     ]
    },
    {
     "name": "stderr",
     "output_type": "stream",
     "text": [
      "Epoch:  62%|██████▏   | 123/200 [37:32<25:37, 19.97s/it, loss=0.00351]"
     ]
    },
    {
     "name": "stdout",
     "output_type": "stream",
     "text": [
      "!!!!!! len(self.indices) 47104\n",
      "!!!!!! len(self.indices) 47104\n"
     ]
    },
    {
     "name": "stderr",
     "output_type": "stream",
     "text": []
    },
    {
     "name": "stdout",
     "output_type": "stream",
     "text": [
      "!!!!!! len(self.indices) 47104\n",
      "!!!!!! len(self.indices) 47104\n"
     ]
    },
    {
     "name": "stderr",
     "output_type": "stream",
     "text": [
      "Epoch:  62%|██████▏   | 124/200 [37:52<25:17, 19.97s/it, loss=0.0038] "
     ]
    },
    {
     "name": "stdout",
     "output_type": "stream",
     "text": [
      "!!!!!! len(self.indices) 47104\n",
      "!!!!!! len(self.indices) 47104\n"
     ]
    },
    {
     "name": "stderr",
     "output_type": "stream",
     "text": []
    },
    {
     "name": "stdout",
     "output_type": "stream",
     "text": [
      "!!!!!! len(self.indices) 47104\n",
      "!!!!!! len(self.indices) 47104\n"
     ]
    },
    {
     "name": "stderr",
     "output_type": "stream",
     "text": [
      "Epoch:  62%|██████▎   | 125/200 [38:12<24:56, 19.95s/it, loss=0.00402]"
     ]
    },
    {
     "name": "stdout",
     "output_type": "stream",
     "text": [
      "!!!!!! len(self.indices) 47104\n",
      "!!!!!! len(self.indices) 47104\n"
     ]
    },
    {
     "name": "stderr",
     "output_type": "stream",
     "text": []
    },
    {
     "name": "stdout",
     "output_type": "stream",
     "text": [
      "!!!!!! len(self.indices) 47104\n",
      "!!!!!! len(self.indices) 47104\n"
     ]
    },
    {
     "name": "stderr",
     "output_type": "stream",
     "text": [
      "Epoch:  63%|██████▎   | 126/200 [38:32<24:36, 19.95s/it, loss=0.00391]"
     ]
    },
    {
     "name": "stdout",
     "output_type": "stream",
     "text": [
      "!!!!!! len(self.indices) 47104\n",
      "!!!!!! len(self.indices) 47104\n"
     ]
    },
    {
     "name": "stderr",
     "output_type": "stream",
     "text": []
    },
    {
     "name": "stdout",
     "output_type": "stream",
     "text": [
      "!!!!!! len(self.indices) 47104\n",
      "!!!!!! len(self.indices) 47104\n"
     ]
    },
    {
     "name": "stderr",
     "output_type": "stream",
     "text": [
      "Epoch:  64%|██████▎   | 127/200 [38:52<24:17, 19.96s/it, loss=0.00366]"
     ]
    },
    {
     "name": "stdout",
     "output_type": "stream",
     "text": [
      "!!!!!! len(self.indices) 47104\n",
      "!!!!!! len(self.indices) 47104\n"
     ]
    },
    {
     "name": "stderr",
     "output_type": "stream",
     "text": []
    },
    {
     "name": "stdout",
     "output_type": "stream",
     "text": [
      "!!!!!! len(self.indices) 47104\n",
      "!!!!!! len(self.indices) 47104\n"
     ]
    },
    {
     "name": "stderr",
     "output_type": "stream",
     "text": [
      "Epoch:  64%|██████▍   | 128/200 [39:15<24:59, 20.83s/it, loss=0.00349]"
     ]
    },
    {
     "name": "stdout",
     "output_type": "stream",
     "text": [
      "!!!!!! len(self.indices) 47104\n",
      "!!!!!! len(self.indices) 47104\n"
     ]
    },
    {
     "name": "stderr",
     "output_type": "stream",
     "text": []
    },
    {
     "name": "stdout",
     "output_type": "stream",
     "text": [
      "!!!!!! len(self.indices) 47104\n",
      "!!!!!! len(self.indices) 47104\n"
     ]
    },
    {
     "name": "stderr",
     "output_type": "stream",
     "text": [
      "Epoch:  64%|██████▍   | 129/200 [39:35<24:37, 20.81s/it, loss=0.00382]"
     ]
    },
    {
     "name": "stdout",
     "output_type": "stream",
     "text": [
      "!!!!!! len(self.indices) 47104\n",
      "!!!!!! len(self.indices) 47104\n"
     ]
    },
    {
     "name": "stderr",
     "output_type": "stream",
     "text": []
    },
    {
     "name": "stdout",
     "output_type": "stream",
     "text": [
      "!!!!!! len(self.indices) 47104\n",
      "!!!!!! len(self.indices) 47104\n"
     ]
    },
    {
     "name": "stderr",
     "output_type": "stream",
     "text": [
      "Epoch:  64%|██████▍   | 129/200 [39:56<24:37, 20.81s/it, loss=0.00374]"
     ]
    },
    {
     "name": "stdout",
     "output_type": "stream",
     "text": [
      "!!!!!! len(self.indices) 47104\n"
     ]
    },
    {
     "name": "stderr",
     "output_type": "stream",
     "text": [
      "Epoch:  65%|██████▌   | 130/200 [39:56<24:21, 20.88s/it, loss=0.00374]"
     ]
    },
    {
     "name": "stdout",
     "output_type": "stream",
     "text": [
      "!!!!!! len(self.indices) 47104\n"
     ]
    },
    {
     "name": "stderr",
     "output_type": "stream",
     "text": []
    },
    {
     "name": "stdout",
     "output_type": "stream",
     "text": [
      "!!!!!! len(self.indices) 47104\n",
      "!!!!!! len(self.indices) 47104\n"
     ]
    },
    {
     "name": "stderr",
     "output_type": "stream",
     "text": [
      "Epoch:  66%|██████▌   | 131/200 [40:18<24:17, 21.12s/it, loss=0.00339]"
     ]
    },
    {
     "name": "stdout",
     "output_type": "stream",
     "text": [
      "!!!!!! len(self.indices) 47104\n",
      "!!!!!! len(self.indices) 47104\n"
     ]
    },
    {
     "name": "stderr",
     "output_type": "stream",
     "text": []
    },
    {
     "name": "stdout",
     "output_type": "stream",
     "text": [
      "!!!!!! len(self.indices) 47104\n",
      "!!!!!! len(self.indices) 47104\n"
     ]
    },
    {
     "name": "stderr",
     "output_type": "stream",
     "text": [
      "Epoch:  66%|██████▌   | 132/200 [40:41<24:32, 21.65s/it, loss=0.00379]"
     ]
    },
    {
     "name": "stdout",
     "output_type": "stream",
     "text": [
      "!!!!!! len(self.indices) 47104\n",
      "!!!!!! len(self.indices) 47104\n"
     ]
    },
    {
     "name": "stderr",
     "output_type": "stream",
     "text": []
    },
    {
     "name": "stdout",
     "output_type": "stream",
     "text": [
      "!!!!!! len(self.indices) 47104\n",
      "!!!!!! len(self.indices) 47104\n"
     ]
    },
    {
     "name": "stderr",
     "output_type": "stream",
     "text": [
      "Epoch:  66%|██████▋   | 133/200 [41:01<23:30, 21.06s/it, loss=0.00327]"
     ]
    },
    {
     "name": "stdout",
     "output_type": "stream",
     "text": [
      "!!!!!! len(self.indices) 47104\n",
      "!!!!!! len(self.indices) 47104\n"
     ]
    },
    {
     "name": "stderr",
     "output_type": "stream",
     "text": []
    },
    {
     "name": "stdout",
     "output_type": "stream",
     "text": [
      "!!!!!! len(self.indices) 47104\n",
      "!!!!!! len(self.indices) 47104\n"
     ]
    },
    {
     "name": "stderr",
     "output_type": "stream",
     "text": [
      "Epoch:  67%|██████▋   | 134/200 [41:20<22:26, 20.40s/it, loss=0.00317]"
     ]
    },
    {
     "name": "stdout",
     "output_type": "stream",
     "text": [
      "!!!!!! len(self.indices) 47104\n",
      "!!!!!! len(self.indices) 47104\n"
     ]
    },
    {
     "name": "stderr",
     "output_type": "stream",
     "text": []
    },
    {
     "name": "stdout",
     "output_type": "stream",
     "text": [
      "!!!!!! len(self.indices) 47104\n",
      "!!!!!! len(self.indices) 47104\n"
     ]
    },
    {
     "name": "stderr",
     "output_type": "stream",
     "text": [
      "Epoch:  68%|██████▊   | 135/200 [41:40<22:04, 20.38s/it, loss=0.00318]"
     ]
    },
    {
     "name": "stdout",
     "output_type": "stream",
     "text": [
      "!!!!!! len(self.indices) 47104\n",
      "!!!!!! len(self.indices) 47104\n"
     ]
    },
    {
     "name": "stderr",
     "output_type": "stream",
     "text": []
    },
    {
     "name": "stdout",
     "output_type": "stream",
     "text": [
      "!!!!!! len(self.indices) 47104\n",
      "!!!!!! len(self.indices) 47104\n"
     ]
    },
    {
     "name": "stderr",
     "output_type": "stream",
     "text": [
      "Epoch:  68%|██████▊   | 136/200 [42:00<21:41, 20.34s/it, loss=0.00318]"
     ]
    },
    {
     "name": "stdout",
     "output_type": "stream",
     "text": [
      "!!!!!! len(self.indices) 47104\n",
      "!!!!!! len(self.indices) 47104\n"
     ]
    },
    {
     "name": "stderr",
     "output_type": "stream",
     "text": []
    },
    {
     "name": "stdout",
     "output_type": "stream",
     "text": [
      "!!!!!! len(self.indices) 47104\n",
      "!!!!!! len(self.indices) 47104\n"
     ]
    },
    {
     "name": "stderr",
     "output_type": "stream",
     "text": [
      "Epoch:  68%|██████▊   | 137/200 [42:20<21:18, 20.29s/it, loss=0.00336]"
     ]
    },
    {
     "name": "stdout",
     "output_type": "stream",
     "text": [
      "!!!!!! len(self.indices) 47104\n",
      "!!!!!! len(self.indices) 47104\n"
     ]
    },
    {
     "name": "stderr",
     "output_type": "stream",
     "text": []
    },
    {
     "name": "stdout",
     "output_type": "stream",
     "text": [
      "!!!!!! len(self.indices) 47104\n",
      "!!!!!! len(self.indices) 47104\n"
     ]
    },
    {
     "name": "stderr",
     "output_type": "stream",
     "text": [
      "Epoch:  69%|██████▉   | 138/200 [42:41<21:00, 20.33s/it, loss=0.003]  "
     ]
    },
    {
     "name": "stdout",
     "output_type": "stream",
     "text": [
      "!!!!!! len(self.indices) 47104\n",
      "!!!!!! len(self.indices) 47104\n"
     ]
    },
    {
     "name": "stderr",
     "output_type": "stream",
     "text": []
    },
    {
     "name": "stdout",
     "output_type": "stream",
     "text": [
      "!!!!!! len(self.indices) 47104\n",
      "!!!!!! len(self.indices) 47104\n"
     ]
    },
    {
     "name": "stderr",
     "output_type": "stream",
     "text": [
      "Epoch:  70%|██████▉   | 139/200 [43:01<20:42, 20.36s/it, loss=0.0033]"
     ]
    },
    {
     "name": "stdout",
     "output_type": "stream",
     "text": [
      "!!!!!! len(self.indices) 47104\n",
      "!!!!!! len(self.indices) 47104\n"
     ]
    },
    {
     "name": "stderr",
     "output_type": "stream",
     "text": []
    },
    {
     "name": "stdout",
     "output_type": "stream",
     "text": [
      "!!!!!! len(self.indices) 47104\n",
      "!!!!!! len(self.indices) 47104\n"
     ]
    },
    {
     "name": "stderr",
     "output_type": "stream",
     "text": [
      "Epoch:  70%|██████▉   | 139/200 [43:22<20:42, 20.36s/it, loss=0.00309]"
     ]
    },
    {
     "name": "stdout",
     "output_type": "stream",
     "text": [
      "!!!!!! len(self.indices) 47104\n"
     ]
    },
    {
     "name": "stderr",
     "output_type": "stream",
     "text": [
      "Epoch:  70%|███████   | 140/200 [43:22<20:26, 20.45s/it, loss=0.00309]"
     ]
    },
    {
     "name": "stdout",
     "output_type": "stream",
     "text": [
      "!!!!!! len(self.indices) 47104\n"
     ]
    },
    {
     "name": "stderr",
     "output_type": "stream",
     "text": []
    },
    {
     "name": "stdout",
     "output_type": "stream",
     "text": [
      "!!!!!! len(self.indices) 47104\n",
      "!!!!!! len(self.indices) 47104\n"
     ]
    },
    {
     "name": "stderr",
     "output_type": "stream",
     "text": [
      "Epoch:  70%|███████   | 141/200 [43:42<20:01, 20.36s/it, loss=0.0035] "
     ]
    },
    {
     "name": "stdout",
     "output_type": "stream",
     "text": [
      "!!!!!! len(self.indices) 47104\n",
      "!!!!!! len(self.indices) 47104\n"
     ]
    },
    {
     "name": "stderr",
     "output_type": "stream",
     "text": []
    },
    {
     "name": "stdout",
     "output_type": "stream",
     "text": [
      "!!!!!! len(self.indices) 47104\n",
      "!!!!!! len(self.indices) 47104\n"
     ]
    },
    {
     "name": "stderr",
     "output_type": "stream",
     "text": [
      "Epoch:  71%|███████   | 142/200 [44:01<19:22, 20.05s/it, loss=0.00327]"
     ]
    },
    {
     "name": "stdout",
     "output_type": "stream",
     "text": [
      "!!!!!! len(self.indices) 47104\n",
      "!!!!!! len(self.indices) 47104\n"
     ]
    },
    {
     "name": "stderr",
     "output_type": "stream",
     "text": []
    },
    {
     "name": "stdout",
     "output_type": "stream",
     "text": [
      "!!!!!! len(self.indices) 47104\n",
      "!!!!!! len(self.indices) 47104\n"
     ]
    },
    {
     "name": "stderr",
     "output_type": "stream",
     "text": [
      "Epoch:  72%|███████▏  | 143/200 [44:21<18:49, 19.81s/it, loss=0.00316]"
     ]
    },
    {
     "name": "stdout",
     "output_type": "stream",
     "text": [
      "!!!!!! len(self.indices) 47104\n",
      "!!!!!! len(self.indices) 47104\n"
     ]
    },
    {
     "name": "stderr",
     "output_type": "stream",
     "text": []
    },
    {
     "name": "stdout",
     "output_type": "stream",
     "text": [
      "!!!!!! len(self.indices) 47104\n",
      "!!!!!! len(self.indices) 47104\n"
     ]
    },
    {
     "name": "stderr",
     "output_type": "stream",
     "text": [
      "Epoch:  72%|███████▏  | 144/200 [44:44<19:29, 20.89s/it, loss=0.00314]"
     ]
    },
    {
     "name": "stdout",
     "output_type": "stream",
     "text": [
      "!!!!!! len(self.indices) 47104\n",
      "!!!!!! len(self.indices) 47104\n"
     ]
    },
    {
     "name": "stderr",
     "output_type": "stream",
     "text": []
    },
    {
     "name": "stdout",
     "output_type": "stream",
     "text": [
      "!!!!!! len(self.indices) 47104\n",
      "!!!!!! len(self.indices) 47104\n"
     ]
    },
    {
     "name": "stderr",
     "output_type": "stream",
     "text": [
      "Epoch:  72%|███████▎  | 145/200 [45:04<18:47, 20.51s/it, loss=0.00306]"
     ]
    },
    {
     "name": "stdout",
     "output_type": "stream",
     "text": [
      "!!!!!! len(self.indices) 47104\n",
      "!!!!!! len(self.indices) 47104\n"
     ]
    },
    {
     "name": "stderr",
     "output_type": "stream",
     "text": []
    },
    {
     "name": "stdout",
     "output_type": "stream",
     "text": [
      "!!!!!! len(self.indices) 47104\n",
      "!!!!!! len(self.indices) 47104\n"
     ]
    },
    {
     "name": "stderr",
     "output_type": "stream",
     "text": [
      "Epoch:  73%|███████▎  | 146/200 [45:25<18:48, 20.90s/it, loss=0.00284]"
     ]
    },
    {
     "name": "stdout",
     "output_type": "stream",
     "text": [
      "!!!!!! len(self.indices) 47104\n",
      "!!!!!! len(self.indices) 47104\n"
     ]
    },
    {
     "name": "stderr",
     "output_type": "stream",
     "text": []
    },
    {
     "name": "stdout",
     "output_type": "stream",
     "text": [
      "!!!!!! len(self.indices) 47104\n",
      "!!!!!! len(self.indices) 47104\n"
     ]
    },
    {
     "name": "stderr",
     "output_type": "stream",
     "text": [
      "Epoch:  74%|███████▎  | 147/200 [45:47<18:40, 21.15s/it, loss=0.00302]"
     ]
    },
    {
     "name": "stdout",
     "output_type": "stream",
     "text": [
      "!!!!!! len(self.indices) 47104\n",
      "!!!!!! len(self.indices) 47104\n"
     ]
    },
    {
     "name": "stderr",
     "output_type": "stream",
     "text": []
    },
    {
     "name": "stdout",
     "output_type": "stream",
     "text": [
      "!!!!!! len(self.indices) 47104\n",
      "!!!!!! len(self.indices) 47104\n"
     ]
    },
    {
     "name": "stderr",
     "output_type": "stream",
     "text": [
      "Epoch:  74%|███████▍  | 148/200 [46:09<18:28, 21.32s/it, loss=0.00284]"
     ]
    },
    {
     "name": "stdout",
     "output_type": "stream",
     "text": [
      "!!!!!! len(self.indices) 47104\n",
      "!!!!!! len(self.indices) 47104\n"
     ]
    },
    {
     "name": "stderr",
     "output_type": "stream",
     "text": []
    },
    {
     "name": "stdout",
     "output_type": "stream",
     "text": [
      "!!!!!! len(self.indices) 47104\n",
      "!!!!!! len(self.indices) 47104\n"
     ]
    },
    {
     "name": "stderr",
     "output_type": "stream",
     "text": [
      "Epoch:  74%|███████▍  | 149/200 [46:30<18:03, 21.25s/it, loss=0.00304]"
     ]
    },
    {
     "name": "stdout",
     "output_type": "stream",
     "text": [
      "!!!!!! len(self.indices) 47104\n",
      "!!!!!! len(self.indices) 47104\n"
     ]
    },
    {
     "name": "stderr",
     "output_type": "stream",
     "text": []
    },
    {
     "name": "stdout",
     "output_type": "stream",
     "text": [
      "!!!!!! len(self.indices) 47104\n",
      "!!!!!! len(self.indices) 47104\n"
     ]
    },
    {
     "name": "stderr",
     "output_type": "stream",
     "text": [
      "Epoch:  74%|███████▍  | 149/200 [46:48<18:03, 21.25s/it, loss=0.00293]"
     ]
    },
    {
     "name": "stdout",
     "output_type": "stream",
     "text": [
      "!!!!!! len(self.indices) 47104\n"
     ]
    },
    {
     "name": "stderr",
     "output_type": "stream",
     "text": [
      "Epoch:  75%|███████▌  | 150/200 [46:49<17:04, 20.50s/it, loss=0.00293]"
     ]
    },
    {
     "name": "stdout",
     "output_type": "stream",
     "text": [
      "!!!!!! len(self.indices) 47104\n"
     ]
    },
    {
     "name": "stderr",
     "output_type": "stream",
     "text": []
    },
    {
     "name": "stdout",
     "output_type": "stream",
     "text": [
      "!!!!!! len(self.indices) 47104\n",
      "!!!!!! len(self.indices) 47104\n"
     ]
    },
    {
     "name": "stderr",
     "output_type": "stream",
     "text": [
      "Epoch:  76%|███████▌  | 151/200 [47:07<16:09, 19.78s/it, loss=0.00305]"
     ]
    },
    {
     "name": "stdout",
     "output_type": "stream",
     "text": [
      "!!!!!! len(self.indices) 47104\n",
      "!!!!!! len(self.indices) 47104\n"
     ]
    },
    {
     "name": "stderr",
     "output_type": "stream",
     "text": []
    },
    {
     "name": "stdout",
     "output_type": "stream",
     "text": [
      "!!!!!! len(self.indices) 47104\n",
      "!!!!!! len(self.indices) 47104\n"
     ]
    },
    {
     "name": "stderr",
     "output_type": "stream",
     "text": [
      "Epoch:  76%|███████▌  | 152/200 [47:26<15:38, 19.55s/it, loss=0.00293]"
     ]
    },
    {
     "name": "stdout",
     "output_type": "stream",
     "text": [
      "!!!!!! len(self.indices) 47104\n",
      "!!!!!! len(self.indices) 47104\n"
     ]
    },
    {
     "name": "stderr",
     "output_type": "stream",
     "text": []
    },
    {
     "name": "stdout",
     "output_type": "stream",
     "text": [
      "!!!!!! len(self.indices) 47104\n",
      "!!!!!! len(self.indices) 47104\n"
     ]
    },
    {
     "name": "stderr",
     "output_type": "stream",
     "text": [
      "Epoch:  76%|███████▋  | 153/200 [47:45<15:10, 19.38s/it, loss=0.00295]"
     ]
    },
    {
     "name": "stdout",
     "output_type": "stream",
     "text": [
      "!!!!!! len(self.indices) 47104\n",
      "!!!!!! len(self.indices) 47104\n"
     ]
    },
    {
     "name": "stderr",
     "output_type": "stream",
     "text": []
    },
    {
     "name": "stdout",
     "output_type": "stream",
     "text": [
      "!!!!!! len(self.indices) 47104\n",
      "!!!!!! len(self.indices) 47104\n"
     ]
    },
    {
     "name": "stderr",
     "output_type": "stream",
     "text": [
      "Epoch:  77%|███████▋  | 154/200 [48:09<15:58, 20.84s/it, loss=0.00274]"
     ]
    },
    {
     "name": "stdout",
     "output_type": "stream",
     "text": [
      "!!!!!! len(self.indices) 47104\n",
      "!!!!!! len(self.indices) 47104\n"
     ]
    },
    {
     "name": "stderr",
     "output_type": "stream",
     "text": []
    },
    {
     "name": "stdout",
     "output_type": "stream",
     "text": [
      "!!!!!! len(self.indices) 47104\n",
      "!!!!!! len(self.indices) 47104\n"
     ]
    },
    {
     "name": "stderr",
     "output_type": "stream",
     "text": [
      "Epoch:  78%|███████▊  | 155/200 [48:27<15:01, 20.03s/it, loss=0.00276]"
     ]
    },
    {
     "name": "stdout",
     "output_type": "stream",
     "text": [
      "!!!!!! len(self.indices) 47104\n",
      "!!!!!! len(self.indices) 47104\n"
     ]
    },
    {
     "name": "stderr",
     "output_type": "stream",
     "text": []
    },
    {
     "name": "stdout",
     "output_type": "stream",
     "text": [
      "!!!!!! len(self.indices) 47104\n",
      "!!!!!! len(self.indices) 47104\n"
     ]
    },
    {
     "name": "stderr",
     "output_type": "stream",
     "text": [
      "Epoch:  78%|███████▊  | 156/200 [48:48<14:45, 20.12s/it, loss=0.0028] "
     ]
    },
    {
     "name": "stdout",
     "output_type": "stream",
     "text": [
      "!!!!!! len(self.indices) 47104\n",
      "!!!!!! len(self.indices) 47104\n"
     ]
    },
    {
     "name": "stderr",
     "output_type": "stream",
     "text": []
    },
    {
     "name": "stdout",
     "output_type": "stream",
     "text": [
      "!!!!!! len(self.indices) 47104\n",
      "!!!!!! len(self.indices) 47104\n"
     ]
    },
    {
     "name": "stderr",
     "output_type": "stream",
     "text": [
      "Epoch:  78%|███████▊  | 157/200 [49:06<14:09, 19.77s/it, loss=0.00295]"
     ]
    },
    {
     "name": "stdout",
     "output_type": "stream",
     "text": [
      "!!!!!! len(self.indices) 47104\n",
      "!!!!!! len(self.indices) 47104\n"
     ]
    },
    {
     "name": "stderr",
     "output_type": "stream",
     "text": []
    },
    {
     "name": "stdout",
     "output_type": "stream",
     "text": [
      "!!!!!! len(self.indices) 47104\n",
      "!!!!!! len(self.indices) 47104\n"
     ]
    },
    {
     "name": "stderr",
     "output_type": "stream",
     "text": [
      "Epoch:  79%|███████▉  | 158/200 [49:28<14:10, 20.25s/it, loss=0.00257]"
     ]
    },
    {
     "name": "stdout",
     "output_type": "stream",
     "text": [
      "!!!!!! len(self.indices) 47104\n",
      "!!!!!! len(self.indices) 47104\n"
     ]
    },
    {
     "name": "stderr",
     "output_type": "stream",
     "text": []
    },
    {
     "name": "stdout",
     "output_type": "stream",
     "text": [
      "!!!!!! len(self.indices) 47104\n",
      "!!!!!! len(self.indices) 47104\n"
     ]
    },
    {
     "name": "stderr",
     "output_type": "stream",
     "text": [
      "Epoch:  80%|███████▉  | 159/200 [49:48<13:43, 20.08s/it, loss=0.00269]"
     ]
    },
    {
     "name": "stdout",
     "output_type": "stream",
     "text": [
      "!!!!!! len(self.indices) 47104\n",
      "!!!!!! len(self.indices) 47104\n"
     ]
    },
    {
     "name": "stderr",
     "output_type": "stream",
     "text": []
    },
    {
     "name": "stdout",
     "output_type": "stream",
     "text": [
      "!!!!!! len(self.indices) 47104\n",
      "!!!!!! len(self.indices) 47104\n"
     ]
    },
    {
     "name": "stderr",
     "output_type": "stream",
     "text": [
      "Epoch:  80%|███████▉  | 159/200 [50:07<13:43, 20.08s/it, loss=0.0028] "
     ]
    },
    {
     "name": "stdout",
     "output_type": "stream",
     "text": [
      "!!!!!! len(self.indices) 47104\n"
     ]
    },
    {
     "name": "stderr",
     "output_type": "stream",
     "text": [
      "Epoch:  80%|████████  | 160/200 [50:08<13:22, 20.07s/it, loss=0.0028]"
     ]
    },
    {
     "name": "stdout",
     "output_type": "stream",
     "text": [
      "!!!!!! len(self.indices) 47104\n"
     ]
    },
    {
     "name": "stderr",
     "output_type": "stream",
     "text": []
    },
    {
     "name": "stdout",
     "output_type": "stream",
     "text": [
      "!!!!!! len(self.indices) 47104\n",
      "!!!!!! len(self.indices) 47104\n"
     ]
    },
    {
     "name": "stderr",
     "output_type": "stream",
     "text": [
      "Epoch:  80%|████████  | 161/200 [50:30<13:29, 20.76s/it, loss=0.00274]"
     ]
    },
    {
     "name": "stdout",
     "output_type": "stream",
     "text": [
      "!!!!!! len(self.indices) 47104\n",
      "!!!!!! len(self.indices) 47104\n"
     ]
    },
    {
     "name": "stderr",
     "output_type": "stream",
     "text": []
    },
    {
     "name": "stdout",
     "output_type": "stream",
     "text": [
      "!!!!!! len(self.indices) 47104\n",
      "!!!!!! len(self.indices) 47104\n"
     ]
    },
    {
     "name": "stderr",
     "output_type": "stream",
     "text": [
      "Epoch:  81%|████████  | 162/200 [50:53<13:32, 21.37s/it, loss=0.00274]"
     ]
    },
    {
     "name": "stdout",
     "output_type": "stream",
     "text": [
      "!!!!!! len(self.indices) 47104\n",
      "!!!!!! len(self.indices) 47104\n"
     ]
    },
    {
     "name": "stderr",
     "output_type": "stream",
     "text": []
    },
    {
     "name": "stdout",
     "output_type": "stream",
     "text": [
      "!!!!!! len(self.indices) 47104\n",
      "!!!!!! len(self.indices) 47104\n"
     ]
    },
    {
     "name": "stderr",
     "output_type": "stream",
     "text": [
      "Epoch:  82%|████████▏ | 163/200 [51:12<12:51, 20.84s/it, loss=0.00269]"
     ]
    },
    {
     "name": "stdout",
     "output_type": "stream",
     "text": [
      "!!!!!! len(self.indices) 47104\n",
      "!!!!!! len(self.indices) 47104\n"
     ]
    },
    {
     "name": "stderr",
     "output_type": "stream",
     "text": []
    },
    {
     "name": "stdout",
     "output_type": "stream",
     "text": [
      "!!!!!! len(self.indices) 47104\n",
      "!!!!!! len(self.indices) 47104\n"
     ]
    },
    {
     "name": "stderr",
     "output_type": "stream",
     "text": [
      "Epoch:  82%|████████▏ | 164/200 [51:32<12:16, 20.46s/it, loss=0.00252]"
     ]
    },
    {
     "name": "stdout",
     "output_type": "stream",
     "text": [
      "!!!!!! len(self.indices) 47104\n",
      "!!!!!! len(self.indices) 47104\n"
     ]
    },
    {
     "name": "stderr",
     "output_type": "stream",
     "text": []
    },
    {
     "name": "stdout",
     "output_type": "stream",
     "text": [
      "!!!!!! len(self.indices) 47104\n",
      "!!!!!! len(self.indices) 47104\n"
     ]
    },
    {
     "name": "stderr",
     "output_type": "stream",
     "text": [
      "Epoch:  82%|████████▎ | 165/200 [51:51<11:41, 20.04s/it, loss=0.00258]"
     ]
    },
    {
     "name": "stdout",
     "output_type": "stream",
     "text": [
      "!!!!!! len(self.indices) 47104\n",
      "!!!!!! len(self.indices) 47104\n"
     ]
    },
    {
     "name": "stderr",
     "output_type": "stream",
     "text": []
    },
    {
     "name": "stdout",
     "output_type": "stream",
     "text": [
      "!!!!!! len(self.indices) 47104\n",
      "!!!!!! len(self.indices) 47104\n"
     ]
    },
    {
     "name": "stderr",
     "output_type": "stream",
     "text": [
      "Epoch:  83%|████████▎ | 166/200 [52:13<11:40, 20.61s/it, loss=0.00258]"
     ]
    },
    {
     "name": "stdout",
     "output_type": "stream",
     "text": [
      "!!!!!! len(self.indices) 47104\n",
      "!!!!!! len(self.indices) 47104\n"
     ]
    },
    {
     "name": "stderr",
     "output_type": "stream",
     "text": []
    },
    {
     "name": "stdout",
     "output_type": "stream",
     "text": [
      "!!!!!! len(self.indices) 47104\n",
      "!!!!!! len(self.indices) 47104\n"
     ]
    },
    {
     "name": "stderr",
     "output_type": "stream",
     "text": [
      "Epoch:  84%|████████▎ | 167/200 [52:36<11:47, 21.44s/it, loss=0.00255]"
     ]
    },
    {
     "name": "stdout",
     "output_type": "stream",
     "text": [
      "!!!!!! len(self.indices) 47104\n",
      "!!!!!! len(self.indices) 47104\n"
     ]
    },
    {
     "name": "stderr",
     "output_type": "stream",
     "text": []
    },
    {
     "name": "stdout",
     "output_type": "stream",
     "text": [
      "!!!!!! len(self.indices) 47104\n",
      "!!!!!! len(self.indices) 47104\n"
     ]
    },
    {
     "name": "stderr",
     "output_type": "stream",
     "text": [
      "Epoch:  84%|████████▍ | 168/200 [52:55<10:56, 20.52s/it, loss=0.00256]"
     ]
    },
    {
     "name": "stdout",
     "output_type": "stream",
     "text": [
      "!!!!!! len(self.indices) 47104\n",
      "!!!!!! len(self.indices) 47104\n"
     ]
    },
    {
     "name": "stderr",
     "output_type": "stream",
     "text": []
    },
    {
     "name": "stdout",
     "output_type": "stream",
     "text": [
      "!!!!!! len(self.indices) 47104\n",
      "!!!!!! len(self.indices) 47104\n"
     ]
    },
    {
     "name": "stderr",
     "output_type": "stream",
     "text": [
      "Epoch:  84%|████████▍ | 169/200 [53:17<10:54, 21.11s/it, loss=0.00255]"
     ]
    },
    {
     "name": "stdout",
     "output_type": "stream",
     "text": [
      "!!!!!! len(self.indices) 47104\n",
      "!!!!!! len(self.indices) 47104\n"
     ]
    },
    {
     "name": "stderr",
     "output_type": "stream",
     "text": []
    },
    {
     "name": "stdout",
     "output_type": "stream",
     "text": [
      "!!!!!! len(self.indices) 47104\n",
      "!!!!!! len(self.indices) 47104\n"
     ]
    },
    {
     "name": "stderr",
     "output_type": "stream",
     "text": [
      "Epoch:  84%|████████▍ | 169/200 [53:38<10:54, 21.11s/it, loss=0.00255]"
     ]
    },
    {
     "name": "stdout",
     "output_type": "stream",
     "text": [
      "!!!!!! len(self.indices) 47104\n"
     ]
    },
    {
     "name": "stderr",
     "output_type": "stream",
     "text": [
      "Epoch:  85%|████████▌ | 170/200 [53:38<10:29, 20.98s/it, loss=0.00255]"
     ]
    },
    {
     "name": "stdout",
     "output_type": "stream",
     "text": [
      "!!!!!! len(self.indices) 47104\n"
     ]
    },
    {
     "name": "stderr",
     "output_type": "stream",
     "text": []
    },
    {
     "name": "stdout",
     "output_type": "stream",
     "text": [
      "!!!!!! len(self.indices) 47104\n",
      "!!!!!! len(self.indices) 47104\n"
     ]
    },
    {
     "name": "stderr",
     "output_type": "stream",
     "text": [
      "Epoch:  86%|████████▌ | 171/200 [53:58<09:59, 20.66s/it, loss=0.0025] "
     ]
    },
    {
     "name": "stdout",
     "output_type": "stream",
     "text": [
      "!!!!!! len(self.indices) 47104\n",
      "!!!!!! len(self.indices) 47104\n"
     ]
    },
    {
     "name": "stderr",
     "output_type": "stream",
     "text": [
      "\n"
     ]
    },
    {
     "name": "stdout",
     "output_type": "stream",
     "text": [
      "!!!!!! len(self.indices) 47104\n",
      "!!!!!! len(self.indices) 47104\n"
     ]
    },
    {
     "name": "stderr",
     "output_type": "stream",
     "text": [
      "Epoch:  86%|████████▌ | 172/200 [54:17<09:23, 20.12s/it, loss=0.00271]A"
     ]
    },
    {
     "name": "stdout",
     "output_type": "stream",
     "text": [
      "!!!!!! len(self.indices) 47104\n",
      "!!!!!! len(self.indices) 47104\n"
     ]
    },
    {
     "name": "stderr",
     "output_type": "stream",
     "text": []
    },
    {
     "name": "stdout",
     "output_type": "stream",
     "text": [
      "!!!!!! len(self.indices) 47104\n",
      "!!!!!! len(self.indices) 47104\n"
     ]
    },
    {
     "name": "stderr",
     "output_type": "stream",
     "text": [
      "Epoch:  86%|████████▋ | 173/200 [54:39<09:21, 20.80s/it, loss=0.00264]"
     ]
    },
    {
     "name": "stdout",
     "output_type": "stream",
     "text": [
      "!!!!!! len(self.indices) 47104\n",
      "!!!!!! len(self.indices) 47104\n"
     ]
    },
    {
     "name": "stderr",
     "output_type": "stream",
     "text": []
    },
    {
     "name": "stdout",
     "output_type": "stream",
     "text": [
      "!!!!!! len(self.indices) 47104\n",
      "!!!!!! len(self.indices) 47104\n"
     ]
    },
    {
     "name": "stderr",
     "output_type": "stream",
     "text": [
      "Epoch:  87%|████████▋ | 174/200 [55:01<09:13, 21.28s/it, loss=0.00262]"
     ]
    },
    {
     "name": "stdout",
     "output_type": "stream",
     "text": [
      "!!!!!! len(self.indices) 47104\n",
      "!!!!!! len(self.indices) 47104\n"
     ]
    },
    {
     "name": "stderr",
     "output_type": "stream",
     "text": []
    },
    {
     "name": "stdout",
     "output_type": "stream",
     "text": [
      "!!!!!! len(self.indices) 47104\n",
      "!!!!!! len(self.indices) 47104\n"
     ]
    },
    {
     "name": "stderr",
     "output_type": "stream",
     "text": [
      "Epoch:  88%|████████▊ | 175/200 [55:24<08:59, 21.56s/it, loss=0.00253]"
     ]
    },
    {
     "name": "stdout",
     "output_type": "stream",
     "text": [
      "!!!!!! len(self.indices) 47104\n",
      "!!!!!! len(self.indices) 47104\n"
     ]
    },
    {
     "name": "stderr",
     "output_type": "stream",
     "text": []
    },
    {
     "name": "stdout",
     "output_type": "stream",
     "text": [
      "!!!!!! len(self.indices) 47104\n",
      "!!!!!! len(self.indices) 47104\n"
     ]
    },
    {
     "name": "stderr",
     "output_type": "stream",
     "text": [
      "Epoch:  88%|████████▊ | 176/200 [55:45<08:37, 21.57s/it, loss=0.00241]"
     ]
    },
    {
     "name": "stdout",
     "output_type": "stream",
     "text": [
      "!!!!!! len(self.indices) 47104\n",
      "!!!!!! len(self.indices) 47104\n"
     ]
    },
    {
     "name": "stderr",
     "output_type": "stream",
     "text": []
    },
    {
     "name": "stdout",
     "output_type": "stream",
     "text": [
      "!!!!!! len(self.indices) 47104\n",
      "!!!!!! len(self.indices) 47104\n"
     ]
    },
    {
     "name": "stderr",
     "output_type": "stream",
     "text": [
      "Epoch:  88%|████████▊ | 177/200 [56:03<07:53, 20.58s/it, loss=0.0023] "
     ]
    },
    {
     "name": "stdout",
     "output_type": "stream",
     "text": [
      "!!!!!! len(self.indices) 47104\n",
      "!!!!!! len(self.indices) 47104\n"
     ]
    },
    {
     "name": "stderr",
     "output_type": "stream",
     "text": []
    },
    {
     "name": "stdout",
     "output_type": "stream",
     "text": [
      "!!!!!! len(self.indices) 47104\n",
      "!!!!!! len(self.indices) 47104\n"
     ]
    },
    {
     "name": "stderr",
     "output_type": "stream",
     "text": [
      "Epoch:  89%|████████▉ | 178/200 [56:24<07:31, 20.50s/it, loss=0.00255]"
     ]
    },
    {
     "name": "stdout",
     "output_type": "stream",
     "text": [
      "!!!!!! len(self.indices) 47104\n",
      "!!!!!! len(self.indices) 47104\n"
     ]
    },
    {
     "name": "stderr",
     "output_type": "stream",
     "text": []
    },
    {
     "name": "stdout",
     "output_type": "stream",
     "text": [
      "!!!!!! len(self.indices) 47104\n",
      "!!!!!! len(self.indices) 47104\n"
     ]
    },
    {
     "name": "stderr",
     "output_type": "stream",
     "text": [
      "Epoch:  90%|████████▉ | 179/200 [56:44<07:09, 20.47s/it, loss=0.00252]"
     ]
    },
    {
     "name": "stdout",
     "output_type": "stream",
     "text": [
      "!!!!!! len(self.indices) 47104\n",
      "!!!!!! len(self.indices) 47104\n"
     ]
    },
    {
     "name": "stderr",
     "output_type": "stream",
     "text": []
    },
    {
     "name": "stdout",
     "output_type": "stream",
     "text": [
      "!!!!!! len(self.indices) 47104\n",
      "!!!!!! len(self.indices) 47104\n"
     ]
    },
    {
     "name": "stderr",
     "output_type": "stream",
     "text": [
      "Epoch:  90%|████████▉ | 179/200 [57:05<07:09, 20.47s/it, loss=0.00237]"
     ]
    },
    {
     "name": "stdout",
     "output_type": "stream",
     "text": [
      "!!!!!! len(self.indices) 47104\n"
     ]
    },
    {
     "name": "stderr",
     "output_type": "stream",
     "text": [
      "Epoch:  90%|█████████ | 180/200 [57:05<06:51, 20.58s/it, loss=0.00237]"
     ]
    },
    {
     "name": "stdout",
     "output_type": "stream",
     "text": [
      "!!!!!! len(self.indices) 47104\n"
     ]
    },
    {
     "name": "stderr",
     "output_type": "stream",
     "text": []
    },
    {
     "name": "stdout",
     "output_type": "stream",
     "text": [
      "!!!!!! len(self.indices) 47104\n",
      "!!!!!! len(self.indices) 47104\n"
     ]
    },
    {
     "name": "stderr",
     "output_type": "stream",
     "text": [
      "Epoch:  90%|█████████ | 181/200 [57:27<06:36, 20.88s/it, loss=0.00241]"
     ]
    },
    {
     "name": "stdout",
     "output_type": "stream",
     "text": [
      "!!!!!! len(self.indices) 47104\n",
      "!!!!!! len(self.indices) 47104\n"
     ]
    },
    {
     "name": "stderr",
     "output_type": "stream",
     "text": []
    },
    {
     "name": "stdout",
     "output_type": "stream",
     "text": [
      "!!!!!! len(self.indices) 47104\n",
      "!!!!!! len(self.indices) 47104\n"
     ]
    },
    {
     "name": "stderr",
     "output_type": "stream",
     "text": [
      "Epoch:  91%|█████████ | 182/200 [57:49<06:21, 21.22s/it, loss=0.00255]"
     ]
    },
    {
     "name": "stdout",
     "output_type": "stream",
     "text": [
      "!!!!!! len(self.indices) 47104\n",
      "!!!!!! len(self.indices) 47104\n"
     ]
    },
    {
     "name": "stderr",
     "output_type": "stream",
     "text": []
    },
    {
     "name": "stdout",
     "output_type": "stream",
     "text": [
      "!!!!!! len(self.indices) 47104\n",
      "!!!!!! len(self.indices) 47104\n"
     ]
    },
    {
     "name": "stderr",
     "output_type": "stream",
     "text": [
      "Epoch:  92%|█████████▏| 183/200 [58:10<06:04, 21.42s/it, loss=0.00241]"
     ]
    },
    {
     "name": "stdout",
     "output_type": "stream",
     "text": [
      "!!!!!! len(self.indices) 47104\n",
      "!!!!!! len(self.indices) 47104\n"
     ]
    },
    {
     "name": "stderr",
     "output_type": "stream",
     "text": []
    },
    {
     "name": "stdout",
     "output_type": "stream",
     "text": [
      "!!!!!! len(self.indices) 47104\n",
      "!!!!!! len(self.indices) 47104\n"
     ]
    },
    {
     "name": "stderr",
     "output_type": "stream",
     "text": [
      "Epoch:  92%|█████████▏| 184/200 [58:32<05:44, 21.56s/it, loss=0.00235]"
     ]
    },
    {
     "name": "stdout",
     "output_type": "stream",
     "text": [
      "!!!!!! len(self.indices) 47104\n",
      "!!!!!! len(self.indices) 47104\n"
     ]
    },
    {
     "name": "stderr",
     "output_type": "stream",
     "text": []
    },
    {
     "name": "stdout",
     "output_type": "stream",
     "text": [
      "!!!!!! len(self.indices) 47104\n",
      "!!!!!! len(self.indices) 47104\n"
     ]
    },
    {
     "name": "stderr",
     "output_type": "stream",
     "text": [
      "Epoch:  92%|█████████▎| 185/200 [58:51<05:11, 20.77s/it, loss=0.00241]"
     ]
    },
    {
     "name": "stdout",
     "output_type": "stream",
     "text": [
      "!!!!!! len(self.indices) 47104\n",
      "!!!!!! len(self.indices) 47104\n"
     ]
    },
    {
     "name": "stderr",
     "output_type": "stream",
     "text": []
    },
    {
     "name": "stdout",
     "output_type": "stream",
     "text": [
      "!!!!!! len(self.indices) 47104\n",
      "!!!!!! len(self.indices) 47104\n"
     ]
    },
    {
     "name": "stderr",
     "output_type": "stream",
     "text": [
      "Epoch:  93%|█████████▎| 186/200 [59:11<04:47, 20.56s/it, loss=0.00238]"
     ]
    },
    {
     "name": "stdout",
     "output_type": "stream",
     "text": [
      "!!!!!! len(self.indices) 47104\n",
      "!!!!!! len(self.indices) 47104\n"
     ]
    },
    {
     "name": "stderr",
     "output_type": "stream",
     "text": []
    },
    {
     "name": "stdout",
     "output_type": "stream",
     "text": [
      "!!!!!! len(self.indices) 47104\n",
      "!!!!!! len(self.indices) 47104\n"
     ]
    },
    {
     "name": "stderr",
     "output_type": "stream",
     "text": [
      "Epoch:  94%|█████████▎| 187/200 [59:31<04:24, 20.32s/it, loss=0.00239]"
     ]
    },
    {
     "name": "stdout",
     "output_type": "stream",
     "text": [
      "!!!!!! len(self.indices) 47104\n",
      "!!!!!! len(self.indices) 47104\n"
     ]
    },
    {
     "name": "stderr",
     "output_type": "stream",
     "text": []
    },
    {
     "name": "stdout",
     "output_type": "stream",
     "text": [
      "!!!!!! len(self.indices) 47104\n",
      "!!!!!! len(self.indices) 47104\n"
     ]
    },
    {
     "name": "stderr",
     "output_type": "stream",
     "text": [
      "Epoch:  94%|█████████▍| 188/200 [59:51<04:02, 20.19s/it, loss=0.0024] "
     ]
    },
    {
     "name": "stdout",
     "output_type": "stream",
     "text": [
      "!!!!!! len(self.indices) 47104\n",
      "!!!!!! len(self.indices) 47104\n"
     ]
    },
    {
     "name": "stderr",
     "output_type": "stream",
     "text": []
    },
    {
     "name": "stdout",
     "output_type": "stream",
     "text": [
      "!!!!!! len(self.indices) 47104\n",
      "!!!!!! len(self.indices) 47104\n"
     ]
    },
    {
     "name": "stderr",
     "output_type": "stream",
     "text": [
      "Epoch:  94%|█████████▍| 189/200 [1:00:11<03:40, 20.07s/it, loss=0.00242]"
     ]
    },
    {
     "name": "stdout",
     "output_type": "stream",
     "text": [
      "!!!!!! len(self.indices) 47104\n",
      "!!!!!! len(self.indices) 47104\n"
     ]
    },
    {
     "name": "stderr",
     "output_type": "stream",
     "text": []
    },
    {
     "name": "stdout",
     "output_type": "stream",
     "text": [
      "!!!!!! len(self.indices) 47104\n",
      "!!!!!! len(self.indices) 47104\n"
     ]
    },
    {
     "name": "stderr",
     "output_type": "stream",
     "text": [
      "Epoch:  94%|█████████▍| 189/200 [1:00:20<03:30, 19.15s/it, loss=0.00242]\n"
     ]
    },
    {
     "ename": "KeyboardInterrupt",
     "evalue": "",
     "output_type": "error",
     "traceback": [
      "\u001b[0;31m---------------------------------------------------------------------------\u001b[0m",
      "\u001b[0;31mKeyboardInterrupt\u001b[0m                         Traceback (most recent call last)",
      "Cell \u001b[0;32mIn[9], line 2\u001b[0m\n\u001b[1;32m      1\u001b[0m num_epochs \u001b[38;5;241m=\u001b[39m \u001b[38;5;241m200\u001b[39m\n\u001b[0;32m----> 2\u001b[0m \u001b[43mtrainer\u001b[49m\u001b[38;5;241;43m.\u001b[39;49m\u001b[43mtrain\u001b[49m\u001b[43m(\u001b[49m\u001b[43mnum_epochs\u001b[49m\u001b[43m,\u001b[49m\u001b[43m \u001b[49m\u001b[43msave_ckpt_epoch\u001b[49m\u001b[38;5;241;43m=\u001b[39;49m\u001b[38;5;241;43m10\u001b[39;49m\u001b[43m)\u001b[49m\n\u001b[1;32m      3\u001b[0m trainer\u001b[38;5;241m.\u001b[39msave_checkpoint(\u001b[38;5;124mf\u001b[39m\u001b[38;5;124m\"\u001b[39m\u001b[38;5;124mckpt_final_\u001b[39m\u001b[38;5;132;01m{\u001b[39;00mnum_epochs\u001b[38;5;132;01m}\u001b[39;00m\u001b[38;5;124m_epochs.ckpt\u001b[39m\u001b[38;5;124m\"\u001b[39m)\n",
      "File \u001b[0;32m~/Documents/KTH/git/diffusion_policy_escape_energy/core/trainers/quadrotor_diffusion_policy_trainer.py:117\u001b[0m, in \u001b[0;36mPlanarQuadrotorDiffusionPolicyTrainer.train\u001b[0;34m(self, num_epochs, save_ckpt_epoch)\u001b[0m\n\u001b[1;32m    115\u001b[0m \u001b[38;5;28;01mfor\u001b[39;00m nbatch \u001b[38;5;129;01min\u001b[39;00m tepoch:\n\u001b[1;32m    116\u001b[0m     obs_cond, action, B \u001b[38;5;241m=\u001b[39m \u001b[38;5;28mself\u001b[39m\u001b[38;5;241m.\u001b[39mprepare_inputs(nbatch)\n\u001b[0;32m--> 117\u001b[0m     loss \u001b[38;5;241m=\u001b[39m \u001b[38;5;28;43mself\u001b[39;49m\u001b[38;5;241;43m.\u001b[39;49m\u001b[43moptimization_step\u001b[49m\u001b[43m(\u001b[49m\u001b[43maction\u001b[49m\u001b[43m,\u001b[49m\u001b[43m \u001b[49m\u001b[43mobs_cond\u001b[49m\u001b[43m,\u001b[49m\u001b[43m \u001b[49m\u001b[43mB\u001b[49m\u001b[43m)\u001b[49m\n\u001b[1;32m    119\u001b[0m     \u001b[38;5;66;03m# logging\u001b[39;00m\n\u001b[1;32m    120\u001b[0m     loss_cpu \u001b[38;5;241m=\u001b[39m loss\u001b[38;5;241m.\u001b[39mitem()\n",
      "File \u001b[0;32m~/Documents/KTH/git/diffusion_policy_escape_energy/core/trainers/quadrotor_diffusion_policy_trainer.py:83\u001b[0m, in \u001b[0;36mPlanarQuadrotorDiffusionPolicyTrainer.optimization_step\u001b[0;34m(self, action, obs_cond, batch_size)\u001b[0m\n\u001b[1;32m     81\u001b[0m \u001b[38;5;66;03m# optimize\u001b[39;00m\n\u001b[1;32m     82\u001b[0m loss\u001b[38;5;241m.\u001b[39mbackward()\n\u001b[0;32m---> 83\u001b[0m \u001b[38;5;28;43mself\u001b[39;49m\u001b[38;5;241;43m.\u001b[39;49m\u001b[43moptimizer\u001b[49m\u001b[38;5;241;43m.\u001b[39;49m\u001b[43mstep\u001b[49m\u001b[43m(\u001b[49m\u001b[43m)\u001b[49m\n\u001b[1;32m     84\u001b[0m \u001b[38;5;28mself\u001b[39m\u001b[38;5;241m.\u001b[39moptimizer\u001b[38;5;241m.\u001b[39mzero_grad()\n\u001b[1;32m     85\u001b[0m \u001b[38;5;66;03m# step lr scheduler every batch\u001b[39;00m\n\u001b[1;32m     86\u001b[0m \u001b[38;5;66;03m# this is different from standard pytorch behavior\u001b[39;00m\n",
      "File \u001b[0;32m~/.local/lib/python3.10/site-packages/torch/optim/lr_scheduler.py:68\u001b[0m, in \u001b[0;36m_LRScheduler.__init__.<locals>.with_counter.<locals>.wrapper\u001b[0;34m(*args, **kwargs)\u001b[0m\n\u001b[1;32m     66\u001b[0m instance\u001b[38;5;241m.\u001b[39m_step_count \u001b[38;5;241m+\u001b[39m\u001b[38;5;241m=\u001b[39m \u001b[38;5;241m1\u001b[39m\n\u001b[1;32m     67\u001b[0m wrapped \u001b[38;5;241m=\u001b[39m func\u001b[38;5;241m.\u001b[39m\u001b[38;5;21m__get__\u001b[39m(instance, \u001b[38;5;28mcls\u001b[39m)\n\u001b[0;32m---> 68\u001b[0m \u001b[38;5;28;01mreturn\u001b[39;00m \u001b[43mwrapped\u001b[49m\u001b[43m(\u001b[49m\u001b[38;5;241;43m*\u001b[39;49m\u001b[43margs\u001b[49m\u001b[43m,\u001b[49m\u001b[43m \u001b[49m\u001b[38;5;241;43m*\u001b[39;49m\u001b[38;5;241;43m*\u001b[39;49m\u001b[43mkwargs\u001b[49m\u001b[43m)\u001b[49m\n",
      "File \u001b[0;32m~/.local/lib/python3.10/site-packages/torch/optim/optimizer.py:140\u001b[0m, in \u001b[0;36mOptimizer._hook_for_profile.<locals>.profile_hook_step.<locals>.wrapper\u001b[0;34m(*args, **kwargs)\u001b[0m\n\u001b[1;32m    138\u001b[0m profile_name \u001b[38;5;241m=\u001b[39m \u001b[38;5;124m\"\u001b[39m\u001b[38;5;124mOptimizer.step#\u001b[39m\u001b[38;5;132;01m{}\u001b[39;00m\u001b[38;5;124m.step\u001b[39m\u001b[38;5;124m\"\u001b[39m\u001b[38;5;241m.\u001b[39mformat(obj\u001b[38;5;241m.\u001b[39m\u001b[38;5;18m__class__\u001b[39m\u001b[38;5;241m.\u001b[39m\u001b[38;5;18m__name__\u001b[39m)\n\u001b[1;32m    139\u001b[0m \u001b[38;5;28;01mwith\u001b[39;00m torch\u001b[38;5;241m.\u001b[39mautograd\u001b[38;5;241m.\u001b[39mprofiler\u001b[38;5;241m.\u001b[39mrecord_function(profile_name):\n\u001b[0;32m--> 140\u001b[0m     out \u001b[38;5;241m=\u001b[39m \u001b[43mfunc\u001b[49m\u001b[43m(\u001b[49m\u001b[38;5;241;43m*\u001b[39;49m\u001b[43margs\u001b[49m\u001b[43m,\u001b[49m\u001b[43m \u001b[49m\u001b[38;5;241;43m*\u001b[39;49m\u001b[38;5;241;43m*\u001b[39;49m\u001b[43mkwargs\u001b[49m\u001b[43m)\u001b[49m\n\u001b[1;32m    141\u001b[0m     obj\u001b[38;5;241m.\u001b[39m_optimizer_step_code()\n\u001b[1;32m    142\u001b[0m     \u001b[38;5;28;01mreturn\u001b[39;00m out\n",
      "File \u001b[0;32m~/.local/lib/python3.10/site-packages/torch/autograd/grad_mode.py:27\u001b[0m, in \u001b[0;36m_DecoratorContextManager.__call__.<locals>.decorate_context\u001b[0;34m(*args, **kwargs)\u001b[0m\n\u001b[1;32m     24\u001b[0m \u001b[38;5;129m@functools\u001b[39m\u001b[38;5;241m.\u001b[39mwraps(func)\n\u001b[1;32m     25\u001b[0m \u001b[38;5;28;01mdef\u001b[39;00m \u001b[38;5;21mdecorate_context\u001b[39m(\u001b[38;5;241m*\u001b[39margs, \u001b[38;5;241m*\u001b[39m\u001b[38;5;241m*\u001b[39mkwargs):\n\u001b[1;32m     26\u001b[0m     \u001b[38;5;28;01mwith\u001b[39;00m \u001b[38;5;28mself\u001b[39m\u001b[38;5;241m.\u001b[39mclone():\n\u001b[0;32m---> 27\u001b[0m         \u001b[38;5;28;01mreturn\u001b[39;00m \u001b[43mfunc\u001b[49m\u001b[43m(\u001b[49m\u001b[38;5;241;43m*\u001b[39;49m\u001b[43margs\u001b[49m\u001b[43m,\u001b[49m\u001b[43m \u001b[49m\u001b[38;5;241;43m*\u001b[39;49m\u001b[38;5;241;43m*\u001b[39;49m\u001b[43mkwargs\u001b[49m\u001b[43m)\u001b[49m\n",
      "File \u001b[0;32m~/.local/lib/python3.10/site-packages/torch/optim/adamw.py:162\u001b[0m, in \u001b[0;36mAdamW.step\u001b[0;34m(self, closure)\u001b[0m\n\u001b[1;32m    158\u001b[0m             max_exp_avg_sqs\u001b[38;5;241m.\u001b[39mappend(state[\u001b[38;5;124m'\u001b[39m\u001b[38;5;124mmax_exp_avg_sq\u001b[39m\u001b[38;5;124m'\u001b[39m])\n\u001b[1;32m    160\u001b[0m         state_steps\u001b[38;5;241m.\u001b[39mappend(state[\u001b[38;5;124m'\u001b[39m\u001b[38;5;124mstep\u001b[39m\u001b[38;5;124m'\u001b[39m])\n\u001b[0;32m--> 162\u001b[0m     \u001b[43madamw\u001b[49m\u001b[43m(\u001b[49m\u001b[43mparams_with_grad\u001b[49m\u001b[43m,\u001b[49m\n\u001b[1;32m    163\u001b[0m \u001b[43m          \u001b[49m\u001b[43mgrads\u001b[49m\u001b[43m,\u001b[49m\n\u001b[1;32m    164\u001b[0m \u001b[43m          \u001b[49m\u001b[43mexp_avgs\u001b[49m\u001b[43m,\u001b[49m\n\u001b[1;32m    165\u001b[0m \u001b[43m          \u001b[49m\u001b[43mexp_avg_sqs\u001b[49m\u001b[43m,\u001b[49m\n\u001b[1;32m    166\u001b[0m \u001b[43m          \u001b[49m\u001b[43mmax_exp_avg_sqs\u001b[49m\u001b[43m,\u001b[49m\n\u001b[1;32m    167\u001b[0m \u001b[43m          \u001b[49m\u001b[43mstate_steps\u001b[49m\u001b[43m,\u001b[49m\n\u001b[1;32m    168\u001b[0m \u001b[43m          \u001b[49m\u001b[43mamsgrad\u001b[49m\u001b[38;5;241;43m=\u001b[39;49m\u001b[43mamsgrad\u001b[49m\u001b[43m,\u001b[49m\n\u001b[1;32m    169\u001b[0m \u001b[43m          \u001b[49m\u001b[43mbeta1\u001b[49m\u001b[38;5;241;43m=\u001b[39;49m\u001b[43mbeta1\u001b[49m\u001b[43m,\u001b[49m\n\u001b[1;32m    170\u001b[0m \u001b[43m          \u001b[49m\u001b[43mbeta2\u001b[49m\u001b[38;5;241;43m=\u001b[39;49m\u001b[43mbeta2\u001b[49m\u001b[43m,\u001b[49m\n\u001b[1;32m    171\u001b[0m \u001b[43m          \u001b[49m\u001b[43mlr\u001b[49m\u001b[38;5;241;43m=\u001b[39;49m\u001b[43mgroup\u001b[49m\u001b[43m[\u001b[49m\u001b[38;5;124;43m'\u001b[39;49m\u001b[38;5;124;43mlr\u001b[39;49m\u001b[38;5;124;43m'\u001b[39;49m\u001b[43m]\u001b[49m\u001b[43m,\u001b[49m\n\u001b[1;32m    172\u001b[0m \u001b[43m          \u001b[49m\u001b[43mweight_decay\u001b[49m\u001b[38;5;241;43m=\u001b[39;49m\u001b[43mgroup\u001b[49m\u001b[43m[\u001b[49m\u001b[38;5;124;43m'\u001b[39;49m\u001b[38;5;124;43mweight_decay\u001b[39;49m\u001b[38;5;124;43m'\u001b[39;49m\u001b[43m]\u001b[49m\u001b[43m,\u001b[49m\n\u001b[1;32m    173\u001b[0m \u001b[43m          \u001b[49m\u001b[43meps\u001b[49m\u001b[38;5;241;43m=\u001b[39;49m\u001b[43mgroup\u001b[49m\u001b[43m[\u001b[49m\u001b[38;5;124;43m'\u001b[39;49m\u001b[38;5;124;43meps\u001b[39;49m\u001b[38;5;124;43m'\u001b[39;49m\u001b[43m]\u001b[49m\u001b[43m,\u001b[49m\n\u001b[1;32m    174\u001b[0m \u001b[43m          \u001b[49m\u001b[43mmaximize\u001b[49m\u001b[38;5;241;43m=\u001b[39;49m\u001b[43mgroup\u001b[49m\u001b[43m[\u001b[49m\u001b[38;5;124;43m'\u001b[39;49m\u001b[38;5;124;43mmaximize\u001b[39;49m\u001b[38;5;124;43m'\u001b[39;49m\u001b[43m]\u001b[49m\u001b[43m,\u001b[49m\n\u001b[1;32m    175\u001b[0m \u001b[43m          \u001b[49m\u001b[43mforeach\u001b[49m\u001b[38;5;241;43m=\u001b[39;49m\u001b[43mgroup\u001b[49m\u001b[43m[\u001b[49m\u001b[38;5;124;43m'\u001b[39;49m\u001b[38;5;124;43mforeach\u001b[39;49m\u001b[38;5;124;43m'\u001b[39;49m\u001b[43m]\u001b[49m\u001b[43m,\u001b[49m\n\u001b[1;32m    176\u001b[0m \u001b[43m          \u001b[49m\u001b[43mcapturable\u001b[49m\u001b[38;5;241;43m=\u001b[39;49m\u001b[43mgroup\u001b[49m\u001b[43m[\u001b[49m\u001b[38;5;124;43m'\u001b[39;49m\u001b[38;5;124;43mcapturable\u001b[39;49m\u001b[38;5;124;43m'\u001b[39;49m\u001b[43m]\u001b[49m\u001b[43m)\u001b[49m\n\u001b[1;32m    178\u001b[0m \u001b[38;5;28;01mreturn\u001b[39;00m loss\n",
      "File \u001b[0;32m~/.local/lib/python3.10/site-packages/torch/optim/adamw.py:219\u001b[0m, in \u001b[0;36madamw\u001b[0;34m(params, grads, exp_avgs, exp_avg_sqs, max_exp_avg_sqs, state_steps, foreach, capturable, amsgrad, beta1, beta2, lr, weight_decay, eps, maximize)\u001b[0m\n\u001b[1;32m    216\u001b[0m \u001b[38;5;28;01melse\u001b[39;00m:\n\u001b[1;32m    217\u001b[0m     func \u001b[38;5;241m=\u001b[39m _single_tensor_adamw\n\u001b[0;32m--> 219\u001b[0m \u001b[43mfunc\u001b[49m\u001b[43m(\u001b[49m\u001b[43mparams\u001b[49m\u001b[43m,\u001b[49m\n\u001b[1;32m    220\u001b[0m \u001b[43m     \u001b[49m\u001b[43mgrads\u001b[49m\u001b[43m,\u001b[49m\n\u001b[1;32m    221\u001b[0m \u001b[43m     \u001b[49m\u001b[43mexp_avgs\u001b[49m\u001b[43m,\u001b[49m\n\u001b[1;32m    222\u001b[0m \u001b[43m     \u001b[49m\u001b[43mexp_avg_sqs\u001b[49m\u001b[43m,\u001b[49m\n\u001b[1;32m    223\u001b[0m \u001b[43m     \u001b[49m\u001b[43mmax_exp_avg_sqs\u001b[49m\u001b[43m,\u001b[49m\n\u001b[1;32m    224\u001b[0m \u001b[43m     \u001b[49m\u001b[43mstate_steps\u001b[49m\u001b[43m,\u001b[49m\n\u001b[1;32m    225\u001b[0m \u001b[43m     \u001b[49m\u001b[43mamsgrad\u001b[49m\u001b[38;5;241;43m=\u001b[39;49m\u001b[43mamsgrad\u001b[49m\u001b[43m,\u001b[49m\n\u001b[1;32m    226\u001b[0m \u001b[43m     \u001b[49m\u001b[43mbeta1\u001b[49m\u001b[38;5;241;43m=\u001b[39;49m\u001b[43mbeta1\u001b[49m\u001b[43m,\u001b[49m\n\u001b[1;32m    227\u001b[0m \u001b[43m     \u001b[49m\u001b[43mbeta2\u001b[49m\u001b[38;5;241;43m=\u001b[39;49m\u001b[43mbeta2\u001b[49m\u001b[43m,\u001b[49m\n\u001b[1;32m    228\u001b[0m \u001b[43m     \u001b[49m\u001b[43mlr\u001b[49m\u001b[38;5;241;43m=\u001b[39;49m\u001b[43mlr\u001b[49m\u001b[43m,\u001b[49m\n\u001b[1;32m    229\u001b[0m \u001b[43m     \u001b[49m\u001b[43mweight_decay\u001b[49m\u001b[38;5;241;43m=\u001b[39;49m\u001b[43mweight_decay\u001b[49m\u001b[43m,\u001b[49m\n\u001b[1;32m    230\u001b[0m \u001b[43m     \u001b[49m\u001b[43meps\u001b[49m\u001b[38;5;241;43m=\u001b[39;49m\u001b[43meps\u001b[49m\u001b[43m,\u001b[49m\n\u001b[1;32m    231\u001b[0m \u001b[43m     \u001b[49m\u001b[43mmaximize\u001b[49m\u001b[38;5;241;43m=\u001b[39;49m\u001b[43mmaximize\u001b[49m\u001b[43m,\u001b[49m\n\u001b[1;32m    232\u001b[0m \u001b[43m     \u001b[49m\u001b[43mcapturable\u001b[49m\u001b[38;5;241;43m=\u001b[39;49m\u001b[43mcapturable\u001b[49m\u001b[43m)\u001b[49m\n",
      "File \u001b[0;32m~/.local/lib/python3.10/site-packages/torch/optim/adamw.py:270\u001b[0m, in \u001b[0;36m_single_tensor_adamw\u001b[0;34m(params, grads, exp_avgs, exp_avg_sqs, max_exp_avg_sqs, state_steps, amsgrad, beta1, beta2, lr, weight_decay, eps, maximize, capturable)\u001b[0m\n\u001b[1;32m    267\u001b[0m step_t \u001b[38;5;241m+\u001b[39m\u001b[38;5;241m=\u001b[39m \u001b[38;5;241m1\u001b[39m\n\u001b[1;32m    269\u001b[0m \u001b[38;5;66;03m# Perform stepweight decay\u001b[39;00m\n\u001b[0;32m--> 270\u001b[0m \u001b[43mparam\u001b[49m\u001b[38;5;241;43m.\u001b[39;49m\u001b[43mmul_\u001b[49m\u001b[43m(\u001b[49m\u001b[38;5;241;43m1\u001b[39;49m\u001b[43m \u001b[49m\u001b[38;5;241;43m-\u001b[39;49m\u001b[43m \u001b[49m\u001b[43mlr\u001b[49m\u001b[43m \u001b[49m\u001b[38;5;241;43m*\u001b[39;49m\u001b[43m \u001b[49m\u001b[43mweight_decay\u001b[49m\u001b[43m)\u001b[49m\n\u001b[1;32m    272\u001b[0m \u001b[38;5;66;03m# Decay the first and second moment running average coefficient\u001b[39;00m\n\u001b[1;32m    273\u001b[0m exp_avg\u001b[38;5;241m.\u001b[39mmul_(beta1)\u001b[38;5;241m.\u001b[39madd_(grad, alpha\u001b[38;5;241m=\u001b[39m\u001b[38;5;241m1\u001b[39m \u001b[38;5;241m-\u001b[39m beta1)\n",
      "\u001b[0;31mKeyboardInterrupt\u001b[0m: "
     ]
    }
   ],
   "source": [
    "num_epochs = 200\n",
    "trainer.train(num_epochs, save_ckpt_epoch=10)\n",
    "trainer.save_checkpoint(f\"ckpt_final_{num_epochs}_epochs.ckpt\")"
   ]
  },
  {
   "cell_type": "markdown",
   "id": "4167d958-0151-42a7-a409-601f5b0fdd2e",
   "metadata": {},
   "source": [
    "## Trainnig data visualization\n",
    "The training data was generated using a MPPI-CBF controller from [shaoanlu/mppi_cbf](https://github.com/shaoanlu/mppi_cbf) repository. "
   ]
  },
  {
   "cell_type": "code",
   "execution_count": 10,
   "id": "a150bb84-9207-4401-8109-d9c3237d510e",
   "metadata": {},
   "outputs": [],
   "source": [
    "import joblib\n",
    "import numpy as np\n",
    "from matplotlib import pyplot as plt"
   ]
  },
  {
   "cell_type": "code",
   "execution_count": 13,
   "id": "508399e3-c375-481e-91f7-b60195993311",
   "metadata": {},
   "outputs": [
    {
     "data": {
      "image/png": "[encoded data removed]",
      "text/plain": [
       "<Figure size 2000x1600 with 20 Axes>"
      ]
     },
     "metadata": {},
     "output_type": "display_data"
    }
   ],
   "source": [
    "from dataset.escape_from_u_generator import plot_multiple\n",
    "trn_data = joblib.load(\"../dataset_escape_from_u_2d_8192_envs.joblib\")\n",
    "num_envs = 20\n",
    "sol_path_list = []\n",
    "cost_list = []\n",
    "centers_list = []\n",
    "rads_list = []\n",
    "for env_idx in range(num_envs):\n",
    "    sol_path_list.append(trn_data[\"paths\"][env_idx])\n",
    "    cost_list.append(trn_data[\"costs\"][env_idx])\n",
    "    centers_list.append(trn_data[\"ellipse_centers\"][env_idx])\n",
    "    rads_list.append(trn_data[\"ellipse_radii\"][env_idx])\n",
    "\n",
    "plot_multiple(sol_path_list, cost_list, centers_list, rads_list)"
   ]
  },
  {
   "cell_type": "code",
   "execution_count": 26,
   "id": "25f3e722",
   "metadata": {},
   "outputs": [
    {
     "name": "stdout",
     "output_type": "stream",
     "text": [
      "costs: 6\n",
      "paths: 6\n",
      "object_starts: 6\n",
      "ellipse_centers: 6\n",
      "ellipse_radii: 6\n",
      "costs <class 'numpy.ndarray'>\n",
      "costs [0.         0.00032877 0.         0.         0.         0.03209365]\n",
      "paths [[[0.45580925 0.68537036]\n",
      "  [0.41834608 0.62996103]\n",
      "  [0.40587738 0.67183557]\n",
      "  [0.45284282 0.61964025]\n",
      "  [0.486888   0.60014907]\n",
      "  [0.54439431 0.65190197]\n",
      "  [0.60222496 0.67146199]\n",
      "  [0.63987722 0.61895391]\n",
      "  [0.65420421 0.6106548 ]\n",
      "  [0.67334748 0.55435731]\n",
      "  [0.70662757 0.58796657]\n",
      "  [0.7679419  0.60811095]\n",
      "  [0.74965366 0.65252623]\n",
      "  [0.77285868 0.61885425]\n",
      "  [0.7803659  0.598214  ]\n",
      "  [0.7633884  0.55428415]\n",
      "  [0.77043103 0.52532142]\n",
      "  [0.79925971 0.49306505]\n",
      "  [0.79429885 0.43389678]\n",
      "  [0.75424768 0.43540488]]\n",
      "\n",
      " [[0.61691686 0.59070396]\n",
      "  [0.62100338 0.53397404]\n",
      "  [0.58773767 0.50142582]\n",
      "  [0.6541713  0.52666671]\n",
      "  [0.71135764 0.54752603]\n",
      "  [0.69974045 0.5578557 ]\n",
      "  [0.73802118 0.50268235]\n",
      "  [0.71164017 0.46677389]\n",
      "  [0.76657945 0.49902675]\n",
      "  [0.73207873 0.44544288]\n",
      "  [0.70091109 0.46776482]\n",
      "  [0.76169806 0.491052  ]\n",
      "  [0.77835577 0.55862682]\n",
      "  [0.8341698  0.58048522]\n",
      "  [0.89654753 0.59174007]\n",
      "  [0.93884374 0.58642823]\n",
      "  [0.99483345 0.57591434]\n",
      "  [0.97631051 0.52363434]\n",
      "  [0.97209392 0.49182479]\n",
      "  [0.97472031 0.42719274]]\n",
      "\n",
      " [[0.24572738 0.73466051]\n",
      "  [0.27390619 0.72624657]\n",
      "  [0.30444235 0.72100474]\n",
      "  [0.31651344 0.69707696]\n",
      "  [0.29591986 0.66898899]\n",
      "  [0.27273591 0.67726581]\n",
      "  [0.26093138 0.70140105]\n",
      "  [0.24641853 0.67569323]\n",
      "  [0.24698151 0.64403374]\n",
      "  [0.25619636 0.61611198]\n",
      "  [0.25131554 0.58077575]\n",
      "  [0.22750389 0.57821214]\n",
      "  [0.23229368 0.55094277]\n",
      "  [0.23712738 0.51586778]\n",
      "  [0.23780283 0.48841322]\n",
      "  [0.24824957 0.45872931]\n",
      "  [0.23519892 0.43779394]\n",
      "  [0.20508094 0.42850698]\n",
      "  [0.19993501 0.42535207]\n",
      "  [0.26271884 0.42259578]]\n",
      "\n",
      " [[0.47743935 0.64982454]\n",
      "  [0.49241576 0.56337907]\n",
      "  [0.46421831 0.54233052]\n",
      "  [0.49559767 0.61660355]\n",
      "  [0.55987054 0.62814207]\n",
      "  [0.607534   0.55191558]\n",
      "  [0.63592936 0.50797974]\n",
      "  [0.65852886 0.4957214 ]\n",
      "  [0.60076205 0.55385824]\n",
      "  [0.6752477  0.59732247]\n",
      "  [0.7366364  0.59669996]\n",
      "  [0.76237024 0.59648856]\n",
      "  [0.76052618 0.64769656]\n",
      "  [0.80861737 0.64613928]\n",
      "  [0.90113158 0.61232082]\n",
      "  [0.94960358 0.58476407]\n",
      "  [0.9901736  0.51049996]\n",
      "  [0.99838732 0.51605353]\n",
      "  [0.95195396 0.45099766]\n",
      "  [0.9062974  0.40143738]]\n",
      "\n",
      " [[0.74058508 0.64455306]\n",
      "  [0.74319125 0.59246782]\n",
      "  [0.76746282 0.58500758]\n",
      "  [0.79515849 0.5981687 ]\n",
      "  [0.75218797 0.58187879]\n",
      "  [0.72874597 0.54846306]\n",
      "  [0.71648632 0.55530211]\n",
      "  [0.69320597 0.53381448]\n",
      "  [0.70380496 0.57956982]\n",
      "  [0.68629136 0.54663828]\n",
      "  [0.67623907 0.59032991]\n",
      "  [0.67322719 0.54891791]\n",
      "  [0.67787896 0.59345829]\n",
      "  [0.71192154 0.57044865]\n",
      "  [0.73725397 0.52148851]\n",
      "  [0.72791129 0.54065743]\n",
      "  [0.7355941  0.49450833]\n",
      "  [0.75705542 0.46278067]\n",
      "  [0.80239211 0.44665328]\n",
      "  [0.81752402 0.40149198]]\n",
      "\n",
      " [[0.60597751 0.65207309]\n",
      "  [0.55016705 0.60392757]\n",
      "  [0.47181399 0.64051078]\n",
      "  [0.39365243 0.64384681]\n",
      "  [0.35623989 0.59374728]\n",
      "  [0.34809174 0.59926369]\n",
      "  [0.36352813 0.58761502]\n",
      "  [0.36452774 0.63767881]\n",
      "  [0.33523586 0.64049788]\n",
      "  [0.28326369 0.60328547]\n",
      "  [0.21834238 0.63587247]\n",
      "  [0.21385061 0.62626366]\n",
      "  [0.19246369 0.60382459]\n",
      "  [0.20556535 0.60752053]\n",
      "  [0.14984806 0.66648388]\n",
      "  [0.07871854 0.6767388 ]\n",
      "  [0.0624151  0.61510688]\n",
      "  [0.00877015 0.62777373]\n",
      "  [0.00904919 0.54170532]\n",
      "  [0.00476451 0.46241335]]]\n",
      "object_starts [[0.45580925 0.68537036]\n",
      " [0.61691686 0.59070396]\n",
      " [0.24572738 0.73466051]\n",
      " [0.47743935 0.64982454]\n",
      " [0.74058508 0.64455306]\n",
      " [0.60597751 0.65207309]]\n"
     ]
    }
   ],
   "source": [
    "for key, value in trn_data.items():\n",
    "    print(f\"{key}: {len(value)}\")\n",
    "print('costs', type(trn_data[\"costs\"]))\n",
    "print('costs', trn_data[\"costs\"])\n",
    "print('paths', trn_data[\"paths\"])\n",
    "print('object_starts', trn_data[\"object_starts\"])\n"
   ]
  }
 ],
 "metadata": {
  "kernelspec": {
   "display_name": "pdquadrotor",
   "language": "python",
   "name": "python3"
  },
  "language_info": {
   "codemirror_mode": {
    "name": "ipython",
    "version": 3
   },
   "file_extension": ".py",
   "mimetype": "text/x-python",
   "name": "python",
   "nbconvert_exporter": "python",
   "pygments_lexer": "ipython3",
   "version": "3.10.16"
  },
  "widgets": {
   "application/vnd.jupyter.widget-state+json": {
    "state": {},
    "version_major": 2,
    "version_minor": 0
   }
  }
 },
 "nbformat": 4,
 "nbformat_minor": 5
}
