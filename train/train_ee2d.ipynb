{
 "cells": [
  {
   "cell_type": "code",
   "execution_count": 1,
   "id": "2ba5cbbf-eda8-4283-bf6b-c0905117c808",
   "metadata": {},
   "outputs": [],
   "source": [
    "%load_ext autoreload\n",
    "%autoreload 2"
   ]
  },
  {
   "cell_type": "code",
   "execution_count": 2,
   "id": "1ad0c7be-d5f5-407f-8b6c-c1d5c6e41dbb",
   "metadata": {},
   "outputs": [
    {
     "name": "stdout",
     "output_type": "stream",
     "text": [
      "/home/yif/Documents/KTH/git/diffusion_policy_escape_energy/train\n"
     ]
    },
    {
     "name": "stderr",
     "output_type": "stream",
     "text": [
      "/home/yif/.local/lib/python3.10/site-packages/tqdm/auto.py:22: TqdmWarning: IProgress not found. Please update jupyter and ipywidgets. See https://ipywidgets.readthedocs.io/en/stable/user_install.html\n",
      "  from .autonotebook import tqdm as notebook_tqdm\n"
     ]
    }
   ],
   "source": [
    "import gdown\n",
    "import os\n",
    "import yaml\n",
    "import sys\n",
    "from os.path import abspath, dirname, join\n",
    "current_dir = os.getcwd()\n",
    "print(current_dir)\n",
    "sys.path.insert(0, \"/home/yif/Documents/KTH/git/diffusion_policy_escape_energy\")\n",
    "\n",
    "from core.controllers.quadrotor_diffusion_policy import build_networks_from_config\n",
    "from core.dataset.ee2d_dataset import EscapeEnergy2DDataset\n",
    "from core.trainers.quadrotor_diffusion_policy_trainer import PlanarQuadrotorDiffusionPolicyTrainer"
   ]
  },
  {
   "cell_type": "markdown",
   "id": "c8d1250d-1540-4019-b3ef-1cbc329e1423",
   "metadata": {},
   "source": [
    "## Load config"
   ]
  },
  {
   "cell_type": "code",
   "execution_count": 3,
   "id": "d4939536-cd69-4498-8041-ec453acf5724",
   "metadata": {},
   "outputs": [],
   "source": [
    "with open(\"../config/config_ee2d.yaml\", \"r\") as file:\n",
    "    config = yaml.safe_load(file)"
   ]
  },
  {
   "cell_type": "markdown",
   "id": "81a1fda8-45e3-4308-aa21-621c3cba28bf",
   "metadata": {},
   "source": [
    "## Download dataset"
   ]
  },
  {
   "cell_type": "code",
   "execution_count": 4,
   "id": "a1c09f22-f4dc-47bf-812f-3de832ea328d",
   "metadata": {},
   "outputs": [],
   "source": [
    "dataset_path = \"../dataset_escape_from_u_2d_30000_envs.joblib\"\n",
    "# if not os.path.isfile(dataset_path):\n",
    "#     gdown.download(id=\"14safYt34YKn21vL9c_BsRHaG_URPB4Dp\", output=dataset_path, quiet=False)"
   ]
  },
  {
   "cell_type": "markdown",
   "id": "86bd93db-fac6-42b6-a978-1f27f2cd9cc2",
   "metadata": {},
   "source": [
    "## Load dataset and instantiate the NN"
   ]
  },
  {
   "cell_type": "code",
   "execution_count": 5,
   "id": "e6846a64-66dd-49c5-a118-9f8335770755",
   "metadata": {},
   "outputs": [
    {
     "name": "stdout",
     "output_type": "stream",
     "text": [
      "!!!!!! dataset_root dict_keys(['costs', 'paths', 'object_starts', 'ellipse_centers', 'ellipse_radii'])\n",
      "!!!!!! paths (29868, 20, 2)\n",
      "!!!!!! object_starts (29868, 2)\n",
      "!!!!!! ellipse_radii (29868, 3, 2)\n",
      "!!!!!! ellipse_centers (29868, 3, 2)\n",
      "----------------------\n",
      "!!!!!! action (40960, 2)\n",
      "!!!!!! obs (40960, 2)\n",
      "!!!!!! obstacle (40960, 12)\n",
      "----------------------\n",
      "Dataset loaded successfully.\n",
      "Networks initialized successfully.\n"
     ]
    }
   ],
   "source": [
    "num_data = 2048\n",
    "dataset = EscapeEnergy2DDataset(dataset_path=dataset_path, config=config, num_data=num_data)\n",
    "print(\"Dataset loaded successfully.\")\n",
    "\n",
    "net = build_networks_from_config(config)\n",
    "print(\"Networks initialized successfully.\")"
   ]
  },
  {
   "cell_type": "code",
   "execution_count": null,
   "id": "5f87031f",
   "metadata": {},
   "outputs": [
    {
     "data": {
      "text/plain": [
       "{'action': array([[ 0.3499149 , -0.07250604],\n",
       "        [ 0.3499149 , -0.07250604],\n",
       "        [ 0.3499149 , -0.07250604],\n",
       "        [ 0.3499149 , -0.07250604],\n",
       "        [ 0.40801454, -0.15726896],\n",
       "        [ 0.44776934, -0.04675347],\n",
       "        [ 0.3963071 , -0.01808464],\n",
       "        [ 0.40379595,  0.02797985],\n",
       "        [ 0.47788737,  0.04764918],\n",
       "        [ 0.54595682,  0.05196685],\n",
       "        [ 0.60694543,  0.10499713],\n",
       "        [ 0.67810765,  0.05802508],\n",
       "        [ 0.70343048, -0.04855155],\n",
       "        [ 0.72672735, -0.15638672],\n",
       "        [ 0.8071465 , -0.11586022],\n",
       "        [ 0.75484096, -0.13050522]]),\n",
       " 'obs': array([0.35252108, 0.05554417, 0.35252108, 0.05554417, 0.35252108,\n",
       "        0.05554417, 0.35252108, 0.05554417, 0.17445749, 0.48484993,\n",
       "        0.08561694, 0.23540013, 0.5       , 0.4259499 , 0.31514904,\n",
       "        0.06064222, 0.81143872, 0.42356159, 0.05606006, 0.18463881]),\n",
       " 'obstacle': array([[0.17445749, 0.48484993, 0.08561694, 0.23540013, 0.5       ,\n",
       "         0.4259499 , 0.31514904, 0.06064222, 0.81143872, 0.42356159,\n",
       "         0.05606006, 0.18463881],\n",
       "        [0.17445749, 0.48484993, 0.08561694, 0.23540013, 0.5       ,\n",
       "         0.4259499 , 0.31514904, 0.06064222, 0.81143872, 0.42356159,\n",
       "         0.05606006, 0.18463881],\n",
       "        [0.17445749, 0.48484993, 0.08561694, 0.23540013, 0.5       ,\n",
       "         0.4259499 , 0.31514904, 0.06064222, 0.81143872, 0.42356159,\n",
       "         0.05606006, 0.18463881],\n",
       "        [0.17445749, 0.48484993, 0.08561694, 0.23540013, 0.5       ,\n",
       "         0.4259499 , 0.31514904, 0.06064222, 0.81143872, 0.42356159,\n",
       "         0.05606006, 0.18463881],\n",
       "        [0.17445749, 0.48484993, 0.08561694, 0.23540013, 0.5       ,\n",
       "         0.4259499 , 0.31514904, 0.06064222, 0.81143872, 0.42356159,\n",
       "         0.05606006, 0.18463881],\n",
       "        [0.17445749, 0.48484993, 0.08561694, 0.23540013, 0.5       ,\n",
       "         0.4259499 , 0.31514904, 0.06064222, 0.81143872, 0.42356159,\n",
       "         0.05606006, 0.18463881],\n",
       "        [0.17445749, 0.48484993, 0.08561694, 0.23540013, 0.5       ,\n",
       "         0.4259499 , 0.31514904, 0.06064222, 0.81143872, 0.42356159,\n",
       "         0.05606006, 0.18463881],\n",
       "        [0.17445749, 0.48484993, 0.08561694, 0.23540013, 0.5       ,\n",
       "         0.4259499 , 0.31514904, 0.06064222, 0.81143872, 0.42356159,\n",
       "         0.05606006, 0.18463881],\n",
       "        [0.17445749, 0.48484993, 0.08561694, 0.23540013, 0.5       ,\n",
       "         0.4259499 , 0.31514904, 0.06064222, 0.81143872, 0.42356159,\n",
       "         0.05606006, 0.18463881],\n",
       "        [0.17445749, 0.48484993, 0.08561694, 0.23540013, 0.5       ,\n",
       "         0.4259499 , 0.31514904, 0.06064222, 0.81143872, 0.42356159,\n",
       "         0.05606006, 0.18463881],\n",
       "        [0.17445749, 0.48484993, 0.08561694, 0.23540013, 0.5       ,\n",
       "         0.4259499 , 0.31514904, 0.06064222, 0.81143872, 0.42356159,\n",
       "         0.05606006, 0.18463881],\n",
       "        [0.17445749, 0.48484993, 0.08561694, 0.23540013, 0.5       ,\n",
       "         0.4259499 , 0.31514904, 0.06064222, 0.81143872, 0.42356159,\n",
       "         0.05606006, 0.18463881],\n",
       "        [0.17445749, 0.48484993, 0.08561694, 0.23540013, 0.5       ,\n",
       "         0.4259499 , 0.31514904, 0.06064222, 0.81143872, 0.42356159,\n",
       "         0.05606006, 0.18463881],\n",
       "        [0.17445749, 0.48484993, 0.08561694, 0.23540013, 0.5       ,\n",
       "         0.4259499 , 0.31514904, 0.06064222, 0.81143872, 0.42356159,\n",
       "         0.05606006, 0.18463881],\n",
       "        [0.17445749, 0.48484993, 0.08561694, 0.23540013, 0.5       ,\n",
       "         0.4259499 , 0.31514904, 0.06064222, 0.81143872, 0.42356159,\n",
       "         0.05606006, 0.18463881],\n",
       "        [0.17445749, 0.48484993, 0.08561694, 0.23540013, 0.5       ,\n",
       "         0.4259499 , 0.31514904, 0.06064222, 0.81143872, 0.42356159,\n",
       "         0.05606006, 0.18463881]])}"
      ]
     },
     "execution_count": 6,
     "metadata": {},
     "output_type": "execute_result"
    }
   ],
   "source": [
    "dataset.__getitem__(0)"
   ]
  },
  {
   "cell_type": "markdown",
   "id": "02db2365-b4e2-4e7c-913f-e95ed8b39f59",
   "metadata": {},
   "source": [
    "## Instantiate the trainer"
   ]
  },
  {
   "cell_type": "code",
   "execution_count": 7,
   "id": "6ed40977",
   "metadata": {},
   "outputs": [
    {
     "data": {
      "text/plain": [
       "True"
      ]
     },
     "execution_count": 7,
     "metadata": {},
     "output_type": "execute_result"
    }
   ],
   "source": [
    "import torch\n",
    "torch.cuda.is_available() # TODO"
   ]
  },
  {
   "cell_type": "code",
   "execution_count": 8,
   "id": "1b352102-6e92-46c4-9962-a574895e6c85",
   "metadata": {},
   "outputs": [
    {
     "name": "stdout",
     "output_type": "stream",
     "text": [
      "Using device: cuda\n",
      "!!!!!! len(self.indices) 47104\n",
      "!!!!!! len(self.indices) 47104\n"
     ]
    }
   ],
   "source": [
    "trainer = PlanarQuadrotorDiffusionPolicyTrainer(\n",
    "    net=net,\n",
    "    dataset=dataset,\n",
    "    config=config,\n",
    ")"
   ]
  },
  {
   "cell_type": "markdown",
   "id": "29523e2d-d592-4067-be00-9880344523b2",
   "metadata": {},
   "source": [
    "## Start training"
   ]
  },
  {
   "cell_type": "code",
   "execution_count": 9,
   "id": "3a4777a0-ccf6-4da4-a9e7-686c964c17b8",
   "metadata": {
    "scrolled": true
   },
   "outputs": [
    {
     "name": "stdout",
     "output_type": "stream",
     "text": [
      "!!!!!! len(self.indices) 47104\n"
     ]
    },
    {
     "name": "stderr",
     "output_type": "stream",
     "text": [
      "Epoch:   0%|          | 0/100 [00:00<?, ?it/s]"
     ]
    },
    {
     "name": "stdout",
     "output_type": "stream",
     "text": [
      "!!!!!! len(self.indices) 47104\n"
     ]
    },
    {
     "name": "stderr",
     "output_type": "stream",
     "text": []
    },
    {
     "name": "stdout",
     "output_type": "stream",
     "text": [
      "!!!!!! len(self.indices) 47104\n",
      "!!!!!! len(self.indices) 47104\n"
     ]
    },
    {
     "name": "stderr",
     "output_type": "stream",
     "text": [
      "Epoch:   1%|          | 1/100 [00:18<30:16, 18.35s/it, loss=0.384]"
     ]
    },
    {
     "name": "stdout",
     "output_type": "stream",
     "text": [
      "!!!!!! len(self.indices) 47104\n",
      "!!!!!! len(self.indices) 47104\n"
     ]
    },
    {
     "name": "stderr",
     "output_type": "stream",
     "text": []
    },
    {
     "name": "stdout",
     "output_type": "stream",
     "text": [
      "!!!!!! len(self.indices) 47104\n",
      "!!!!!! len(self.indices) 47104\n"
     ]
    },
    {
     "name": "stderr",
     "output_type": "stream",
     "text": [
      "Epoch:   2%|▏         | 2/100 [00:36<29:29, 18.06s/it, loss=0.0833]"
     ]
    },
    {
     "name": "stdout",
     "output_type": "stream",
     "text": [
      "!!!!!! len(self.indices) 47104\n",
      "!!!!!! len(self.indices) 47104\n"
     ]
    },
    {
     "name": "stderr",
     "output_type": "stream",
     "text": []
    },
    {
     "name": "stdout",
     "output_type": "stream",
     "text": [
      "!!!!!! len(self.indices) 47104\n",
      "!!!!!! len(self.indices) 47104\n"
     ]
    },
    {
     "name": "stderr",
     "output_type": "stream",
     "text": [
      "Epoch:   3%|▎         | 3/100 [00:54<29:08, 18.03s/it, loss=0.0722]"
     ]
    },
    {
     "name": "stdout",
     "output_type": "stream",
     "text": [
      "!!!!!! len(self.indices) 47104\n",
      "!!!!!! len(self.indices) 47104\n"
     ]
    },
    {
     "name": "stderr",
     "output_type": "stream",
     "text": [
      "\n"
     ]
    },
    {
     "name": "stdout",
     "output_type": "stream",
     "text": [
      "!!!!!! len(self.indices) 47104\n",
      "!!!!!! len(self.indices) 47104\n"
     ]
    },
    {
     "name": "stderr",
     "output_type": "stream",
     "text": [
      "Epoch:   4%|▍         | 4/100 [01:12<28:54, 18.06s/it, loss=0.0636]\u001b[A"
     ]
    },
    {
     "name": "stdout",
     "output_type": "stream",
     "text": [
      "!!!!!! len(self.indices) 47104\n",
      "!!!!!! len(self.indices) 47104\n"
     ]
    },
    {
     "name": "stderr",
     "output_type": "stream",
     "text": [
      "\n"
     ]
    },
    {
     "name": "stdout",
     "output_type": "stream",
     "text": [
      "!!!!!! len(self.indices) 47104\n",
      "!!!!!! len(self.indices) 47104\n"
     ]
    },
    {
     "name": "stderr",
     "output_type": "stream",
     "text": [
      "Epoch:   5%|▌         | 5/100 [01:30<28:41, 18.12s/it, loss=0.0605]\u001b[A"
     ]
    },
    {
     "name": "stdout",
     "output_type": "stream",
     "text": [
      "!!!!!! len(self.indices) 47104\n",
      "!!!!!! len(self.indices) 47104\n"
     ]
    },
    {
     "name": "stderr",
     "output_type": "stream",
     "text": []
    },
    {
     "name": "stdout",
     "output_type": "stream",
     "text": [
      "!!!!!! len(self.indices) 47104\n",
      "!!!!!! len(self.indices) 47104\n"
     ]
    },
    {
     "name": "stderr",
     "output_type": "stream",
     "text": [
      "Epoch:   6%|▌         | 6/100 [01:48<28:31, 18.21s/it, loss=0.0575]"
     ]
    },
    {
     "name": "stdout",
     "output_type": "stream",
     "text": [
      "!!!!!! len(self.indices) 47104\n",
      "!!!!!! len(self.indices) 47104\n"
     ]
    },
    {
     "name": "stderr",
     "output_type": "stream",
     "text": []
    },
    {
     "name": "stdout",
     "output_type": "stream",
     "text": [
      "!!!!!! len(self.indices) 47104\n",
      "!!!!!! len(self.indices) 47104\n"
     ]
    },
    {
     "name": "stderr",
     "output_type": "stream",
     "text": [
      "Epoch:   7%|▋         | 7/100 [02:07<28:20, 18.29s/it, loss=0.0566]"
     ]
    },
    {
     "name": "stdout",
     "output_type": "stream",
     "text": [
      "!!!!!! len(self.indices) 47104\n",
      "!!!!!! len(self.indices) 47104\n"
     ]
    },
    {
     "name": "stderr",
     "output_type": "stream",
     "text": []
    },
    {
     "name": "stdout",
     "output_type": "stream",
     "text": [
      "!!!!!! len(self.indices) 47104\n",
      "!!!!!! len(self.indices) 47104\n"
     ]
    },
    {
     "name": "stderr",
     "output_type": "stream",
     "text": [
      "Epoch:   8%|▊         | 8/100 [02:26<28:13, 18.40s/it, loss=0.0539]"
     ]
    },
    {
     "name": "stdout",
     "output_type": "stream",
     "text": [
      "!!!!!! len(self.indices) 47104\n",
      "!!!!!! len(self.indices) 47104\n"
     ]
    },
    {
     "name": "stderr",
     "output_type": "stream",
     "text": []
    },
    {
     "name": "stdout",
     "output_type": "stream",
     "text": [
      "!!!!!! len(self.indices) 47104\n",
      "!!!!!! len(self.indices) 47104\n"
     ]
    },
    {
     "name": "stderr",
     "output_type": "stream",
     "text": [
      "Epoch:   9%|▉         | 9/100 [02:44<28:04, 18.51s/it, loss=0.0537]"
     ]
    },
    {
     "name": "stdout",
     "output_type": "stream",
     "text": [
      "!!!!!! len(self.indices) 47104\n",
      "!!!!!! len(self.indices) 47104\n"
     ]
    },
    {
     "name": "stderr",
     "output_type": "stream",
     "text": []
    },
    {
     "name": "stdout",
     "output_type": "stream",
     "text": [
      "!!!!!! len(self.indices) 47104\n",
      "!!!!!! len(self.indices) 47104\n"
     ]
    },
    {
     "name": "stderr",
     "output_type": "stream",
     "text": [
      "Epoch:   9%|▉         | 9/100 [03:03<28:04, 18.51s/it, loss=0.0522]"
     ]
    },
    {
     "name": "stdout",
     "output_type": "stream",
     "text": [
      "!!!!!! len(self.indices) 47104\n"
     ]
    },
    {
     "name": "stderr",
     "output_type": "stream",
     "text": [
      "Epoch:  10%|█         | 10/100 [03:03<28:01, 18.68s/it, loss=0.0522]"
     ]
    },
    {
     "name": "stdout",
     "output_type": "stream",
     "text": [
      "!!!!!! len(self.indices) 47104\n"
     ]
    },
    {
     "name": "stderr",
     "output_type": "stream",
     "text": []
    },
    {
     "name": "stdout",
     "output_type": "stream",
     "text": [
      "!!!!!! len(self.indices) 47104\n",
      "!!!!!! len(self.indices) 47104\n"
     ]
    },
    {
     "name": "stderr",
     "output_type": "stream",
     "text": [
      "Epoch:  11%|█         | 11/100 [03:23<28:10, 18.99s/it, loss=0.0523]"
     ]
    },
    {
     "name": "stdout",
     "output_type": "stream",
     "text": [
      "!!!!!! len(self.indices) 47104\n",
      "!!!!!! len(self.indices) 47104\n"
     ]
    },
    {
     "name": "stderr",
     "output_type": "stream",
     "text": []
    },
    {
     "name": "stdout",
     "output_type": "stream",
     "text": [
      "!!!!!! len(self.indices) 47104\n",
      "!!!!!! len(self.indices) 47104\n"
     ]
    },
    {
     "name": "stderr",
     "output_type": "stream",
     "text": [
      "Epoch:  12%|█▏        | 12/100 [03:44<28:41, 19.56s/it, loss=0.052] "
     ]
    },
    {
     "name": "stdout",
     "output_type": "stream",
     "text": [
      "!!!!!! len(self.indices) 47104\n",
      "!!!!!! len(self.indices) 47104\n"
     ]
    },
    {
     "name": "stderr",
     "output_type": "stream",
     "text": []
    },
    {
     "name": "stdout",
     "output_type": "stream",
     "text": [
      "!!!!!! len(self.indices) 47104\n",
      "!!!!!! len(self.indices) 47104\n"
     ]
    },
    {
     "name": "stderr",
     "output_type": "stream",
     "text": [
      "Epoch:  13%|█▎        | 13/100 [04:06<29:18, 20.21s/it, loss=0.0507]"
     ]
    },
    {
     "name": "stdout",
     "output_type": "stream",
     "text": [
      "!!!!!! len(self.indices) 47104\n",
      "!!!!!! len(self.indices) 47104\n"
     ]
    },
    {
     "name": "stderr",
     "output_type": "stream",
     "text": []
    },
    {
     "name": "stdout",
     "output_type": "stream",
     "text": [
      "!!!!!! len(self.indices) 47104\n",
      "!!!!!! len(self.indices) 47104\n"
     ]
    },
    {
     "name": "stderr",
     "output_type": "stream",
     "text": [
      "Epoch:  14%|█▍        | 14/100 [04:29<30:22, 21.19s/it, loss=0.0498]"
     ]
    },
    {
     "name": "stdout",
     "output_type": "stream",
     "text": [
      "!!!!!! len(self.indices) 47104\n",
      "!!!!!! len(self.indices) 47104\n"
     ]
    },
    {
     "name": "stderr",
     "output_type": "stream",
     "text": []
    },
    {
     "name": "stdout",
     "output_type": "stream",
     "text": [
      "!!!!!! len(self.indices) 47104\n",
      "!!!!!! len(self.indices) 47104\n"
     ]
    },
    {
     "name": "stderr",
     "output_type": "stream",
     "text": [
      "Epoch:  15%|█▌        | 15/100 [04:52<30:46, 21.72s/it, loss=0.0491]"
     ]
    },
    {
     "name": "stdout",
     "output_type": "stream",
     "text": [
      "!!!!!! len(self.indices) 47104\n",
      "!!!!!! len(self.indices) 47104\n"
     ]
    },
    {
     "name": "stderr",
     "output_type": "stream",
     "text": []
    },
    {
     "name": "stdout",
     "output_type": "stream",
     "text": [
      "!!!!!! len(self.indices) 47104\n",
      "!!!!!! len(self.indices) 47104\n"
     ]
    },
    {
     "name": "stderr",
     "output_type": "stream",
     "text": [
      "Epoch:  16%|█▌        | 16/100 [05:15<31:01, 22.17s/it, loss=0.0474]"
     ]
    },
    {
     "name": "stdout",
     "output_type": "stream",
     "text": [
      "!!!!!! len(self.indices) 47104\n",
      "!!!!!! len(self.indices) 47104\n"
     ]
    },
    {
     "name": "stderr",
     "output_type": "stream",
     "text": []
    },
    {
     "name": "stdout",
     "output_type": "stream",
     "text": [
      "!!!!!! len(self.indices) 47104\n",
      "!!!!!! len(self.indices) 47104\n"
     ]
    },
    {
     "name": "stderr",
     "output_type": "stream",
     "text": [
      "Epoch:  17%|█▋        | 17/100 [05:39<31:28, 22.75s/it, loss=0.0476]"
     ]
    },
    {
     "name": "stdout",
     "output_type": "stream",
     "text": [
      "!!!!!! len(self.indices) 47104\n",
      "!!!!!! len(self.indices) 47104\n"
     ]
    },
    {
     "name": "stderr",
     "output_type": "stream",
     "text": []
    },
    {
     "name": "stdout",
     "output_type": "stream",
     "text": [
      "!!!!!! len(self.indices) 47104\n",
      "!!!!!! len(self.indices) 47104\n"
     ]
    },
    {
     "name": "stderr",
     "output_type": "stream",
     "text": [
      "Epoch:  18%|█▊        | 18/100 [06:04<31:52, 23.32s/it, loss=0.0471]"
     ]
    },
    {
     "name": "stdout",
     "output_type": "stream",
     "text": [
      "!!!!!! len(self.indices) 47104\n",
      "!!!!!! len(self.indices) 47104\n"
     ]
    },
    {
     "name": "stderr",
     "output_type": "stream",
     "text": []
    },
    {
     "name": "stdout",
     "output_type": "stream",
     "text": [
      "!!!!!! len(self.indices) 47104\n",
      "!!!!!! len(self.indices) 47104\n"
     ]
    },
    {
     "name": "stderr",
     "output_type": "stream",
     "text": [
      "Epoch:  19%|█▉        | 19/100 [06:28<31:38, 23.44s/it, loss=0.047] "
     ]
    },
    {
     "name": "stdout",
     "output_type": "stream",
     "text": [
      "!!!!!! len(self.indices) 47104\n",
      "!!!!!! len(self.indices) 47104\n"
     ]
    },
    {
     "name": "stderr",
     "output_type": "stream",
     "text": []
    },
    {
     "name": "stdout",
     "output_type": "stream",
     "text": [
      "!!!!!! len(self.indices) 47104\n",
      "!!!!!! len(self.indices) 47104\n"
     ]
    },
    {
     "name": "stderr",
     "output_type": "stream",
     "text": [
      "Epoch:  19%|█▉        | 19/100 [06:53<31:38, 23.44s/it, loss=0.0468]"
     ]
    },
    {
     "name": "stdout",
     "output_type": "stream",
     "text": [
      "!!!!!! len(self.indices) 47104\n"
     ]
    },
    {
     "name": "stderr",
     "output_type": "stream",
     "text": [
      "Epoch:  20%|██        | 20/100 [06:54<32:17, 24.22s/it, loss=0.0468]"
     ]
    },
    {
     "name": "stdout",
     "output_type": "stream",
     "text": [
      "!!!!!! len(self.indices) 47104\n"
     ]
    },
    {
     "name": "stderr",
     "output_type": "stream",
     "text": []
    },
    {
     "name": "stdout",
     "output_type": "stream",
     "text": [
      "!!!!!! len(self.indices) 47104\n",
      "!!!!!! len(self.indices) 47104\n"
     ]
    },
    {
     "name": "stderr",
     "output_type": "stream",
     "text": [
      "Epoch:  21%|██        | 21/100 [07:19<32:10, 24.44s/it, loss=0.0466]"
     ]
    },
    {
     "name": "stdout",
     "output_type": "stream",
     "text": [
      "!!!!!! len(self.indices) 47104\n",
      "!!!!!! len(self.indices) 47104\n"
     ]
    },
    {
     "name": "stderr",
     "output_type": "stream",
     "text": []
    },
    {
     "name": "stdout",
     "output_type": "stream",
     "text": [
      "!!!!!! len(self.indices) 47104\n",
      "!!!!!! len(self.indices) 47104\n"
     ]
    },
    {
     "name": "stderr",
     "output_type": "stream",
     "text": [
      "Epoch:  22%|██▏       | 22/100 [07:43<31:47, 24.45s/it, loss=0.0467]"
     ]
    },
    {
     "name": "stdout",
     "output_type": "stream",
     "text": [
      "!!!!!! len(self.indices) 47104\n",
      "!!!!!! len(self.indices) 47104\n"
     ]
    },
    {
     "name": "stderr",
     "output_type": "stream",
     "text": []
    },
    {
     "name": "stdout",
     "output_type": "stream",
     "text": [
      "!!!!!! len(self.indices) 47104\n",
      "!!!!!! len(self.indices) 47104\n"
     ]
    },
    {
     "name": "stderr",
     "output_type": "stream",
     "text": [
      "Epoch:  23%|██▎       | 23/100 [08:08<31:24, 24.47s/it, loss=0.0454]"
     ]
    },
    {
     "name": "stdout",
     "output_type": "stream",
     "text": [
      "!!!!!! len(self.indices) 47104\n",
      "!!!!!! len(self.indices) 47104\n"
     ]
    },
    {
     "name": "stderr",
     "output_type": "stream",
     "text": []
    },
    {
     "name": "stdout",
     "output_type": "stream",
     "text": [
      "!!!!!! len(self.indices) 47104\n",
      "!!!!!! len(self.indices) 47104\n"
     ]
    },
    {
     "name": "stderr",
     "output_type": "stream",
     "text": [
      "Epoch:  24%|██▍       | 24/100 [08:32<30:59, 24.47s/it, loss=0.0458]"
     ]
    },
    {
     "name": "stdout",
     "output_type": "stream",
     "text": [
      "!!!!!! len(self.indices) 47104\n",
      "!!!!!! len(self.indices) 47104\n"
     ]
    },
    {
     "name": "stderr",
     "output_type": "stream",
     "text": []
    },
    {
     "name": "stdout",
     "output_type": "stream",
     "text": [
      "!!!!!! len(self.indices) 47104\n",
      "!!!!!! len(self.indices) 47104\n"
     ]
    },
    {
     "name": "stderr",
     "output_type": "stream",
     "text": [
      "Epoch:  25%|██▌       | 25/100 [08:58<31:00, 24.81s/it, loss=0.0461]"
     ]
    },
    {
     "name": "stdout",
     "output_type": "stream",
     "text": [
      "!!!!!! len(self.indices) 47104\n",
      "!!!!!! len(self.indices) 47104\n"
     ]
    },
    {
     "name": "stderr",
     "output_type": "stream",
     "text": []
    },
    {
     "name": "stdout",
     "output_type": "stream",
     "text": [
      "!!!!!! len(self.indices) 47104\n",
      "!!!!!! len(self.indices) 47104\n"
     ]
    },
    {
     "name": "stderr",
     "output_type": "stream",
     "text": [
      "Epoch:  26%|██▌       | 26/100 [09:24<31:16, 25.36s/it, loss=0.0442]"
     ]
    },
    {
     "name": "stdout",
     "output_type": "stream",
     "text": [
      "!!!!!! len(self.indices) 47104\n",
      "!!!!!! len(self.indices) 47104\n"
     ]
    },
    {
     "name": "stderr",
     "output_type": "stream",
     "text": []
    },
    {
     "name": "stdout",
     "output_type": "stream",
     "text": [
      "!!!!!! len(self.indices) 47104\n",
      "!!!!!! len(self.indices) 47104\n"
     ]
    },
    {
     "name": "stderr",
     "output_type": "stream",
     "text": [
      "Epoch:  27%|██▋       | 27/100 [09:51<31:19, 25.75s/it, loss=0.0436]"
     ]
    },
    {
     "name": "stdout",
     "output_type": "stream",
     "text": [
      "!!!!!! len(self.indices) 47104\n",
      "!!!!!! len(self.indices) 47104\n"
     ]
    },
    {
     "name": "stderr",
     "output_type": "stream",
     "text": []
    },
    {
     "name": "stdout",
     "output_type": "stream",
     "text": [
      "!!!!!! len(self.indices) 47104\n",
      "!!!!!! len(self.indices) 47104\n"
     ]
    },
    {
     "name": "stderr",
     "output_type": "stream",
     "text": [
      "Epoch:  28%|██▊       | 28/100 [10:16<30:42, 25.58s/it, loss=0.0443]"
     ]
    },
    {
     "name": "stdout",
     "output_type": "stream",
     "text": [
      "!!!!!! len(self.indices) 47104\n",
      "!!!!!! len(self.indices) 47104\n"
     ]
    },
    {
     "name": "stderr",
     "output_type": "stream",
     "text": []
    },
    {
     "name": "stdout",
     "output_type": "stream",
     "text": [
      "!!!!!! len(self.indices) 47104\n",
      "!!!!!! len(self.indices) 47104\n"
     ]
    },
    {
     "name": "stderr",
     "output_type": "stream",
     "text": [
      "Epoch:  29%|██▉       | 29/100 [10:41<30:05, 25.42s/it, loss=0.0443]"
     ]
    },
    {
     "name": "stdout",
     "output_type": "stream",
     "text": [
      "!!!!!! len(self.indices) 47104\n",
      "!!!!!! len(self.indices) 47104\n"
     ]
    },
    {
     "name": "stderr",
     "output_type": "stream",
     "text": []
    },
    {
     "name": "stdout",
     "output_type": "stream",
     "text": [
      "!!!!!! len(self.indices) 47104\n",
      "!!!!!! len(self.indices) 47104\n"
     ]
    },
    {
     "name": "stderr",
     "output_type": "stream",
     "text": [
      "Epoch:  29%|██▉       | 29/100 [11:06<30:05, 25.42s/it, loss=0.0439]"
     ]
    },
    {
     "name": "stdout",
     "output_type": "stream",
     "text": [
      "!!!!!! len(self.indices) 47104\n"
     ]
    },
    {
     "name": "stderr",
     "output_type": "stream",
     "text": [
      "Epoch:  30%|███       | 30/100 [11:07<29:36, 25.37s/it, loss=0.0439]"
     ]
    },
    {
     "name": "stdout",
     "output_type": "stream",
     "text": [
      "!!!!!! len(self.indices) 47104\n"
     ]
    },
    {
     "name": "stderr",
     "output_type": "stream",
     "text": []
    },
    {
     "name": "stdout",
     "output_type": "stream",
     "text": [
      "!!!!!! len(self.indices) 47104\n",
      "!!!!!! len(self.indices) 47104\n"
     ]
    },
    {
     "name": "stderr",
     "output_type": "stream",
     "text": [
      "Epoch:  31%|███       | 31/100 [11:32<29:16, 25.46s/it, loss=0.0444]"
     ]
    },
    {
     "name": "stdout",
     "output_type": "stream",
     "text": [
      "!!!!!! len(self.indices) 47104\n",
      "!!!!!! len(self.indices) 47104\n"
     ]
    },
    {
     "name": "stderr",
     "output_type": "stream",
     "text": []
    },
    {
     "name": "stdout",
     "output_type": "stream",
     "text": [
      "!!!!!! len(self.indices) 47104\n",
      "!!!!!! len(self.indices) 47104\n"
     ]
    },
    {
     "name": "stderr",
     "output_type": "stream",
     "text": [
      "Epoch:  32%|███▏      | 32/100 [11:59<29:16, 25.83s/it, loss=0.0424]"
     ]
    },
    {
     "name": "stdout",
     "output_type": "stream",
     "text": [
      "!!!!!! len(self.indices) 47104\n",
      "!!!!!! len(self.indices) 47104\n"
     ]
    },
    {
     "name": "stderr",
     "output_type": "stream",
     "text": []
    },
    {
     "name": "stdout",
     "output_type": "stream",
     "text": [
      "!!!!!! len(self.indices) 47104\n",
      "!!!!!! len(self.indices) 47104\n"
     ]
    },
    {
     "name": "stderr",
     "output_type": "stream",
     "text": [
      "Epoch:  33%|███▎      | 33/100 [12:26<29:07, 26.08s/it, loss=0.0437]"
     ]
    },
    {
     "name": "stdout",
     "output_type": "stream",
     "text": [
      "!!!!!! len(self.indices) 47104\n",
      "!!!!!! len(self.indices) 47104\n"
     ]
    },
    {
     "name": "stderr",
     "output_type": "stream",
     "text": []
    },
    {
     "name": "stdout",
     "output_type": "stream",
     "text": [
      "!!!!!! len(self.indices) 47104\n",
      "!!!!!! len(self.indices) 47104\n"
     ]
    },
    {
     "name": "stderr",
     "output_type": "stream",
     "text": [
      "Epoch:  34%|███▍      | 34/100 [12:52<28:53, 26.27s/it, loss=0.0429]"
     ]
    },
    {
     "name": "stdout",
     "output_type": "stream",
     "text": [
      "!!!!!! len(self.indices) 47104\n",
      "!!!!!! len(self.indices) 47104\n"
     ]
    },
    {
     "name": "stderr",
     "output_type": "stream",
     "text": []
    },
    {
     "name": "stdout",
     "output_type": "stream",
     "text": [
      "!!!!!! len(self.indices) 47104\n",
      "!!!!!! len(self.indices) 47104\n"
     ]
    },
    {
     "name": "stderr",
     "output_type": "stream",
     "text": [
      "Epoch:  35%|███▌      | 35/100 [13:19<28:35, 26.40s/it, loss=0.0435]"
     ]
    },
    {
     "name": "stdout",
     "output_type": "stream",
     "text": [
      "!!!!!! len(self.indices) 47104\n",
      "!!!!!! len(self.indices) 47104\n"
     ]
    },
    {
     "name": "stderr",
     "output_type": "stream",
     "text": []
    },
    {
     "name": "stdout",
     "output_type": "stream",
     "text": [
      "!!!!!! len(self.indices) 47104\n",
      "!!!!!! len(self.indices) 47104\n"
     ]
    },
    {
     "name": "stderr",
     "output_type": "stream",
     "text": [
      "Epoch:  36%|███▌      | 36/100 [13:46<28:16, 26.50s/it, loss=0.0427]"
     ]
    },
    {
     "name": "stdout",
     "output_type": "stream",
     "text": [
      "!!!!!! len(self.indices) 47104\n",
      "!!!!!! len(self.indices) 47104\n"
     ]
    },
    {
     "name": "stderr",
     "output_type": "stream",
     "text": []
    },
    {
     "name": "stdout",
     "output_type": "stream",
     "text": [
      "!!!!!! len(self.indices) 47104\n",
      "!!!!!! len(self.indices) 47104\n"
     ]
    },
    {
     "name": "stderr",
     "output_type": "stream",
     "text": [
      "Epoch:  37%|███▋      | 37/100 [14:12<27:53, 26.57s/it, loss=0.0412]"
     ]
    },
    {
     "name": "stdout",
     "output_type": "stream",
     "text": [
      "!!!!!! len(self.indices) 47104\n",
      "!!!!!! len(self.indices) 47104\n"
     ]
    },
    {
     "name": "stderr",
     "output_type": "stream",
     "text": []
    },
    {
     "name": "stdout",
     "output_type": "stream",
     "text": [
      "!!!!!! len(self.indices) 47104\n",
      "!!!!!! len(self.indices) 47104\n"
     ]
    },
    {
     "name": "stderr",
     "output_type": "stream",
     "text": [
      "Epoch:  38%|███▊      | 38/100 [14:39<27:30, 26.62s/it, loss=0.0418]"
     ]
    },
    {
     "name": "stdout",
     "output_type": "stream",
     "text": [
      "!!!!!! len(self.indices) 47104\n",
      "!!!!!! len(self.indices) 47104\n"
     ]
    },
    {
     "name": "stderr",
     "output_type": "stream",
     "text": []
    },
    {
     "name": "stdout",
     "output_type": "stream",
     "text": [
      "!!!!!! len(self.indices) 47104\n",
      "!!!!!! len(self.indices) 47104\n"
     ]
    },
    {
     "name": "stderr",
     "output_type": "stream",
     "text": [
      "Epoch:  39%|███▉      | 39/100 [15:06<27:04, 26.64s/it, loss=0.0414]"
     ]
    },
    {
     "name": "stdout",
     "output_type": "stream",
     "text": [
      "!!!!!! len(self.indices) 47104\n",
      "!!!!!! len(self.indices) 47104\n"
     ]
    },
    {
     "name": "stderr",
     "output_type": "stream",
     "text": []
    },
    {
     "name": "stdout",
     "output_type": "stream",
     "text": [
      "!!!!!! len(self.indices) 47104\n",
      "!!!!!! len(self.indices) 47104\n"
     ]
    },
    {
     "name": "stderr",
     "output_type": "stream",
     "text": [
      "Epoch:  39%|███▉      | 39/100 [15:33<27:04, 26.64s/it, loss=0.0416]"
     ]
    },
    {
     "name": "stdout",
     "output_type": "stream",
     "text": [
      "!!!!!! len(self.indices) 47104\n"
     ]
    },
    {
     "name": "stderr",
     "output_type": "stream",
     "text": [
      "Epoch:  40%|████      | 40/100 [15:33<26:42, 26.72s/it, loss=0.0416]"
     ]
    },
    {
     "name": "stdout",
     "output_type": "stream",
     "text": [
      "!!!!!! len(self.indices) 47104\n"
     ]
    },
    {
     "name": "stderr",
     "output_type": "stream",
     "text": []
    },
    {
     "name": "stdout",
     "output_type": "stream",
     "text": [
      "!!!!!! len(self.indices) 47104\n",
      "!!!!!! len(self.indices) 47104\n"
     ]
    },
    {
     "name": "stderr",
     "output_type": "stream",
     "text": [
      "Epoch:  41%|████      | 41/100 [15:59<26:14, 26.69s/it, loss=0.0409]"
     ]
    },
    {
     "name": "stdout",
     "output_type": "stream",
     "text": [
      "!!!!!! len(self.indices) 47104\n",
      "!!!!!! len(self.indices) 47104\n"
     ]
    },
    {
     "name": "stderr",
     "output_type": "stream",
     "text": []
    },
    {
     "name": "stdout",
     "output_type": "stream",
     "text": [
      "!!!!!! len(self.indices) 47104\n",
      "!!!!!! len(self.indices) 47104\n"
     ]
    },
    {
     "name": "stderr",
     "output_type": "stream",
     "text": [
      "Epoch:  42%|████▏     | 42/100 [16:26<25:47, 26.69s/it, loss=0.0425]"
     ]
    },
    {
     "name": "stdout",
     "output_type": "stream",
     "text": [
      "!!!!!! len(self.indices) 47104\n",
      "!!!!!! len(self.indices) 47104\n"
     ]
    },
    {
     "name": "stderr",
     "output_type": "stream",
     "text": []
    },
    {
     "name": "stdout",
     "output_type": "stream",
     "text": [
      "!!!!!! len(self.indices) 47104\n",
      "!!!!!! len(self.indices) 47104\n"
     ]
    },
    {
     "name": "stderr",
     "output_type": "stream",
     "text": [
      "Epoch:  43%|████▎     | 43/100 [16:53<25:20, 26.68s/it, loss=0.0416]"
     ]
    },
    {
     "name": "stdout",
     "output_type": "stream",
     "text": [
      "!!!!!! len(self.indices) 47104\n",
      "!!!!!! len(self.indices) 47104\n"
     ]
    },
    {
     "name": "stderr",
     "output_type": "stream",
     "text": []
    },
    {
     "name": "stdout",
     "output_type": "stream",
     "text": [
      "!!!!!! len(self.indices) 47104\n",
      "!!!!!! len(self.indices) 47104\n"
     ]
    },
    {
     "name": "stderr",
     "output_type": "stream",
     "text": [
      "Epoch:  44%|████▍     | 44/100 [17:19<24:53, 26.67s/it, loss=0.0408]"
     ]
    },
    {
     "name": "stdout",
     "output_type": "stream",
     "text": [
      "!!!!!! len(self.indices) 47104\n",
      "!!!!!! len(self.indices) 47104\n"
     ]
    },
    {
     "name": "stderr",
     "output_type": "stream",
     "text": []
    },
    {
     "name": "stdout",
     "output_type": "stream",
     "text": [
      "!!!!!! len(self.indices) 47104\n",
      "!!!!!! len(self.indices) 47104\n"
     ]
    },
    {
     "name": "stderr",
     "output_type": "stream",
     "text": [
      "Epoch:  45%|████▌     | 45/100 [17:46<24:26, 26.67s/it, loss=0.0409]"
     ]
    },
    {
     "name": "stdout",
     "output_type": "stream",
     "text": [
      "!!!!!! len(self.indices) 47104\n",
      "!!!!!! len(self.indices) 47104\n"
     ]
    },
    {
     "name": "stderr",
     "output_type": "stream",
     "text": []
    },
    {
     "name": "stdout",
     "output_type": "stream",
     "text": [
      "!!!!!! len(self.indices) 47104\n",
      "!!!!!! len(self.indices) 47104\n"
     ]
    },
    {
     "name": "stderr",
     "output_type": "stream",
     "text": [
      "Epoch:  46%|████▌     | 46/100 [18:13<23:59, 26.66s/it, loss=0.0413]"
     ]
    },
    {
     "name": "stdout",
     "output_type": "stream",
     "text": [
      "!!!!!! len(self.indices) 47104\n",
      "!!!!!! len(self.indices) 47104\n"
     ]
    },
    {
     "name": "stderr",
     "output_type": "stream",
     "text": []
    },
    {
     "name": "stdout",
     "output_type": "stream",
     "text": [
      "!!!!!! len(self.indices) 47104\n",
      "!!!!!! len(self.indices) 47104\n"
     ]
    },
    {
     "name": "stderr",
     "output_type": "stream",
     "text": [
      "Epoch:  47%|████▋     | 47/100 [18:39<23:33, 26.66s/it, loss=0.0397]"
     ]
    },
    {
     "name": "stdout",
     "output_type": "stream",
     "text": [
      "!!!!!! len(self.indices) 47104\n",
      "!!!!!! len(self.indices) 47104\n"
     ]
    },
    {
     "name": "stderr",
     "output_type": "stream",
     "text": []
    },
    {
     "name": "stdout",
     "output_type": "stream",
     "text": [
      "!!!!!! len(self.indices) 47104\n",
      "!!!!!! len(self.indices) 47104\n"
     ]
    },
    {
     "name": "stderr",
     "output_type": "stream",
     "text": [
      "Epoch:  48%|████▊     | 48/100 [19:06<23:06, 26.67s/it, loss=0.0397]"
     ]
    },
    {
     "name": "stdout",
     "output_type": "stream",
     "text": [
      "!!!!!! len(self.indices) 47104\n",
      "!!!!!! len(self.indices) 47104\n"
     ]
    },
    {
     "name": "stderr",
     "output_type": "stream",
     "text": []
    },
    {
     "name": "stdout",
     "output_type": "stream",
     "text": [
      "!!!!!! len(self.indices) 47104\n",
      "!!!!!! len(self.indices) 47104\n"
     ]
    },
    {
     "name": "stderr",
     "output_type": "stream",
     "text": [
      "Epoch:  49%|████▉     | 49/100 [19:33<22:44, 26.75s/it, loss=0.0404]"
     ]
    },
    {
     "name": "stdout",
     "output_type": "stream",
     "text": [
      "!!!!!! len(self.indices) 47104\n",
      "!!!!!! len(self.indices) 47104\n"
     ]
    },
    {
     "name": "stderr",
     "output_type": "stream",
     "text": []
    },
    {
     "name": "stdout",
     "output_type": "stream",
     "text": [
      "!!!!!! len(self.indices) 47104\n",
      "!!!!!! len(self.indices) 47104\n"
     ]
    },
    {
     "name": "stderr",
     "output_type": "stream",
     "text": [
      "Epoch:  49%|████▉     | 49/100 [20:00<22:44, 26.75s/it, loss=0.0397]"
     ]
    },
    {
     "name": "stdout",
     "output_type": "stream",
     "text": [
      "!!!!!! len(self.indices) 47104\n"
     ]
    },
    {
     "name": "stderr",
     "output_type": "stream",
     "text": [
      "Epoch:  50%|█████     | 50/100 [20:00<22:24, 26.89s/it, loss=0.0397]"
     ]
    },
    {
     "name": "stdout",
     "output_type": "stream",
     "text": [
      "!!!!!! len(self.indices) 47104\n"
     ]
    },
    {
     "name": "stderr",
     "output_type": "stream",
     "text": []
    },
    {
     "name": "stdout",
     "output_type": "stream",
     "text": [
      "!!!!!! len(self.indices) 47104\n",
      "!!!!!! len(self.indices) 47104\n"
     ]
    },
    {
     "name": "stderr",
     "output_type": "stream",
     "text": [
      "Epoch:  51%|█████     | 51/100 [20:27<21:59, 26.93s/it, loss=0.04]  "
     ]
    },
    {
     "name": "stdout",
     "output_type": "stream",
     "text": [
      "!!!!!! len(self.indices) 47104\n",
      "!!!!!! len(self.indices) 47104\n"
     ]
    },
    {
     "name": "stderr",
     "output_type": "stream",
     "text": []
    },
    {
     "name": "stdout",
     "output_type": "stream",
     "text": [
      "!!!!!! len(self.indices) 47104\n",
      "!!!!!! len(self.indices) 47104\n"
     ]
    },
    {
     "name": "stderr",
     "output_type": "stream",
     "text": [
      "Epoch:  52%|█████▏    | 52/100 [20:54<21:34, 26.96s/it, loss=0.0395]"
     ]
    },
    {
     "name": "stdout",
     "output_type": "stream",
     "text": [
      "!!!!!! len(self.indices) 47104\n",
      "!!!!!! len(self.indices) 47104\n"
     ]
    },
    {
     "name": "stderr",
     "output_type": "stream",
     "text": []
    },
    {
     "name": "stdout",
     "output_type": "stream",
     "text": [
      "!!!!!! len(self.indices) 47104\n",
      "!!!!!! len(self.indices) 47104\n"
     ]
    },
    {
     "name": "stderr",
     "output_type": "stream",
     "text": [
      "Epoch:  53%|█████▎    | 53/100 [21:21<21:07, 26.97s/it, loss=0.0393]"
     ]
    },
    {
     "name": "stdout",
     "output_type": "stream",
     "text": [
      "!!!!!! len(self.indices) 47104\n",
      "!!!!!! len(self.indices) 47104\n"
     ]
    },
    {
     "name": "stderr",
     "output_type": "stream",
     "text": []
    },
    {
     "name": "stdout",
     "output_type": "stream",
     "text": [
      "!!!!!! len(self.indices) 47104\n",
      "!!!!!! len(self.indices) 47104\n"
     ]
    },
    {
     "name": "stderr",
     "output_type": "stream",
     "text": [
      "Epoch:  54%|█████▍    | 54/100 [21:48<20:40, 26.97s/it, loss=0.0393]"
     ]
    },
    {
     "name": "stdout",
     "output_type": "stream",
     "text": [
      "!!!!!! len(self.indices) 47104\n",
      "!!!!!! len(self.indices) 47104\n"
     ]
    },
    {
     "name": "stderr",
     "output_type": "stream",
     "text": []
    },
    {
     "name": "stdout",
     "output_type": "stream",
     "text": [
      "!!!!!! len(self.indices) 47104\n",
      "!!!!!! len(self.indices) 47104\n"
     ]
    },
    {
     "name": "stderr",
     "output_type": "stream",
     "text": [
      "Epoch:  55%|█████▌    | 55/100 [22:15<20:12, 26.95s/it, loss=0.0401]"
     ]
    },
    {
     "name": "stdout",
     "output_type": "stream",
     "text": [
      "!!!!!! len(self.indices) 47104\n",
      "!!!!!! len(self.indices) 47104\n"
     ]
    },
    {
     "name": "stderr",
     "output_type": "stream",
     "text": []
    },
    {
     "name": "stdout",
     "output_type": "stream",
     "text": [
      "!!!!!! len(self.indices) 47104\n",
      "!!!!!! len(self.indices) 47104\n"
     ]
    },
    {
     "name": "stderr",
     "output_type": "stream",
     "text": [
      "Epoch:  56%|█████▌    | 56/100 [22:42<19:46, 26.96s/it, loss=0.0382]"
     ]
    },
    {
     "name": "stdout",
     "output_type": "stream",
     "text": [
      "!!!!!! len(self.indices) 47104\n",
      "!!!!!! len(self.indices) 47104\n"
     ]
    },
    {
     "name": "stderr",
     "output_type": "stream",
     "text": []
    },
    {
     "name": "stdout",
     "output_type": "stream",
     "text": [
      "!!!!!! len(self.indices) 47104\n",
      "!!!!!! len(self.indices) 47104\n"
     ]
    },
    {
     "name": "stderr",
     "output_type": "stream",
     "text": [
      "Epoch:  57%|█████▋    | 57/100 [23:09<19:19, 26.97s/it, loss=0.0386]"
     ]
    },
    {
     "name": "stdout",
     "output_type": "stream",
     "text": [
      "!!!!!! len(self.indices) 47104\n",
      "!!!!!! len(self.indices) 47104\n"
     ]
    },
    {
     "name": "stderr",
     "output_type": "stream",
     "text": []
    },
    {
     "name": "stdout",
     "output_type": "stream",
     "text": [
      "!!!!!! len(self.indices) 47104\n",
      "!!!!!! len(self.indices) 47104\n"
     ]
    },
    {
     "name": "stderr",
     "output_type": "stream",
     "text": [
      "Epoch:  58%|█████▊    | 58/100 [23:36<18:53, 26.98s/it, loss=0.038] "
     ]
    },
    {
     "name": "stdout",
     "output_type": "stream",
     "text": [
      "!!!!!! len(self.indices) 47104\n",
      "!!!!!! len(self.indices) 47104\n"
     ]
    },
    {
     "name": "stderr",
     "output_type": "stream",
     "text": []
    },
    {
     "name": "stdout",
     "output_type": "stream",
     "text": [
      "!!!!!! len(self.indices) 47104\n",
      "!!!!!! len(self.indices) 47104\n"
     ]
    },
    {
     "name": "stderr",
     "output_type": "stream",
     "text": [
      "Epoch:  59%|█████▉    | 59/100 [24:03<18:30, 27.09s/it, loss=0.0386]"
     ]
    },
    {
     "name": "stdout",
     "output_type": "stream",
     "text": [
      "!!!!!! len(self.indices) 47104\n",
      "!!!!!! len(self.indices) 47104\n"
     ]
    },
    {
     "name": "stderr",
     "output_type": "stream",
     "text": []
    },
    {
     "name": "stdout",
     "output_type": "stream",
     "text": [
      "!!!!!! len(self.indices) 47104\n",
      "!!!!!! len(self.indices) 47104\n"
     ]
    },
    {
     "name": "stderr",
     "output_type": "stream",
     "text": [
      "Epoch:  59%|█████▉    | 59/100 [24:31<18:30, 27.09s/it, loss=0.0368]"
     ]
    },
    {
     "name": "stdout",
     "output_type": "stream",
     "text": [
      "!!!!!! len(self.indices) 47104\n"
     ]
    },
    {
     "name": "stderr",
     "output_type": "stream",
     "text": [
      "Epoch:  60%|██████    | 60/100 [24:31<18:07, 27.19s/it, loss=0.0368]"
     ]
    },
    {
     "name": "stdout",
     "output_type": "stream",
     "text": [
      "!!!!!! len(self.indices) 47104\n"
     ]
    },
    {
     "name": "stderr",
     "output_type": "stream",
     "text": []
    },
    {
     "name": "stdout",
     "output_type": "stream",
     "text": [
      "!!!!!! len(self.indices) 47104\n",
      "!!!!!! len(self.indices) 47104\n"
     ]
    },
    {
     "name": "stderr",
     "output_type": "stream",
     "text": [
      "Epoch:  61%|██████    | 61/100 [24:58<17:38, 27.15s/it, loss=0.0381]"
     ]
    },
    {
     "name": "stdout",
     "output_type": "stream",
     "text": [
      "!!!!!! len(self.indices) 47104\n",
      "!!!!!! len(self.indices) 47104\n"
     ]
    },
    {
     "name": "stderr",
     "output_type": "stream",
     "text": []
    },
    {
     "name": "stdout",
     "output_type": "stream",
     "text": [
      "!!!!!! len(self.indices) 47104\n",
      "!!!!!! len(self.indices) 47104\n"
     ]
    },
    {
     "name": "stderr",
     "output_type": "stream",
     "text": [
      "Epoch:  62%|██████▏   | 62/100 [25:25<17:10, 27.12s/it, loss=0.0384]"
     ]
    },
    {
     "name": "stdout",
     "output_type": "stream",
     "text": [
      "!!!!!! len(self.indices) 47104\n",
      "!!!!!! len(self.indices) 47104\n"
     ]
    },
    {
     "name": "stderr",
     "output_type": "stream",
     "text": []
    },
    {
     "name": "stdout",
     "output_type": "stream",
     "text": [
      "!!!!!! len(self.indices) 47104\n",
      "!!!!!! len(self.indices) 47104\n"
     ]
    },
    {
     "name": "stderr",
     "output_type": "stream",
     "text": [
      "Epoch:  63%|██████▎   | 63/100 [25:52<16:42, 27.09s/it, loss=0.0375]"
     ]
    },
    {
     "name": "stdout",
     "output_type": "stream",
     "text": [
      "!!!!!! len(self.indices) 47104\n",
      "!!!!!! len(self.indices) 47104\n"
     ]
    },
    {
     "name": "stderr",
     "output_type": "stream",
     "text": []
    },
    {
     "name": "stdout",
     "output_type": "stream",
     "text": [
      "!!!!!! len(self.indices) 47104\n",
      "!!!!!! len(self.indices) 47104\n"
     ]
    },
    {
     "name": "stderr",
     "output_type": "stream",
     "text": [
      "Epoch:  64%|██████▍   | 64/100 [26:19<16:14, 27.07s/it, loss=0.0369]"
     ]
    },
    {
     "name": "stdout",
     "output_type": "stream",
     "text": [
      "!!!!!! len(self.indices) 47104\n",
      "!!!!!! len(self.indices) 47104\n"
     ]
    },
    {
     "name": "stderr",
     "output_type": "stream",
     "text": []
    },
    {
     "name": "stdout",
     "output_type": "stream",
     "text": [
      "!!!!!! len(self.indices) 47104\n",
      "!!!!!! len(self.indices) 47104\n"
     ]
    },
    {
     "name": "stderr",
     "output_type": "stream",
     "text": [
      "Epoch:  65%|██████▌   | 65/100 [26:46<15:46, 27.05s/it, loss=0.0371]"
     ]
    },
    {
     "name": "stdout",
     "output_type": "stream",
     "text": [
      "!!!!!! len(self.indices) 47104\n",
      "!!!!!! len(self.indices) 47104\n"
     ]
    },
    {
     "name": "stderr",
     "output_type": "stream",
     "text": []
    },
    {
     "name": "stdout",
     "output_type": "stream",
     "text": [
      "!!!!!! len(self.indices) 47104\n",
      "!!!!!! len(self.indices) 47104\n"
     ]
    },
    {
     "name": "stderr",
     "output_type": "stream",
     "text": [
      "Epoch:  66%|██████▌   | 66/100 [27:13<15:19, 27.05s/it, loss=0.0373]"
     ]
    },
    {
     "name": "stdout",
     "output_type": "stream",
     "text": [
      "!!!!!! len(self.indices) 47104\n",
      "!!!!!! len(self.indices) 47104\n"
     ]
    },
    {
     "name": "stderr",
     "output_type": "stream",
     "text": []
    },
    {
     "name": "stdout",
     "output_type": "stream",
     "text": [
      "!!!!!! len(self.indices) 47104\n",
      "!!!!!! len(self.indices) 47104\n"
     ]
    },
    {
     "name": "stderr",
     "output_type": "stream",
     "text": [
      "Epoch:  67%|██████▋   | 67/100 [27:40<14:52, 27.03s/it, loss=0.0372]"
     ]
    },
    {
     "name": "stdout",
     "output_type": "stream",
     "text": [
      "!!!!!! len(self.indices) 47104\n",
      "!!!!!! len(self.indices) 47104\n"
     ]
    },
    {
     "name": "stderr",
     "output_type": "stream",
     "text": []
    },
    {
     "name": "stdout",
     "output_type": "stream",
     "text": [
      "!!!!!! len(self.indices) 47104\n",
      "!!!!!! len(self.indices) 47104\n"
     ]
    },
    {
     "name": "stderr",
     "output_type": "stream",
     "text": [
      "Epoch:  68%|██████▊   | 68/100 [28:07<14:24, 27.02s/it, loss=0.0373]"
     ]
    },
    {
     "name": "stdout",
     "output_type": "stream",
     "text": [
      "!!!!!! len(self.indices) 47104\n",
      "!!!!!! len(self.indices) 47104\n"
     ]
    },
    {
     "name": "stderr",
     "output_type": "stream",
     "text": []
    },
    {
     "name": "stdout",
     "output_type": "stream",
     "text": [
      "!!!!!! len(self.indices) 47104\n",
      "!!!!!! len(self.indices) 47104\n"
     ]
    },
    {
     "name": "stderr",
     "output_type": "stream",
     "text": [
      "Epoch:  69%|██████▉   | 69/100 [28:34<13:58, 27.04s/it, loss=0.0361]"
     ]
    },
    {
     "name": "stdout",
     "output_type": "stream",
     "text": [
      "!!!!!! len(self.indices) 47104\n",
      "!!!!!! len(self.indices) 47104\n"
     ]
    },
    {
     "name": "stderr",
     "output_type": "stream",
     "text": []
    },
    {
     "name": "stdout",
     "output_type": "stream",
     "text": [
      "!!!!!! len(self.indices) 47104\n",
      "!!!!!! len(self.indices) 47104\n"
     ]
    },
    {
     "name": "stderr",
     "output_type": "stream",
     "text": [
      "Epoch:  69%|██████▉   | 69/100 [29:01<13:58, 27.04s/it, loss=0.0359]"
     ]
    },
    {
     "name": "stdout",
     "output_type": "stream",
     "text": [
      "!!!!!! len(self.indices) 47104\n"
     ]
    },
    {
     "name": "stderr",
     "output_type": "stream",
     "text": [
      "Epoch:  70%|███████   | 70/100 [29:01<13:33, 27.12s/it, loss=0.0359]"
     ]
    },
    {
     "name": "stdout",
     "output_type": "stream",
     "text": [
      "!!!!!! len(self.indices) 47104\n"
     ]
    },
    {
     "name": "stderr",
     "output_type": "stream",
     "text": []
    },
    {
     "name": "stdout",
     "output_type": "stream",
     "text": [
      "!!!!!! len(self.indices) 47104\n",
      "!!!!!! len(self.indices) 47104\n"
     ]
    },
    {
     "name": "stderr",
     "output_type": "stream",
     "text": [
      "Epoch:  71%|███████   | 71/100 [29:28<13:05, 27.08s/it, loss=0.0362]"
     ]
    },
    {
     "name": "stdout",
     "output_type": "stream",
     "text": [
      "!!!!!! len(self.indices) 47104\n",
      "!!!!!! len(self.indices) 47104\n"
     ]
    },
    {
     "name": "stderr",
     "output_type": "stream",
     "text": []
    },
    {
     "name": "stdout",
     "output_type": "stream",
     "text": [
      "!!!!!! len(self.indices) 47104\n",
      "!!!!!! len(self.indices) 47104\n"
     ]
    },
    {
     "name": "stderr",
     "output_type": "stream",
     "text": [
      "Epoch:  72%|███████▏  | 72/100 [29:56<12:38, 27.09s/it, loss=0.036] "
     ]
    },
    {
     "name": "stdout",
     "output_type": "stream",
     "text": [
      "!!!!!! len(self.indices) 47104\n",
      "!!!!!! len(self.indices) 47104\n"
     ]
    },
    {
     "name": "stderr",
     "output_type": "stream",
     "text": []
    },
    {
     "name": "stdout",
     "output_type": "stream",
     "text": [
      "!!!!!! len(self.indices) 47104\n",
      "!!!!!! len(self.indices) 47104\n"
     ]
    },
    {
     "name": "stderr",
     "output_type": "stream",
     "text": [
      "Epoch:  73%|███████▎  | 73/100 [30:23<12:12, 27.12s/it, loss=0.0359]"
     ]
    },
    {
     "name": "stdout",
     "output_type": "stream",
     "text": [
      "!!!!!! len(self.indices) 47104\n",
      "!!!!!! len(self.indices) 47104\n"
     ]
    },
    {
     "name": "stderr",
     "output_type": "stream",
     "text": []
    },
    {
     "name": "stdout",
     "output_type": "stream",
     "text": [
      "!!!!!! len(self.indices) 47104\n",
      "!!!!!! len(self.indices) 47104\n"
     ]
    },
    {
     "name": "stderr",
     "output_type": "stream",
     "text": [
      "Epoch:  74%|███████▍  | 74/100 [30:50<11:45, 27.12s/it, loss=0.0357]"
     ]
    },
    {
     "name": "stdout",
     "output_type": "stream",
     "text": [
      "!!!!!! len(self.indices) 47104\n",
      "!!!!!! len(self.indices) 47104\n"
     ]
    },
    {
     "name": "stderr",
     "output_type": "stream",
     "text": []
    },
    {
     "name": "stdout",
     "output_type": "stream",
     "text": [
      "!!!!!! len(self.indices) 47104\n",
      "!!!!!! len(self.indices) 47104\n"
     ]
    },
    {
     "name": "stderr",
     "output_type": "stream",
     "text": [
      "Epoch:  75%|███████▌  | 75/100 [31:17<11:17, 27.09s/it, loss=0.0359]"
     ]
    },
    {
     "name": "stdout",
     "output_type": "stream",
     "text": [
      "!!!!!! len(self.indices) 47104\n",
      "!!!!!! len(self.indices) 47104\n"
     ]
    },
    {
     "name": "stderr",
     "output_type": "stream",
     "text": []
    },
    {
     "name": "stdout",
     "output_type": "stream",
     "text": [
      "!!!!!! len(self.indices) 47104\n",
      "!!!!!! len(self.indices) 47104\n"
     ]
    },
    {
     "name": "stderr",
     "output_type": "stream",
     "text": [
      "Epoch:  76%|███████▌  | 76/100 [31:44<10:49, 27.07s/it, loss=0.035] "
     ]
    },
    {
     "name": "stdout",
     "output_type": "stream",
     "text": [
      "!!!!!! len(self.indices) 47104\n",
      "!!!!!! len(self.indices) 47104\n"
     ]
    },
    {
     "name": "stderr",
     "output_type": "stream",
     "text": []
    },
    {
     "name": "stdout",
     "output_type": "stream",
     "text": [
      "!!!!!! len(self.indices) 47104\n",
      "!!!!!! len(self.indices) 47104\n"
     ]
    },
    {
     "name": "stderr",
     "output_type": "stream",
     "text": [
      "Epoch:  77%|███████▋  | 77/100 [32:11<10:23, 27.12s/it, loss=0.0351]"
     ]
    },
    {
     "name": "stdout",
     "output_type": "stream",
     "text": [
      "!!!!!! len(self.indices) 47104\n",
      "!!!!!! len(self.indices) 47104\n"
     ]
    },
    {
     "name": "stderr",
     "output_type": "stream",
     "text": []
    },
    {
     "name": "stdout",
     "output_type": "stream",
     "text": [
      "!!!!!! len(self.indices) 47104\n",
      "!!!!!! len(self.indices) 47104\n"
     ]
    },
    {
     "name": "stderr",
     "output_type": "stream",
     "text": [
      "Epoch:  78%|███████▊  | 78/100 [32:38<09:57, 27.14s/it, loss=0.0348]"
     ]
    },
    {
     "name": "stdout",
     "output_type": "stream",
     "text": [
      "!!!!!! len(self.indices) 47104\n",
      "!!!!!! len(self.indices) 47104\n"
     ]
    },
    {
     "name": "stderr",
     "output_type": "stream",
     "text": []
    },
    {
     "name": "stdout",
     "output_type": "stream",
     "text": [
      "!!!!!! len(self.indices) 47104\n",
      "!!!!!! len(self.indices) 47104\n"
     ]
    },
    {
     "name": "stderr",
     "output_type": "stream",
     "text": [
      "Epoch:  79%|███████▉  | 79/100 [33:06<09:31, 27.23s/it, loss=0.0353]"
     ]
    },
    {
     "name": "stdout",
     "output_type": "stream",
     "text": [
      "!!!!!! len(self.indices) 47104\n",
      "!!!!!! len(self.indices) 47104\n"
     ]
    },
    {
     "name": "stderr",
     "output_type": "stream",
     "text": []
    },
    {
     "name": "stdout",
     "output_type": "stream",
     "text": [
      "!!!!!! len(self.indices) 47104\n",
      "!!!!!! len(self.indices) 47104\n"
     ]
    },
    {
     "name": "stderr",
     "output_type": "stream",
     "text": [
      "Epoch:  79%|███████▉  | 79/100 [33:33<09:31, 27.23s/it, loss=0.0354]"
     ]
    },
    {
     "name": "stdout",
     "output_type": "stream",
     "text": [
      "!!!!!! len(self.indices) 47104\n"
     ]
    },
    {
     "name": "stderr",
     "output_type": "stream",
     "text": [
      "Epoch:  80%|████████  | 80/100 [33:33<09:05, 27.30s/it, loss=0.0354]"
     ]
    },
    {
     "name": "stdout",
     "output_type": "stream",
     "text": [
      "!!!!!! len(self.indices) 47104\n"
     ]
    },
    {
     "name": "stderr",
     "output_type": "stream",
     "text": []
    },
    {
     "name": "stdout",
     "output_type": "stream",
     "text": [
      "!!!!!! len(self.indices) 47104\n",
      "!!!!!! len(self.indices) 47104\n"
     ]
    },
    {
     "name": "stderr",
     "output_type": "stream",
     "text": [
      "Epoch:  81%|████████  | 81/100 [34:00<08:37, 27.25s/it, loss=0.0351]"
     ]
    },
    {
     "name": "stdout",
     "output_type": "stream",
     "text": [
      "!!!!!! len(self.indices) 47104\n",
      "!!!!!! len(self.indices) 47104\n"
     ]
    },
    {
     "name": "stderr",
     "output_type": "stream",
     "text": []
    },
    {
     "name": "stdout",
     "output_type": "stream",
     "text": [
      "!!!!!! len(self.indices) 47104\n",
      "!!!!!! len(self.indices) 47104\n"
     ]
    },
    {
     "name": "stderr",
     "output_type": "stream",
     "text": [
      "Epoch:  82%|████████▏ | 82/100 [34:28<08:10, 27.28s/it, loss=0.0345]"
     ]
    },
    {
     "name": "stdout",
     "output_type": "stream",
     "text": [
      "!!!!!! len(self.indices) 47104\n",
      "!!!!!! len(self.indices) 47104\n"
     ]
    },
    {
     "name": "stderr",
     "output_type": "stream",
     "text": []
    },
    {
     "name": "stdout",
     "output_type": "stream",
     "text": [
      "!!!!!! len(self.indices) 47104\n",
      "!!!!!! len(self.indices) 47104\n"
     ]
    },
    {
     "name": "stderr",
     "output_type": "stream",
     "text": [
      "Epoch:  83%|████████▎ | 83/100 [34:55<07:43, 27.25s/it, loss=0.0338]"
     ]
    },
    {
     "name": "stdout",
     "output_type": "stream",
     "text": [
      "!!!!!! len(self.indices) 47104\n",
      "!!!!!! len(self.indices) 47104\n"
     ]
    },
    {
     "name": "stderr",
     "output_type": "stream",
     "text": []
    },
    {
     "name": "stdout",
     "output_type": "stream",
     "text": [
      "!!!!!! len(self.indices) 47104\n",
      "!!!!!! len(self.indices) 47104\n"
     ]
    },
    {
     "name": "stderr",
     "output_type": "stream",
     "text": [
      "Epoch:  84%|████████▍ | 84/100 [35:22<07:15, 27.21s/it, loss=0.0343]"
     ]
    },
    {
     "name": "stdout",
     "output_type": "stream",
     "text": [
      "!!!!!! len(self.indices) 47104\n",
      "!!!!!! len(self.indices) 47104\n"
     ]
    },
    {
     "name": "stderr",
     "output_type": "stream",
     "text": []
    },
    {
     "name": "stdout",
     "output_type": "stream",
     "text": [
      "!!!!!! len(self.indices) 47104\n",
      "!!!!!! len(self.indices) 47104\n"
     ]
    },
    {
     "name": "stderr",
     "output_type": "stream",
     "text": [
      "Epoch:  85%|████████▌ | 85/100 [35:49<06:47, 27.20s/it, loss=0.035] "
     ]
    },
    {
     "name": "stdout",
     "output_type": "stream",
     "text": [
      "!!!!!! len(self.indices) 47104\n",
      "!!!!!! len(self.indices) 47104\n"
     ]
    },
    {
     "name": "stderr",
     "output_type": "stream",
     "text": []
    },
    {
     "name": "stdout",
     "output_type": "stream",
     "text": [
      "!!!!!! len(self.indices) 47104\n",
      "!!!!!! len(self.indices) 47104\n"
     ]
    },
    {
     "name": "stderr",
     "output_type": "stream",
     "text": [
      "Epoch:  86%|████████▌ | 86/100 [36:16<06:20, 27.17s/it, loss=0.0337]"
     ]
    },
    {
     "name": "stdout",
     "output_type": "stream",
     "text": [
      "!!!!!! len(self.indices) 47104\n",
      "!!!!!! len(self.indices) 47104\n"
     ]
    },
    {
     "name": "stderr",
     "output_type": "stream",
     "text": []
    },
    {
     "name": "stdout",
     "output_type": "stream",
     "text": [
      "!!!!!! len(self.indices) 47104\n",
      "!!!!!! len(self.indices) 47104\n"
     ]
    },
    {
     "name": "stderr",
     "output_type": "stream",
     "text": [
      "Epoch:  87%|████████▋ | 87/100 [36:43<05:52, 27.15s/it, loss=0.0342]"
     ]
    },
    {
     "name": "stdout",
     "output_type": "stream",
     "text": [
      "!!!!!! len(self.indices) 47104\n",
      "!!!!!! len(self.indices) 47104\n"
     ]
    },
    {
     "name": "stderr",
     "output_type": "stream",
     "text": []
    },
    {
     "name": "stdout",
     "output_type": "stream",
     "text": [
      "!!!!!! len(self.indices) 47104\n",
      "!!!!!! len(self.indices) 47104\n"
     ]
    },
    {
     "name": "stderr",
     "output_type": "stream",
     "text": [
      "Epoch:  88%|████████▊ | 88/100 [37:10<05:25, 27.12s/it, loss=0.0347]"
     ]
    },
    {
     "name": "stdout",
     "output_type": "stream",
     "text": [
      "!!!!!! len(self.indices) 47104\n",
      "!!!!!! len(self.indices) 47104\n"
     ]
    },
    {
     "name": "stderr",
     "output_type": "stream",
     "text": []
    },
    {
     "name": "stdout",
     "output_type": "stream",
     "text": [
      "!!!!!! len(self.indices) 47104\n",
      "!!!!!! len(self.indices) 47104\n"
     ]
    },
    {
     "name": "stderr",
     "output_type": "stream",
     "text": [
      "Epoch:  89%|████████▉ | 89/100 [37:37<04:58, 27.09s/it, loss=0.0327]"
     ]
    },
    {
     "name": "stdout",
     "output_type": "stream",
     "text": [
      "!!!!!! len(self.indices) 47104\n",
      "!!!!!! len(self.indices) 47104\n"
     ]
    },
    {
     "name": "stderr",
     "output_type": "stream",
     "text": []
    },
    {
     "name": "stdout",
     "output_type": "stream",
     "text": [
      "!!!!!! len(self.indices) 47104\n",
      "!!!!!! len(self.indices) 47104\n"
     ]
    },
    {
     "name": "stderr",
     "output_type": "stream",
     "text": [
      "Epoch:  89%|████████▉ | 89/100 [38:04<04:58, 27.09s/it, loss=0.0338]"
     ]
    },
    {
     "name": "stdout",
     "output_type": "stream",
     "text": [
      "!!!!!! len(self.indices) 47104\n"
     ]
    },
    {
     "name": "stderr",
     "output_type": "stream",
     "text": [
      "Epoch:  90%|█████████ | 90/100 [38:05<04:31, 27.14s/it, loss=0.0338]"
     ]
    },
    {
     "name": "stdout",
     "output_type": "stream",
     "text": [
      "!!!!!! len(self.indices) 47104\n"
     ]
    },
    {
     "name": "stderr",
     "output_type": "stream",
     "text": []
    },
    {
     "name": "stdout",
     "output_type": "stream",
     "text": [
      "!!!!!! len(self.indices) 47104\n",
      "!!!!!! len(self.indices) 47104\n"
     ]
    },
    {
     "name": "stderr",
     "output_type": "stream",
     "text": [
      "Epoch:  91%|█████████ | 91/100 [38:32<04:03, 27.10s/it, loss=0.0346]"
     ]
    },
    {
     "name": "stdout",
     "output_type": "stream",
     "text": [
      "!!!!!! len(self.indices) 47104\n",
      "!!!!!! len(self.indices) 47104\n"
     ]
    },
    {
     "name": "stderr",
     "output_type": "stream",
     "text": []
    },
    {
     "name": "stdout",
     "output_type": "stream",
     "text": [
      "!!!!!! len(self.indices) 47104\n",
      "!!!!!! len(self.indices) 47104\n"
     ]
    },
    {
     "name": "stderr",
     "output_type": "stream",
     "text": [
      "Epoch:  92%|█████████▏| 92/100 [38:59<03:36, 27.09s/it, loss=0.0342]"
     ]
    },
    {
     "name": "stdout",
     "output_type": "stream",
     "text": [
      "!!!!!! len(self.indices) 47104\n",
      "!!!!!! len(self.indices) 47104\n"
     ]
    },
    {
     "name": "stderr",
     "output_type": "stream",
     "text": []
    },
    {
     "name": "stdout",
     "output_type": "stream",
     "text": [
      "!!!!!! len(self.indices) 47104\n",
      "!!!!!! len(self.indices) 47104\n"
     ]
    },
    {
     "name": "stderr",
     "output_type": "stream",
     "text": [
      "Epoch:  93%|█████████▎| 93/100 [39:26<03:09, 27.11s/it, loss=0.0341]"
     ]
    },
    {
     "name": "stdout",
     "output_type": "stream",
     "text": [
      "!!!!!! len(self.indices) 47104\n",
      "!!!!!! len(self.indices) 47104\n"
     ]
    },
    {
     "name": "stderr",
     "output_type": "stream",
     "text": []
    },
    {
     "name": "stdout",
     "output_type": "stream",
     "text": [
      "!!!!!! len(self.indices) 47104\n",
      "!!!!!! len(self.indices) 47104\n"
     ]
    },
    {
     "name": "stderr",
     "output_type": "stream",
     "text": [
      "Epoch:  94%|█████████▍| 94/100 [39:53<02:42, 27.10s/it, loss=0.0335]"
     ]
    },
    {
     "name": "stdout",
     "output_type": "stream",
     "text": [
      "!!!!!! len(self.indices) 47104\n",
      "!!!!!! len(self.indices) 47104\n"
     ]
    },
    {
     "name": "stderr",
     "output_type": "stream",
     "text": []
    },
    {
     "name": "stdout",
     "output_type": "stream",
     "text": [
      "!!!!!! len(self.indices) 47104\n",
      "!!!!!! len(self.indices) 47104\n"
     ]
    },
    {
     "name": "stderr",
     "output_type": "stream",
     "text": [
      "Epoch:  95%|█████████▌| 95/100 [40:20<02:15, 27.10s/it, loss=0.0338]"
     ]
    },
    {
     "name": "stdout",
     "output_type": "stream",
     "text": [
      "!!!!!! len(self.indices) 47104\n",
      "!!!!!! len(self.indices) 47104\n"
     ]
    },
    {
     "name": "stderr",
     "output_type": "stream",
     "text": []
    },
    {
     "name": "stdout",
     "output_type": "stream",
     "text": [
      "!!!!!! len(self.indices) 47104\n",
      "!!!!!! len(self.indices) 47104\n"
     ]
    },
    {
     "name": "stderr",
     "output_type": "stream",
     "text": [
      "Epoch:  96%|█████████▌| 96/100 [40:47<01:48, 27.09s/it, loss=0.0336]"
     ]
    },
    {
     "name": "stdout",
     "output_type": "stream",
     "text": [
      "!!!!!! len(self.indices) 47104\n",
      "!!!!!! len(self.indices) 47104\n"
     ]
    },
    {
     "name": "stderr",
     "output_type": "stream",
     "text": []
    },
    {
     "name": "stdout",
     "output_type": "stream",
     "text": [
      "!!!!!! len(self.indices) 47104\n",
      "!!!!!! len(self.indices) 47104\n"
     ]
    },
    {
     "name": "stderr",
     "output_type": "stream",
     "text": [
      "Epoch:  97%|█████████▋| 97/100 [41:14<01:21, 27.08s/it, loss=0.034] "
     ]
    },
    {
     "name": "stdout",
     "output_type": "stream",
     "text": [
      "!!!!!! len(self.indices) 47104\n",
      "!!!!!! len(self.indices) 47104\n"
     ]
    },
    {
     "name": "stderr",
     "output_type": "stream",
     "text": []
    },
    {
     "name": "stdout",
     "output_type": "stream",
     "text": [
      "!!!!!! len(self.indices) 47104\n",
      "!!!!!! len(self.indices) 47104\n"
     ]
    },
    {
     "name": "stderr",
     "output_type": "stream",
     "text": [
      "Epoch:  98%|█████████▊| 98/100 [41:41<00:54, 27.07s/it, loss=0.0332]"
     ]
    },
    {
     "name": "stdout",
     "output_type": "stream",
     "text": [
      "!!!!!! len(self.indices) 47104\n",
      "!!!!!! len(self.indices) 47104\n"
     ]
    },
    {
     "name": "stderr",
     "output_type": "stream",
     "text": []
    },
    {
     "name": "stdout",
     "output_type": "stream",
     "text": [
      "!!!!!! len(self.indices) 47104\n",
      "!!!!!! len(self.indices) 47104\n"
     ]
    },
    {
     "name": "stderr",
     "output_type": "stream",
     "text": [
      "Epoch:  99%|█████████▉| 99/100 [42:08<00:27, 27.05s/it, loss=0.0336]"
     ]
    },
    {
     "name": "stdout",
     "output_type": "stream",
     "text": [
      "!!!!!! len(self.indices) 47104\n",
      "!!!!!! len(self.indices) 47104\n"
     ]
    },
    {
     "name": "stderr",
     "output_type": "stream",
     "text": []
    },
    {
     "name": "stdout",
     "output_type": "stream",
     "text": [
      "!!!!!! len(self.indices) 47104\n",
      "!!!!!! len(self.indices) 47104\n"
     ]
    },
    {
     "name": "stderr",
     "output_type": "stream",
     "text": [
      "Epoch:  99%|█████████▉| 99/100 [42:35<00:27, 27.05s/it, loss=0.0341]"
     ]
    },
    {
     "name": "stdout",
     "output_type": "stream",
     "text": [
      "!!!!!! len(self.indices) 47104\n"
     ]
    },
    {
     "name": "stderr",
     "output_type": "stream",
     "text": [
      "Epoch: 100%|██████████| 100/100 [42:36<00:00, 25.56s/it, loss=0.0341]\n"
     ]
    }
   ],
   "source": [
    "num_epochs = 100\n",
    "trainer.train(num_epochs, save_ckpt_epoch=10)\n",
    "trainer.save_checkpoint(f\"ckpt_final_{num_epochs}_epochs.ckpt\")"
   ]
  },
  {
   "cell_type": "markdown",
   "id": "4167d958-0151-42a7-a409-601f5b0fdd2e",
   "metadata": {},
   "source": [
    "## Trainnig data visualization\n",
    "The training data was generated using a MPPI-CBF controller from [shaoanlu/mppi_cbf](https://github.com/shaoanlu/mppi_cbf) repository. "
   ]
  },
  {
   "cell_type": "code",
   "execution_count": 10,
   "id": "a150bb84-9207-4401-8109-d9c3237d510e",
   "metadata": {},
   "outputs": [],
   "source": [
    "import joblib\n",
    "import numpy as np\n",
    "from matplotlib import pyplot as plt"
   ]
  },
  {
   "cell_type": "code",
   "execution_count": 13,
   "id": "508399e3-c375-481e-91f7-b60195993311",
   "metadata": {},
   "outputs": [
    {
     "data": {
      "image/png": "[encoded data removed]",
      "text/plain": [
       "<Figure size 2000x1600 with 20 Axes>"
      ]
     },
     "metadata": {},
     "output_type": "display_data"
    }
   ],
   "source": [
    "from dataset.escape_from_u_generator import plot_multiple\n",
    "trn_data = joblib.load(\"../dataset_escape_from_u_2d_30000_envs.joblib\")\n",
    "num_envs = 20\n",
    "sol_path_list = []\n",
    "cost_list = []\n",
    "centers_list = []\n",
    "rads_list = []\n",
    "for env_idx in range(num_envs):\n",
    "    sol_path_list.append(trn_data[\"paths\"][env_idx])\n",
    "    cost_list.append(trn_data[\"costs\"][env_idx])\n",
    "    centers_list.append(trn_data[\"ellipse_centers\"][env_idx])\n",
    "    rads_list.append(trn_data[\"ellipse_radii\"][env_idx])\n",
    "\n",
    "plot_multiple(sol_path_list, cost_list, centers_list, rads_list)"
   ]
  },
  {
   "cell_type": "code",
   "execution_count": 26,
   "id": "25f3e722",
   "metadata": {},
   "outputs": [
    {
     "name": "stdout",
     "output_type": "stream",
     "text": [
      "costs: 6\n",
      "paths: 6\n",
      "object_starts: 6\n",
      "ellipse_centers: 6\n",
      "ellipse_radii: 6\n",
      "costs <class 'numpy.ndarray'>\n",
      "costs [0.         0.00032877 0.         0.         0.         0.03209365]\n",
      "paths [[[0.45580925 0.68537036]\n",
      "  [0.41834608 0.62996103]\n",
      "  [0.40587738 0.67183557]\n",
      "  [0.45284282 0.61964025]\n",
      "  [0.486888   0.60014907]\n",
      "  [0.54439431 0.65190197]\n",
      "  [0.60222496 0.67146199]\n",
      "  [0.63987722 0.61895391]\n",
      "  [0.65420421 0.6106548 ]\n",
      "  [0.67334748 0.55435731]\n",
      "  [0.70662757 0.58796657]\n",
      "  [0.7679419  0.60811095]\n",
      "  [0.74965366 0.65252623]\n",
      "  [0.77285868 0.61885425]\n",
      "  [0.7803659  0.598214  ]\n",
      "  [0.7633884  0.55428415]\n",
      "  [0.77043103 0.52532142]\n",
      "  [0.79925971 0.49306505]\n",
      "  [0.79429885 0.43389678]\n",
      "  [0.75424768 0.43540488]]\n",
      "\n",
      " [[0.61691686 0.59070396]\n",
      "  [0.62100338 0.53397404]\n",
      "  [0.58773767 0.50142582]\n",
      "  [0.6541713  0.52666671]\n",
      "  [0.71135764 0.54752603]\n",
      "  [0.69974045 0.5578557 ]\n",
      "  [0.73802118 0.50268235]\n",
      "  [0.71164017 0.46677389]\n",
      "  [0.76657945 0.49902675]\n",
      "  [0.73207873 0.44544288]\n",
      "  [0.70091109 0.46776482]\n",
      "  [0.76169806 0.491052  ]\n",
      "  [0.77835577 0.55862682]\n",
      "  [0.8341698  0.58048522]\n",
      "  [0.89654753 0.59174007]\n",
      "  [0.93884374 0.58642823]\n",
      "  [0.99483345 0.57591434]\n",
      "  [0.97631051 0.52363434]\n",
      "  [0.97209392 0.49182479]\n",
      "  [0.97472031 0.42719274]]\n",
      "\n",
      " [[0.24572738 0.73466051]\n",
      "  [0.27390619 0.72624657]\n",
      "  [0.30444235 0.72100474]\n",
      "  [0.31651344 0.69707696]\n",
      "  [0.29591986 0.66898899]\n",
      "  [0.27273591 0.67726581]\n",
      "  [0.26093138 0.70140105]\n",
      "  [0.24641853 0.67569323]\n",
      "  [0.24698151 0.64403374]\n",
      "  [0.25619636 0.61611198]\n",
      "  [0.25131554 0.58077575]\n",
      "  [0.22750389 0.57821214]\n",
      "  [0.23229368 0.55094277]\n",
      "  [0.23712738 0.51586778]\n",
      "  [0.23780283 0.48841322]\n",
      "  [0.24824957 0.45872931]\n",
      "  [0.23519892 0.43779394]\n",
      "  [0.20508094 0.42850698]\n",
      "  [0.19993501 0.42535207]\n",
      "  [0.26271884 0.42259578]]\n",
      "\n",
      " [[0.47743935 0.64982454]\n",
      "  [0.49241576 0.56337907]\n",
      "  [0.46421831 0.54233052]\n",
      "  [0.49559767 0.61660355]\n",
      "  [0.55987054 0.62814207]\n",
      "  [0.607534   0.55191558]\n",
      "  [0.63592936 0.50797974]\n",
      "  [0.65852886 0.4957214 ]\n",
      "  [0.60076205 0.55385824]\n",
      "  [0.6752477  0.59732247]\n",
      "  [0.7366364  0.59669996]\n",
      "  [0.76237024 0.59648856]\n",
      "  [0.76052618 0.64769656]\n",
      "  [0.80861737 0.64613928]\n",
      "  [0.90113158 0.61232082]\n",
      "  [0.94960358 0.58476407]\n",
      "  [0.9901736  0.51049996]\n",
      "  [0.99838732 0.51605353]\n",
      "  [0.95195396 0.45099766]\n",
      "  [0.9062974  0.40143738]]\n",
      "\n",
      " [[0.74058508 0.64455306]\n",
      "  [0.74319125 0.59246782]\n",
      "  [0.76746282 0.58500758]\n",
      "  [0.79515849 0.5981687 ]\n",
      "  [0.75218797 0.58187879]\n",
      "  [0.72874597 0.54846306]\n",
      "  [0.71648632 0.55530211]\n",
      "  [0.69320597 0.53381448]\n",
      "  [0.70380496 0.57956982]\n",
      "  [0.68629136 0.54663828]\n",
      "  [0.67623907 0.59032991]\n",
      "  [0.67322719 0.54891791]\n",
      "  [0.67787896 0.59345829]\n",
      "  [0.71192154 0.57044865]\n",
      "  [0.73725397 0.52148851]\n",
      "  [0.72791129 0.54065743]\n",
      "  [0.7355941  0.49450833]\n",
      "  [0.75705542 0.46278067]\n",
      "  [0.80239211 0.44665328]\n",
      "  [0.81752402 0.40149198]]\n",
      "\n",
      " [[0.60597751 0.65207309]\n",
      "  [0.55016705 0.60392757]\n",
      "  [0.47181399 0.64051078]\n",
      "  [0.39365243 0.64384681]\n",
      "  [0.35623989 0.59374728]\n",
      "  [0.34809174 0.59926369]\n",
      "  [0.36352813 0.58761502]\n",
      "  [0.36452774 0.63767881]\n",
      "  [0.33523586 0.64049788]\n",
      "  [0.28326369 0.60328547]\n",
      "  [0.21834238 0.63587247]\n",
      "  [0.21385061 0.62626366]\n",
      "  [0.19246369 0.60382459]\n",
      "  [0.20556535 0.60752053]\n",
      "  [0.14984806 0.66648388]\n",
      "  [0.07871854 0.6767388 ]\n",
      "  [0.0624151  0.61510688]\n",
      "  [0.00877015 0.62777373]\n",
      "  [0.00904919 0.54170532]\n",
      "  [0.00476451 0.46241335]]]\n",
      "object_starts [[0.45580925 0.68537036]\n",
      " [0.61691686 0.59070396]\n",
      " [0.24572738 0.73466051]\n",
      " [0.47743935 0.64982454]\n",
      " [0.74058508 0.64455306]\n",
      " [0.60597751 0.65207309]]\n"
     ]
    }
   ],
   "source": [
    "for key, value in trn_data.items():\n",
    "    print(f\"{key}: {len(value)}\")\n",
    "print('costs', type(trn_data[\"costs\"]))\n",
    "print('costs', trn_data[\"costs\"])\n",
    "print('paths', trn_data[\"paths\"])\n",
    "print('object_starts', trn_data[\"object_starts\"])\n"
   ]
  }
 ],
 "metadata": {
  "kernelspec": {
   "display_name": "pdquadrotor",
   "language": "python",
   "name": "python3"
  },
  "language_info": {
   "codemirror_mode": {
    "name": "ipython",
    "version": 3
   },
   "file_extension": ".py",
   "mimetype": "text/x-python",
   "name": "python",
   "nbconvert_exporter": "python",
   "pygments_lexer": "ipython3",
   "version": "3.10.16"
  },
  "widgets": {
   "application/vnd.jupyter.widget-state+json": {
    "state": {},
    "version_major": 2,
    "version_minor": 0
   }
  }
 },
 "nbformat": 4,
 "nbformat_minor": 5
}
