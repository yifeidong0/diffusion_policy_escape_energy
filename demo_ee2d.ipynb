{
 "cells": [
  {
   "cell_type": "markdown",
   "id": "970e2b9e-ccce-47b2-bccc-9471841cce44",
   "metadata": {},
   "source": [
    "## Installation required in Colab"
   ]
  },
  {
   "cell_type": "code",
   "execution_count": 1,
   "id": "tckkiSjNY0Is",
   "metadata": {
    "colab": {
     "base_uri": "https://localhost:8080/"
    },
    "id": "tckkiSjNY0Is",
    "outputId": "627b5bff-c792-4954-947f-40baab0de93c"
   },
   "outputs": [],
   "source": [
    "# ! git clone https://github.com/shaoanlu/diffusion_policy_quadrotor.git"
   ]
  },
  {
   "cell_type": "code",
   "execution_count": 2,
   "id": "7rrgEckSZEdx",
   "metadata": {
    "colab": {
     "base_uri": "https://localhost:8080/"
    },
    "id": "7rrgEckSZEdx",
    "outputId": "5cd7bcf5-5b4c-4a48-996b-7257cdf7f03e"
   },
   "outputs": [],
   "source": [
    "# %cd diffusion_policy_quadrotor\n",
    "# %ls"
   ]
  },
  {
   "cell_type": "code",
   "execution_count": 3,
   "id": "rK2Hjrq_Y4T6",
   "metadata": {
    "id": "rK2Hjrq_Y4T6"
   },
   "outputs": [],
   "source": [
    "# %%capture\n",
    "# !pip3 install torch==1.13.1 torchvision==0.14.1 diffusers==0.18.2 jax==0.4.23 jaxlib==0.4.23"
   ]
  },
  {
   "cell_type": "markdown",
   "id": "ee7a0434-3333-4502-9563-adcc12d4a413",
   "metadata": {
    "id": "ee7a0434-3333-4502-9563-adcc12d4a413"
   },
   "source": [
    "## Description\n",
    "\n",
    "This notebook demonstrate using a diffusion policy controller to drive a quadrotor moving from (0, 0) to (5, 5) with random circle obstacles presented."
   ]
  },
  {
   "cell_type": "code",
   "execution_count": 4,
   "id": "fffc0bb0-584b-4602-885f-a1cfa06d21b6",
   "metadata": {
    "id": "fffc0bb0-584b-4602-885f-a1cfa06d21b6"
   },
   "outputs": [],
   "source": [
    "%load_ext autoreload\n",
    "%autoreload 2"
   ]
  },
  {
   "cell_type": "code",
   "execution_count": 5,
   "id": "670f6c7f-93c9-47dc-b2e4-81ea8949b3f9",
   "metadata": {
    "id": "670f6c7f-93c9-47dc-b2e4-81ea8949b3f9"
   },
   "outputs": [
    {
     "name": "stderr",
     "output_type": "stream",
     "text": [
      "/home/yif/.local/lib/python3.10/site-packages/tqdm/auto.py:22: TqdmWarning: IProgress not found. Please update jupyter and ipywidgets. See https://ipywidgets.readthedocs.io/en/stable/user_install.html\n",
      "  from .autonotebook import tqdm as notebook_tqdm\n"
     ]
    }
   ],
   "source": [
    "import numpy as np\n",
    "import os\n",
    "import torch\n",
    "import yaml\n",
    "import collections\n",
    "from tqdm.auto import tqdm\n",
    "import gdown"
   ]
  },
  {
   "cell_type": "code",
   "execution_count": 6,
   "id": "fa8f1de5-924a-4889-aacc-bac7601012c5",
   "metadata": {
    "colab": {
     "base_uri": "https://localhost:8080/",
     "height": 87,
     "referenced_widgets": [
      "49a3b00a700b40f8b1de991477efe2b9",
      "fb587d9dbfa84d72af2b3c45d46c2cc1",
      "7487091f00dd4e3bba795ebab6b0f5b1",
      "a817704da5184ef6922fb679bf0c395e",
      "a3a8dd4705b64b5f9b21b2e3d4ce24b8",
      "3a953a43ed574a4c8e8ebc52d5993347",
      "1900dfab0c6e4f8a8350f2d024fc22c6",
      "a9afd6d521f44216adb119a54f531376",
      "632b2841ae2d44b18e67fe288ba136a1",
      "01969ff8ad4140328cda2a14df8fe439",
      "fca3ddf1eb6d439ba86878e00e4560fd"
     ]
    },
    "id": "fa8f1de5-924a-4889-aacc-bac7601012c5",
    "outputId": "730f9c66-b606-4840-f614-540a89379eef"
   },
   "outputs": [],
   "source": [
    "from utils.normalizers import LinearNormalizer\n",
    "from core.controllers.quadrotor_diffusion_policy import QuadrotorDiffusionPolicy, build_networks_from_config, build_noise_scheduler_from_config\n",
    "from core.controllers.quadrotor_clf_cbf_qp import QuadrotorCLFCBFController\n",
    "from core.env.planar_quadrotor import PlanarQuadrotorEnv\n",
    "from utils.visualization import visualize_quadrotor_simulation_result"
   ]
  },
  {
   "cell_type": "markdown",
   "id": "06cf3d67-3f96-457e-a634-77b6e5f2e31e",
   "metadata": {
    "id": "06cf3d67-3f96-457e-a634-77b6e5f2e31e"
   },
   "source": [
    "## Load the config file"
   ]
  },
  {
   "cell_type": "code",
   "execution_count": 7,
   "id": "0c8c8f90-8ac2-4f87-943d-e41b7ff9ff6a",
   "metadata": {
    "id": "0c8c8f90-8ac2-4f87-943d-e41b7ff9ff6a",
    "scrolled": true
   },
   "outputs": [],
   "source": [
    "with open(\"config/config_ee2d.yaml\", \"r\") as file:\n",
    "    config = yaml.safe_load(file)\n",
    "\n",
    "# Whether to use a finetuned model trained following tricks mentioned in\n",
    "# [Fine-Tuning Image-Conditional Diffusion Models is Easier than You Think](https://arxiv.org/abs/2409.11355)\n",
    "use_single_step_inference = config.get(\"controller\").get(\"common\").get(\"use_single_step_inference\", False)"
   ]
  },
  {
   "cell_type": "markdown",
   "id": "dd56c89a-520f-46b5-b9d6-ebef0160b184",
   "metadata": {
    "id": "dd56c89a-520f-46b5-b9d6-ebef0160b184"
   },
   "source": [
    "## Instantiate the controller"
   ]
  },
  {
   "cell_type": "code",
   "execution_count": 8,
   "id": "aa6e5d62",
   "metadata": {},
   "outputs": [
    {
     "data": {
      "text/plain": [
       "True"
      ]
     },
     "execution_count": 8,
     "metadata": {},
     "output_type": "execute_result"
    }
   ],
   "source": [
    "torch.cuda.is_available() # TODO"
   ]
  },
  {
   "cell_type": "code",
   "execution_count": 9,
   "id": "cb0707a7-3d66-46da-b722-2b2f42d8e099",
   "metadata": {
    "id": "cb0707a7-3d66-46da-b722-2b2f42d8e099"
   },
   "outputs": [],
   "source": [
    "# clf_cbf_controller = QuadrotorCLFCBFController(config=config)\n",
    "\n",
    "controller = QuadrotorDiffusionPolicy(\n",
    "    model=build_networks_from_config(config),\n",
    "    noise_scheduler=build_noise_scheduler_from_config(config),\n",
    "    normalizer=LinearNormalizer(),\n",
    "    clf_cbf_controller=None,  # set as clf_cbf_controller to enable CLF-CBF traj refinement\n",
    "    config=config,\n",
    "    device=\"cuda\" if torch.cuda.is_available() else \"cpu\",\n",
    ")"
   ]
  },
  {
   "cell_type": "markdown",
   "id": "cac28d88-e304-46b3-bc28-5fc54cd3705d",
   "metadata": {
    "id": "cac28d88-e304-46b3-bc28-5fc54cd3705d"
   },
   "source": [
    "## Download and load pretrained weights"
   ]
  },
  {
   "cell_type": "code",
   "execution_count": 10,
   "id": "727e3937-dd21-46a2-9fff-c41c1d653022",
   "metadata": {},
   "outputs": [],
   "source": [
    "ckpts_path = \"train/ckpt_final_100_epochs.ckpt\"\n",
    "controller.load_weights(ckpts_path)"
   ]
  },
  {
   "cell_type": "markdown",
   "id": "1f1c50bc-e529-432f-92a9-9bb3c6e9fdf7",
   "metadata": {
    "id": "1f1c50bc-e529-432f-92a9-9bb3c6e9fdf7"
   },
   "source": [
    "## Run simulation"
   ]
  },
  {
   "cell_type": "code",
   "execution_count": 11,
   "id": "eecaed67-9814-4a62-aa7f-2caf5d5b43aa",
   "metadata": {
    "id": "eecaed67-9814-4a62-aa7f-2caf5d5b43aa"
   },
   "outputs": [],
   "source": [
    "def generate_random_obstacles():\n",
    "    num_obstacles = np.random.randint(1, 8)\n",
    "    obs_center, obs_radius = np.empty((num_obstacles, 2)), np.ones((num_obstacles,))\n",
    "    for obs_idx in range(num_obstacles):  # set XY position of each obstacle\n",
    "        obs_center[obs_idx, ...] = np.random.randint(1, 8, size=(2,))\n",
    "        obs_radius[obs_idx] = np.random.uniform(0.2, 1.5)\n",
    "    return obs_center, obs_radius\n",
    "\n",
    "def encode_obstacle_info(obs_center: np.ndarray, obs_radius: np.ndarray):\n",
    "    obs_encode = np.zeros((7, 7))\n",
    "    for center, radius in zip(obs_center, obs_radius):\n",
    "        obs_encode[tuple((center-1).astype(np.int32))] = radius\n",
    "    obs_encode = obs_encode.flatten()\n",
    "    return obs_encode"
   ]
  },
  {
   "cell_type": "code",
   "execution_count": 43,
   "id": "3250c190-d380-423c-8455-21a6c1b2c093",
   "metadata": {
    "colab": {
     "base_uri": "https://localhost:8080/",
     "height": 67,
     "referenced_widgets": [
      "fa8ca951c0f54d3c965b136791c54f60",
      "14869b876e6143a9848a8421b8da93c3",
      "b00b242d48c34b739b335e6137bbec52",
      "ba8a57462eb4492880c4980ee126f888",
      "7afde10b06494393ab9b53818c580fdc",
      "bc399470fb094590a12ba13e98c1f6a8",
      "eba7a2b036374b1c9c329d884ce16ad4",
      "13066600e23245888e019523e0200005",
      "304615b68c9d496ea35928d1546df4ca",
      "3de6654be9de4d22b15fb28ad7625f57",
      "81e23a9379b34c0cb78e375d47a63a89"
     ]
    },
    "id": "3250c190-d380-423c-8455-21a6c1b2c093",
    "outputId": "4c9609f0-a944-42f7-909c-c23cab24dbf0"
   },
   "outputs": [
    {
     "name": "stdout",
     "output_type": "stream",
     "text": [
      "Start state: [0.22516923 0.66587321]\n"
     ]
    },
    {
     "name": "stderr",
     "output_type": "stream",
     "text": [
      "Eval:   0%|          | 0/20 [00:00<?, ?it/s]"
     ]
    },
    {
     "name": "stderr",
     "output_type": "stream",
     "text": [
      "Eval:   5%|▌         | 1/20 [00:00<00:10,  1.82it/s]"
     ]
    },
    {
     "name": "stdout",
     "output_type": "stream",
     "text": [
      "Step 0\n",
      "state: [0.22516923 0.66587321], action0: [0.3108871  0.55150253]\n",
      "obs  deque([array([0.22516923, 0.66587321]), array([0.22516923, 0.66587321]), array([0.22516923, 0.66587321]), array([0.22516923, 0.66587321])], maxlen=4)\n"
     ]
    },
    {
     "name": "stderr",
     "output_type": "stream",
     "text": [
      "Eval:  10%|█         | 2/20 [00:01<00:09,  1.93it/s]"
     ]
    },
    {
     "name": "stdout",
     "output_type": "stream",
     "text": [
      "Step 1\n",
      "state: [0.3108871  0.55150253], action0: [0.37945956 0.41669077]\n",
      "obs  deque([array([0.22516923, 0.66587321]), array([0.22516923, 0.66587321]), array([0.22516923, 0.66587321]), array([0.3108871 , 0.55150253])], maxlen=4)\n"
     ]
    },
    {
     "name": "stderr",
     "output_type": "stream",
     "text": [
      "Eval:  15%|█▌        | 3/20 [00:01<00:08,  1.96it/s]"
     ]
    },
    {
     "name": "stdout",
     "output_type": "stream",
     "text": [
      "Step 2\n",
      "state: [0.37945956 0.41669077], action0: [0.49507496 0.55455261]\n",
      "obs  deque([array([0.22516923, 0.66587321]), array([0.22516923, 0.66587321]), array([0.3108871 , 0.55150253]), array([0.37945956, 0.41669077])], maxlen=4)\n"
     ]
    },
    {
     "name": "stderr",
     "output_type": "stream",
     "text": [
      "Eval:  20%|██        | 4/20 [00:02<00:08,  1.98it/s]"
     ]
    },
    {
     "name": "stdout",
     "output_type": "stream",
     "text": [
      "Step 3\n",
      "state: [0.49507496 0.55455261], action0: [0.5998109  0.56883395]\n",
      "obs  deque([array([0.22516923, 0.66587321]), array([0.3108871 , 0.55150253]), array([0.37945956, 0.41669077]), array([0.49507496, 0.55455261])], maxlen=4)\n"
     ]
    },
    {
     "name": "stderr",
     "output_type": "stream",
     "text": [
      "Eval:  25%|██▌       | 5/20 [00:02<00:07,  1.98it/s]"
     ]
    },
    {
     "name": "stdout",
     "output_type": "stream",
     "text": [
      "Step 4\n",
      "state: [0.5998109  0.56883395], action0: [0.67013544 0.45330811]\n",
      "obs  deque([array([0.3108871 , 0.55150253]), array([0.37945956, 0.41669077]), array([0.49507496, 0.55455261]), array([0.5998109 , 0.56883395])], maxlen=4)\n"
     ]
    },
    {
     "name": "stderr",
     "output_type": "stream",
     "text": [
      "Eval:  30%|███       | 6/20 [00:03<00:07,  1.98it/s]"
     ]
    },
    {
     "name": "stdout",
     "output_type": "stream",
     "text": [
      "Step 5\n",
      "state: [0.67013544 0.45330811], action0: [0.71282285 0.31178591]\n",
      "obs  deque([array([0.37945956, 0.41669077]), array([0.49507496, 0.55455261]), array([0.5998109 , 0.56883395]), array([0.67013544, 0.45330811])], maxlen=4)\n"
     ]
    },
    {
     "name": "stderr",
     "output_type": "stream",
     "text": [
      "Eval:  35%|███▌      | 7/20 [00:03<00:06,  1.99it/s]"
     ]
    },
    {
     "name": "stdout",
     "output_type": "stream",
     "text": [
      "Step 6\n",
      "state: [0.71282285 0.31178591], action0: [0.75390035 0.49631569]\n",
      "obs  deque([array([0.49507496, 0.55455261]), array([0.5998109 , 0.56883395]), array([0.67013544, 0.45330811]), array([0.71282285, 0.31178591])], maxlen=4)\n"
     ]
    },
    {
     "name": "stderr",
     "output_type": "stream",
     "text": [
      "Eval:  40%|████      | 8/20 [00:04<00:06,  1.99it/s]"
     ]
    },
    {
     "name": "stdout",
     "output_type": "stream",
     "text": [
      "Step 7\n",
      "state: [0.75390035 0.49631569], action0: [0.78821403 0.58666801]\n",
      "obs  deque([array([0.5998109 , 0.56883395]), array([0.67013544, 0.45330811]), array([0.71282285, 0.31178591]), array([0.75390035, 0.49631569])], maxlen=4)\n"
     ]
    },
    {
     "name": "stderr",
     "output_type": "stream",
     "text": [
      "Eval:  45%|████▌     | 9/20 [00:04<00:05,  1.99it/s]"
     ]
    },
    {
     "name": "stdout",
     "output_type": "stream",
     "text": [
      "Step 8\n",
      "state: [0.78821403 0.58666801], action0: [0.75347626 0.46298382]\n",
      "obs  deque([array([0.67013544, 0.45330811]), array([0.71282285, 0.31178591]), array([0.75390035, 0.49631569]), array([0.78821403, 0.58666801])], maxlen=4)\n"
     ]
    },
    {
     "name": "stderr",
     "output_type": "stream",
     "text": [
      "Eval:  50%|█████     | 10/20 [00:05<00:05,  1.99it/s]"
     ]
    },
    {
     "name": "stdout",
     "output_type": "stream",
     "text": [
      "Step 9\n",
      "state: [0.75347626 0.46298382], action0: [0.73727107 0.51019019]\n",
      "obs  deque([array([0.71282285, 0.31178591]), array([0.75390035, 0.49631569]), array([0.78821403, 0.58666801]), array([0.75347626, 0.46298382])], maxlen=4)\n"
     ]
    },
    {
     "name": "stderr",
     "output_type": "stream",
     "text": [
      "Eval:  55%|█████▌    | 11/20 [00:05<00:04,  1.99it/s]"
     ]
    },
    {
     "name": "stdout",
     "output_type": "stream",
     "text": [
      "Step 10\n",
      "state: [0.73727107 0.51019019], action0: [0.82051921 0.55413306]\n",
      "obs  deque([array([0.75390035, 0.49631569]), array([0.78821403, 0.58666801]), array([0.75347626, 0.46298382]), array([0.73727107, 0.51019019])], maxlen=4)\n"
     ]
    },
    {
     "name": "stderr",
     "output_type": "stream",
     "text": [
      "Eval:  60%|██████    | 12/20 [00:06<00:04,  1.99it/s]"
     ]
    },
    {
     "name": "stdout",
     "output_type": "stream",
     "text": [
      "Step 11\n",
      "state: [0.82051921 0.55413306], action0: [0.90637136 0.49662158]\n",
      "obs  deque([array([0.78821403, 0.58666801]), array([0.75347626, 0.46298382]), array([0.73727107, 0.51019019]), array([0.82051921, 0.55413306])], maxlen=4)\n"
     ]
    },
    {
     "name": "stderr",
     "output_type": "stream",
     "text": [
      "Eval:  65%|██████▌   | 13/20 [00:06<00:03,  1.99it/s]"
     ]
    },
    {
     "name": "stdout",
     "output_type": "stream",
     "text": [
      "Step 12\n",
      "state: [0.90637136 0.49662158], action0: [0.93970853 0.423942  ]\n",
      "obs  deque([array([0.75347626, 0.46298382]), array([0.73727107, 0.51019019]), array([0.82051921, 0.55413306]), array([0.90637136, 0.49662158])], maxlen=4)\n"
     ]
    },
    {
     "name": "stderr",
     "output_type": "stream",
     "text": [
      "Eval:  70%|███████   | 14/20 [00:07<00:03,  1.99it/s]"
     ]
    },
    {
     "name": "stdout",
     "output_type": "stream",
     "text": [
      "Step 13\n",
      "state: [0.93970853 0.423942  ], action0: [0.97792411 0.39469504]\n",
      "obs  deque([array([0.73727107, 0.51019019]), array([0.82051921, 0.55413306]), array([0.90637136, 0.49662158]), array([0.93970853, 0.423942  ])], maxlen=4)\n"
     ]
    },
    {
     "name": "stderr",
     "output_type": "stream",
     "text": [
      "Eval:  75%|███████▌  | 15/20 [00:07<00:02,  1.99it/s]"
     ]
    },
    {
     "name": "stdout",
     "output_type": "stream",
     "text": [
      "Step 14\n",
      "state: [0.97792411 0.39469504], action0: [0.95410979 0.42643958]\n",
      "obs  deque([array([0.82051921, 0.55413306]), array([0.90637136, 0.49662158]), array([0.93970853, 0.423942  ]), array([0.97792411, 0.39469504])], maxlen=4)\n"
     ]
    },
    {
     "name": "stderr",
     "output_type": "stream",
     "text": [
      "Eval:  80%|████████  | 16/20 [00:08<00:02,  1.98it/s]"
     ]
    },
    {
     "name": "stdout",
     "output_type": "stream",
     "text": [
      "Step 15\n",
      "state: [0.95410979 0.42643958], action0: [0.96569681 0.27568299]\n",
      "obs  deque([array([0.90637136, 0.49662158]), array([0.93970853, 0.423942  ]), array([0.97792411, 0.39469504]), array([0.95410979, 0.42643958])], maxlen=4)\n"
     ]
    },
    {
     "name": "stderr",
     "output_type": "stream",
     "text": [
      "Eval:  85%|████████▌ | 17/20 [00:08<00:01,  1.98it/s]"
     ]
    },
    {
     "name": "stdout",
     "output_type": "stream",
     "text": [
      "Step 16\n",
      "state: [0.96569681 0.27568299], action0: [0.97607476 0.19309697]\n",
      "obs  deque([array([0.93970853, 0.423942  ]), array([0.97792411, 0.39469504]), array([0.95410979, 0.42643958]), array([0.96569681, 0.27568299])], maxlen=4)\n"
     ]
    },
    {
     "name": "stderr",
     "output_type": "stream",
     "text": [
      "Eval:  90%|█████████ | 18/20 [00:09<00:01,  1.98it/s]"
     ]
    },
    {
     "name": "stdout",
     "output_type": "stream",
     "text": [
      "Step 17\n",
      "state: [0.97607476 0.19309697], action0: [0.94313353 0.16165024]\n",
      "obs  deque([array([0.97792411, 0.39469504]), array([0.95410979, 0.42643958]), array([0.96569681, 0.27568299]), array([0.97607476, 0.19309697])], maxlen=4)\n"
     ]
    },
    {
     "name": "stderr",
     "output_type": "stream",
     "text": [
      "Eval:  95%|█████████▌| 19/20 [00:09<00:00,  1.98it/s]"
     ]
    },
    {
     "name": "stdout",
     "output_type": "stream",
     "text": [
      "Step 18\n",
      "state: [0.94313353 0.16165024], action0: [0.93243098 0.15727219]\n",
      "obs  deque([array([0.95410979, 0.42643958]), array([0.96569681, 0.27568299]), array([0.97607476, 0.19309697]), array([0.94313353, 0.16165024])], maxlen=4)\n"
     ]
    },
    {
     "name": "stderr",
     "output_type": "stream",
     "text": [
      "Eval: 100%|██████████| 20/20 [00:10<00:00,  1.98it/s]"
     ]
    },
    {
     "name": "stdout",
     "output_type": "stream",
     "text": [
      "Step 19\n",
      "state: [0.93243098 0.15727219], action0: [0.93131471 0.15635768]\n",
      "obs  deque([array([0.96569681, 0.27568299]), array([0.97607476, 0.19309697]), array([0.94313353, 0.16165024]), array([0.93243098, 0.15727219])], maxlen=4)\n"
     ]
    },
    {
     "name": "stderr",
     "output_type": "stream",
     "text": [
      "Eval: 21it [00:10,  1.98it/s]                        "
     ]
    },
    {
     "name": "stdout",
     "output_type": "stream",
     "text": [
      "Step 20\n",
      "state: [0.93131471 0.15635768], action0: [0.93107057 0.15777409]\n",
      "obs  deque([array([0.97607476, 0.19309697]), array([0.94313353, 0.16165024]), array([0.93243098, 0.15727219]), array([0.93131471, 0.15635768])], maxlen=4)\n"
     ]
    },
    {
     "name": "stderr",
     "output_type": "stream",
     "text": [
      "\n"
     ]
    }
   ],
   "source": [
    "from dataset.escape_from_u_generator import generate_u_obstacles\n",
    "np.random.seed(1223)\n",
    "\n",
    "# Env parameters\n",
    "max_steps = 20\n",
    "# dt = 0.01\n",
    "# ratio_sim_ts = 10  # ratio of sampling time between the simulator and the controller\n",
    "\n",
    "# get first observation\n",
    "centers, rads = generate_u_obstacles()\n",
    "start_x = np.random.uniform(centers[0][0] + rads[0][0], centers[2][0] - rads[2][0])\n",
    "start_y = np.random.uniform(centers[1][1] + rads[1][1], 0.7)\n",
    "state = np.array([start_x, start_y])  # [y, y_dot, z, z_dot, phi, phi_dot]\n",
    "print(f\"Start state: {state}\")\n",
    "states = [state]  # `states` is a list containing the states over time\n",
    "obs_encode = np.hstack([centers, rads]).flatten()\n",
    "# controls = [np.array([0, 0])]\n",
    "# obs_center, obs_radius = generate_random_obstacles()\n",
    "# obs_encode = encode_obstacle_info(obs_center, obs_radius)\n",
    "obs = {\n",
    "    \"state\": collections.deque([state] * controller.obs_horizon, maxlen=controller.obs_horizon),\n",
    "    \"obs_encode\": [obs_encode],\n",
    "    # \"obs_center\": obs_center,\n",
    "    # \"obs_radius\": obs_radius,\n",
    "}\n",
    "\n",
    "# termination params\n",
    "done = False\n",
    "step_idx = 0\n",
    "take_only_first_action = 1\n",
    "with tqdm(total=max_steps, desc=\"Eval\") as pbar:\n",
    "    while not done:\n",
    "        # controller inference\n",
    "        action = controller.predict_action(obs) # TODO: out of [[-1,1],[-1,1],] bounds\n",
    "\n",
    "        # execute action_horizon steps without replanning\n",
    "        # print(f\"Start state: {start_x}, {start_y}\")\n",
    "        print(f\"Step {step_idx}\")\n",
    "        print(f\"state: {state}, action0: {action[0]}\")\n",
    "        print(f\"obs \", obs[\"state\"])\n",
    "        for i in range(action.shape[0]):\n",
    "            state = action[i]\n",
    "            # save observations and controls\n",
    "            obs[\"state\"].append(state.copy())\n",
    "            states.append(state.copy())\n",
    "\n",
    "            # update progress bar\n",
    "            step_idx += 1\n",
    "            pbar.update(1)\n",
    "            if step_idx > max_steps:\n",
    "                done = True\n",
    "            if take_only_first_action or done:\n",
    "                break"
   ]
  },
  {
   "cell_type": "markdown",
   "id": "602bdd60-2b90-48db-a29b-7f8645501142",
   "metadata": {
    "id": "602bdd60-2b90-48db-a29b-7f8645501142"
   },
   "source": [
    "## Visualize result"
   ]
  },
  {
   "cell_type": "code",
   "execution_count": 44,
   "id": "b92bcec2-d95d-4361-9b92-991346d83950",
   "metadata": {
    "colab": {
     "base_uri": "https://localhost:8080/",
     "height": 435
    },
    "id": "b92bcec2-d95d-4361-9b92-991346d83950",
    "outputId": "0d8c5a83-8002-4deb-a87b-48a04af6d0af"
   },
   "outputs": [
    {
     "data": {
      "image/png": "[encoded data removed]",
      "text/plain": [
       "<Figure size 640x480 with 1 Axes>"
      ]
     },
     "metadata": {},
     "output_type": "display_data"
    }
   ],
   "source": [
    "# states = np.array(states)\n",
    "# visualize_quadrotor_simulation_result(sim, states, obs_center=obs_center, obs_radius=obs_radius)\n",
    "from dataset.escape_from_u_generator import plot\n",
    "\n",
    "plot(states, None, centers, rads)"
   ]
  },
  {
   "cell_type": "code",
   "execution_count": null,
   "id": "e7d55888",
   "metadata": {},
   "outputs": [],
   "source": []
  }
 ],
 "metadata": {
  "accelerator": "GPU",
  "colab": {
   "gpuType": "T4",
   "provenance": []
  },
  "kernelspec": {
   "display_name": "pdquadrotor",
   "language": "python",
   "name": "python3"
  },
  "language_info": {
   "codemirror_mode": {
    "name": "ipython",
    "version": 3
   },
   "file_extension": ".py",
   "mimetype": "text/x-python",
   "name": "python",
   "nbconvert_exporter": "python",
   "pygments_lexer": "ipython3",
   "version": "3.10.16"
  },
  "widgets": {
   "application/vnd.jupyter.widget-state+json": {
    "state": {},
    "version_major": 2,
    "version_minor": 0
   }
  }
 },
 "nbformat": 4,
 "nbformat_minor": 5
}
